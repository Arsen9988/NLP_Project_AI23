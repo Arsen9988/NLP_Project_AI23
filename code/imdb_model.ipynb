{
 "cells": [
  {
   "cell_type": "code",
   "execution_count": 1,
   "metadata": {},
   "outputs": [
    {
     "name": "stderr",
     "output_type": "stream",
     "text": [
      "d:\\workdir\\NLP_Project_AI23\\.venv\\Lib\\site-packages\\tqdm\\auto.py:21: TqdmWarning: IProgress not found. Please update jupyter and ipywidgets. See https://ipywidgets.readthedocs.io/en/stable/user_install.html\n",
      "  from .autonotebook import tqdm as notebook_tqdm\n"
     ]
    }
   ],
   "source": [
    "from transformers import pipeline\n",
    "from transformers import AutoTokenizer, TFAutoModelForSequenceClassification"
   ]
  },
  {
   "cell_type": "code",
   "execution_count": 2,
   "metadata": {},
   "outputs": [],
   "source": [
    "import pandas as pd"
   ]
  },
  {
   "cell_type": "code",
   "execution_count": 3,
   "metadata": {},
   "outputs": [
    {
     "name": "stdout",
     "output_type": "stream",
     "text": [
      "WARNING:tensorflow:From d:\\workdir\\NLP_Project_AI23\\.venv\\Lib\\site-packages\\tf_keras\\src\\losses.py:2976: The name tf.losses.sparse_softmax_cross_entropy is deprecated. Please use tf.compat.v1.losses.sparse_softmax_cross_entropy instead.\n",
      "\n",
      "WARNING:tensorflow:From d:\\workdir\\NLP_Project_AI23\\.venv\\Lib\\site-packages\\tf_keras\\src\\backend.py:873: The name tf.get_default_graph is deprecated. Please use tf.compat.v1.get_default_graph instead.\n",
      "\n"
     ]
    },
    {
     "name": "stderr",
     "output_type": "stream",
     "text": [
      "All PyTorch model weights were used when initializing TFDistilBertForSequenceClassification.\n",
      "\n",
      "All the weights of TFDistilBertForSequenceClassification were initialized from the PyTorch model.\n",
      "If your task is similar to the task the model of the checkpoint was trained on, you can already use TFDistilBertForSequenceClassification for predictions without further training.\n"
     ]
    }
   ],
   "source": [
    "model = TFAutoModelForSequenceClassification.from_pretrained(\"sarahai/movie-sentiment-analysis\")\n",
    "\n",
    "tokenizer = AutoTokenizer.from_pretrained(\"sarahai/movie-sentiment-analysis\", truncation = True, max_length = 512, padding = True)"
   ]
  },
  {
   "cell_type": "code",
   "execution_count": 4,
   "metadata": {},
   "outputs": [],
   "source": [
    "\n",
    "#classifier = pipeline(\"sentiment-analysis\", model=model, tokenizer=tokenizer)"
   ]
  },
  {
   "cell_type": "code",
   "execution_count": 5,
   "metadata": {},
   "outputs": [
    {
     "name": "stderr",
     "output_type": "stream",
     "text": [
      "Device set to use 0\n"
     ]
    }
   ],
   "source": [
    "classifier = pipeline(\"sentiment-analysis\", model = model, tokenizer = tokenizer)"
   ]
  },
  {
   "cell_type": "code",
   "execution_count": 6,
   "metadata": {},
   "outputs": [],
   "source": [
    "df = pd.read_csv('..\\data\\IMDB Dataset.csv')"
   ]
  },
  {
   "cell_type": "code",
   "execution_count": 7,
   "metadata": {},
   "outputs": [
    {
     "data": {
      "text/html": [
       "<div>\n",
       "<style scoped>\n",
       "    .dataframe tbody tr th:only-of-type {\n",
       "        vertical-align: middle;\n",
       "    }\n",
       "\n",
       "    .dataframe tbody tr th {\n",
       "        vertical-align: top;\n",
       "    }\n",
       "\n",
       "    .dataframe thead th {\n",
       "        text-align: right;\n",
       "    }\n",
       "</style>\n",
       "<table border=\"1\" class=\"dataframe\">\n",
       "  <thead>\n",
       "    <tr style=\"text-align: right;\">\n",
       "      <th></th>\n",
       "      <th>review</th>\n",
       "      <th>sentiment</th>\n",
       "    </tr>\n",
       "  </thead>\n",
       "  <tbody>\n",
       "    <tr>\n",
       "      <th>0</th>\n",
       "      <td>One of the other reviewers has mentioned that ...</td>\n",
       "      <td>positive</td>\n",
       "    </tr>\n",
       "    <tr>\n",
       "      <th>1</th>\n",
       "      <td>A wonderful little production. &lt;br /&gt;&lt;br /&gt;The...</td>\n",
       "      <td>positive</td>\n",
       "    </tr>\n",
       "    <tr>\n",
       "      <th>2</th>\n",
       "      <td>I thought this was a wonderful way to spend ti...</td>\n",
       "      <td>positive</td>\n",
       "    </tr>\n",
       "    <tr>\n",
       "      <th>3</th>\n",
       "      <td>Basically there's a family where a little boy ...</td>\n",
       "      <td>negative</td>\n",
       "    </tr>\n",
       "    <tr>\n",
       "      <th>4</th>\n",
       "      <td>Petter Mattei's \"Love in the Time of Money\" is...</td>\n",
       "      <td>positive</td>\n",
       "    </tr>\n",
       "  </tbody>\n",
       "</table>\n",
       "</div>"
      ],
      "text/plain": [
       "                                              review sentiment\n",
       "0  One of the other reviewers has mentioned that ...  positive\n",
       "1  A wonderful little production. <br /><br />The...  positive\n",
       "2  I thought this was a wonderful way to spend ti...  positive\n",
       "3  Basically there's a family where a little boy ...  negative\n",
       "4  Petter Mattei's \"Love in the Time of Money\" is...  positive"
      ]
     },
     "execution_count": 7,
     "metadata": {},
     "output_type": "execute_result"
    }
   ],
   "source": [
    "df.head()"
   ]
  },
  {
   "cell_type": "code",
   "execution_count": 8,
   "metadata": {},
   "outputs": [
    {
     "data": {
      "text/html": [
       "<div>\n",
       "<style scoped>\n",
       "    .dataframe tbody tr th:only-of-type {\n",
       "        vertical-align: middle;\n",
       "    }\n",
       "\n",
       "    .dataframe tbody tr th {\n",
       "        vertical-align: top;\n",
       "    }\n",
       "\n",
       "    .dataframe thead th {\n",
       "        text-align: right;\n",
       "    }\n",
       "</style>\n",
       "<table border=\"1\" class=\"dataframe\">\n",
       "  <thead>\n",
       "    <tr style=\"text-align: right;\">\n",
       "      <th></th>\n",
       "      <th>review</th>\n",
       "      <th>sentiment</th>\n",
       "    </tr>\n",
       "  </thead>\n",
       "  <tbody>\n",
       "    <tr>\n",
       "      <th>3</th>\n",
       "      <td>Basically there's a family where a little boy ...</td>\n",
       "      <td>negative</td>\n",
       "    </tr>\n",
       "    <tr>\n",
       "      <th>7</th>\n",
       "      <td>This show was an amazing, fresh &amp; innovative i...</td>\n",
       "      <td>negative</td>\n",
       "    </tr>\n",
       "    <tr>\n",
       "      <th>8</th>\n",
       "      <td>Encouraged by the positive comments about this...</td>\n",
       "      <td>negative</td>\n",
       "    </tr>\n",
       "    <tr>\n",
       "      <th>10</th>\n",
       "      <td>Phil the Alien is one of those quirky films wh...</td>\n",
       "      <td>negative</td>\n",
       "    </tr>\n",
       "    <tr>\n",
       "      <th>11</th>\n",
       "      <td>I saw this movie when I was about 12 when it c...</td>\n",
       "      <td>negative</td>\n",
       "    </tr>\n",
       "    <tr>\n",
       "      <th>...</th>\n",
       "      <td>...</td>\n",
       "      <td>...</td>\n",
       "    </tr>\n",
       "    <tr>\n",
       "      <th>49994</th>\n",
       "      <td>This is your typical junk comedy.&lt;br /&gt;&lt;br /&gt;T...</td>\n",
       "      <td>negative</td>\n",
       "    </tr>\n",
       "    <tr>\n",
       "      <th>49996</th>\n",
       "      <td>Bad plot, bad dialogue, bad acting, idiotic di...</td>\n",
       "      <td>negative</td>\n",
       "    </tr>\n",
       "    <tr>\n",
       "      <th>49997</th>\n",
       "      <td>I am a Catholic taught in parochial elementary...</td>\n",
       "      <td>negative</td>\n",
       "    </tr>\n",
       "    <tr>\n",
       "      <th>49998</th>\n",
       "      <td>I'm going to have to disagree with the previou...</td>\n",
       "      <td>negative</td>\n",
       "    </tr>\n",
       "    <tr>\n",
       "      <th>49999</th>\n",
       "      <td>No one expects the Star Trek movies to be high...</td>\n",
       "      <td>negative</td>\n",
       "    </tr>\n",
       "  </tbody>\n",
       "</table>\n",
       "<p>25000 rows × 2 columns</p>\n",
       "</div>"
      ],
      "text/plain": [
       "                                                  review sentiment\n",
       "3      Basically there's a family where a little boy ...  negative\n",
       "7      This show was an amazing, fresh & innovative i...  negative\n",
       "8      Encouraged by the positive comments about this...  negative\n",
       "10     Phil the Alien is one of those quirky films wh...  negative\n",
       "11     I saw this movie when I was about 12 when it c...  negative\n",
       "...                                                  ...       ...\n",
       "49994  This is your typical junk comedy.<br /><br />T...  negative\n",
       "49996  Bad plot, bad dialogue, bad acting, idiotic di...  negative\n",
       "49997  I am a Catholic taught in parochial elementary...  negative\n",
       "49998  I'm going to have to disagree with the previou...  negative\n",
       "49999  No one expects the Star Trek movies to be high...  negative\n",
       "\n",
       "[25000 rows x 2 columns]"
      ]
     },
     "execution_count": 8,
     "metadata": {},
     "output_type": "execute_result"
    }
   ],
   "source": [
    "df[df['sentiment'] == 'negative']"
   ]
  },
  {
   "cell_type": "code",
   "execution_count": 9,
   "metadata": {},
   "outputs": [
    {
     "data": {
      "text/plain": [
       "[{'label': 'LABEL_0', 'score': 0.9784377813339233},\n",
       " {'label': 'LABEL_0', 'score': 0.9851534366607666},\n",
       " {'label': 'LABEL_1', 'score': 0.8562858700752258},\n",
       " {'label': 'LABEL_0', 'score': 0.9255669713020325}]"
      ]
     },
     "execution_count": 9,
     "metadata": {},
     "output_type": "execute_result"
    }
   ],
   "source": [
    "classifier([df['review'][7],\n",
    "            df['review'][8],\n",
    "            df['review'][10],\n",
    "            df['review'][11],])"
   ]
  },
  {
   "cell_type": "markdown",
   "metadata": {},
   "source": [
    "Label_1 seems to be \"positive\" and Label_0 seems to be \"negative\":"
   ]
  },
  {
   "cell_type": "code",
   "execution_count": 10,
   "metadata": {},
   "outputs": [
    {
     "data": {
      "text/plain": [
       "[{'label': 'LABEL_1', 'score': 0.9531933069229126},\n",
       " {'label': 'LABEL_0', 'score': 0.9388782978057861}]"
      ]
     },
     "execution_count": 10,
     "metadata": {},
     "output_type": "execute_result"
    }
   ],
   "source": [
    "classifier(['I really enjoyed this movie',\n",
    "            'This movie was terrible',\n",
    "            ])"
   ]
  },
  {
   "cell_type": "markdown",
   "metadata": {},
   "source": [
    "- Change the test's labels according to the model's labels;\n",
    "- Perform train/test split;\n",
    "- Apply the model on the test data to count Accuracy"
   ]
  },
  {
   "cell_type": "code",
   "execution_count": 11,
   "metadata": {},
   "outputs": [],
   "source": [
    "df_lbld = df.copy()"
   ]
  },
  {
   "cell_type": "code",
   "execution_count": 12,
   "metadata": {},
   "outputs": [
    {
     "name": "stderr",
     "output_type": "stream",
     "text": [
      "C:\\Users\\Mary\\AppData\\Local\\Temp\\ipykernel_11916\\2962544286.py:1: FutureWarning: ChainedAssignmentError: behaviour will change in pandas 3.0!\n",
      "You are setting values through chained assignment. Currently this works in certain cases, but when using Copy-on-Write (which will become the default behaviour in pandas 3.0) this will never work to update the original DataFrame or Series, because the intermediate object on which we are setting values will behave as a copy.\n",
      "A typical example is when you are setting values in a column of a DataFrame, like:\n",
      "\n",
      "df[\"col\"][row_indexer] = value\n",
      "\n",
      "Use `df.loc[row_indexer, \"col\"] = values` instead, to perform the assignment in a single step and ensure this keeps updating the original `df`.\n",
      "\n",
      "See the caveats in the documentation: https://pandas.pydata.org/pandas-docs/stable/user_guide/indexing.html#returning-a-view-versus-a-copy\n",
      "\n",
      "  df_lbld['sentiment'][df_lbld['sentiment'] == 'negative'] = 'LABEL_0'\n"
     ]
    }
   ],
   "source": [
    "df_lbld['sentiment'][df_lbld['sentiment'] == 'negative'] = 'LABEL_0'"
   ]
  },
  {
   "cell_type": "code",
   "execution_count": 13,
   "metadata": {},
   "outputs": [
    {
     "name": "stderr",
     "output_type": "stream",
     "text": [
      "C:\\Users\\Mary\\AppData\\Local\\Temp\\ipykernel_11916\\3487013271.py:1: FutureWarning: ChainedAssignmentError: behaviour will change in pandas 3.0!\n",
      "You are setting values through chained assignment. Currently this works in certain cases, but when using Copy-on-Write (which will become the default behaviour in pandas 3.0) this will never work to update the original DataFrame or Series, because the intermediate object on which we are setting values will behave as a copy.\n",
      "A typical example is when you are setting values in a column of a DataFrame, like:\n",
      "\n",
      "df[\"col\"][row_indexer] = value\n",
      "\n",
      "Use `df.loc[row_indexer, \"col\"] = values` instead, to perform the assignment in a single step and ensure this keeps updating the original `df`.\n",
      "\n",
      "See the caveats in the documentation: https://pandas.pydata.org/pandas-docs/stable/user_guide/indexing.html#returning-a-view-versus-a-copy\n",
      "\n",
      "  df_lbld['sentiment'][df_lbld['sentiment'] == 'positive'] = 'LABEL_1'\n"
     ]
    }
   ],
   "source": [
    "df_lbld['sentiment'][df_lbld['sentiment'] == 'positive'] = 'LABEL_1'"
   ]
  },
  {
   "cell_type": "code",
   "execution_count": 14,
   "metadata": {},
   "outputs": [
    {
     "data": {
      "text/html": [
       "<div>\n",
       "<style scoped>\n",
       "    .dataframe tbody tr th:only-of-type {\n",
       "        vertical-align: middle;\n",
       "    }\n",
       "\n",
       "    .dataframe tbody tr th {\n",
       "        vertical-align: top;\n",
       "    }\n",
       "\n",
       "    .dataframe thead th {\n",
       "        text-align: right;\n",
       "    }\n",
       "</style>\n",
       "<table border=\"1\" class=\"dataframe\">\n",
       "  <thead>\n",
       "    <tr style=\"text-align: right;\">\n",
       "      <th></th>\n",
       "      <th>review</th>\n",
       "      <th>sentiment</th>\n",
       "    </tr>\n",
       "  </thead>\n",
       "  <tbody>\n",
       "    <tr>\n",
       "      <th>0</th>\n",
       "      <td>One of the other reviewers has mentioned that ...</td>\n",
       "      <td>positive</td>\n",
       "    </tr>\n",
       "    <tr>\n",
       "      <th>1</th>\n",
       "      <td>A wonderful little production. &lt;br /&gt;&lt;br /&gt;The...</td>\n",
       "      <td>positive</td>\n",
       "    </tr>\n",
       "    <tr>\n",
       "      <th>2</th>\n",
       "      <td>I thought this was a wonderful way to spend ti...</td>\n",
       "      <td>positive</td>\n",
       "    </tr>\n",
       "    <tr>\n",
       "      <th>3</th>\n",
       "      <td>Basically there's a family where a little boy ...</td>\n",
       "      <td>negative</td>\n",
       "    </tr>\n",
       "    <tr>\n",
       "      <th>4</th>\n",
       "      <td>Petter Mattei's \"Love in the Time of Money\" is...</td>\n",
       "      <td>positive</td>\n",
       "    </tr>\n",
       "  </tbody>\n",
       "</table>\n",
       "</div>"
      ],
      "text/plain": [
       "                                              review sentiment\n",
       "0  One of the other reviewers has mentioned that ...  positive\n",
       "1  A wonderful little production. <br /><br />The...  positive\n",
       "2  I thought this was a wonderful way to spend ti...  positive\n",
       "3  Basically there's a family where a little boy ...  negative\n",
       "4  Petter Mattei's \"Love in the Time of Money\" is...  positive"
      ]
     },
     "execution_count": 14,
     "metadata": {},
     "output_type": "execute_result"
    }
   ],
   "source": [
    "df.head()"
   ]
  },
  {
   "cell_type": "code",
   "execution_count": 15,
   "metadata": {},
   "outputs": [],
   "source": [
    "df_lbld['review'] = df_lbld['review'].str.replace('\"', ' \\' ')"
   ]
  },
  {
   "cell_type": "code",
   "execution_count": 16,
   "metadata": {},
   "outputs": [],
   "source": [
    "#df_lbld['review'] = df_lbld['review'].apply(lambda x: tokenizer.decode(tokenizer.encode(x, truncation=True, max_length=512)))"
   ]
  },
  {
   "cell_type": "code",
   "execution_count": 17,
   "metadata": {},
   "outputs": [],
   "source": [
    "tokenized = tokenizer(df_lbld['review'].tolist(), truncation=True, padding=True, return_tensors='tf')"
   ]
  },
  {
   "cell_type": "code",
   "execution_count": 18,
   "metadata": {},
   "outputs": [
    {
     "data": {
      "text/plain": [
       "{'input_ids': <tf.Tensor: shape=(50000, 512), dtype=int32, numpy=\n",
       "array([[ 101, 2028, 1997, ...,    0,    0,    0],\n",
       "       [ 101, 1037, 6919, ...,    0,    0,    0],\n",
       "       [ 101, 1045, 2245, ...,    0,    0,    0],\n",
       "       ...,\n",
       "       [ 101, 1045, 2572, ...,    0,    0,    0],\n",
       "       [ 101, 1045, 1005, ...,    0,    0,    0],\n",
       "       [ 101, 2053, 2028, ...,    0,    0,    0]], dtype=int32)>, 'attention_mask': <tf.Tensor: shape=(50000, 512), dtype=int32, numpy=\n",
       "array([[1, 1, 1, ..., 0, 0, 0],\n",
       "       [1, 1, 1, ..., 0, 0, 0],\n",
       "       [1, 1, 1, ..., 0, 0, 0],\n",
       "       ...,\n",
       "       [1, 1, 1, ..., 0, 0, 0],\n",
       "       [1, 1, 1, ..., 0, 0, 0],\n",
       "       [1, 1, 1, ..., 0, 0, 0]], dtype=int32)>}"
      ]
     },
     "execution_count": 18,
     "metadata": {},
     "output_type": "execute_result"
    }
   ],
   "source": [
    "tokenized"
   ]
  },
  {
   "cell_type": "code",
   "execution_count": 19,
   "metadata": {},
   "outputs": [],
   "source": [
    "df_lbld['reviews'] = tokenized['input_ids'].numpy().tolist()\n",
    "df_lbld['attention_mask'] = tokenized['attention_mask'].numpy().tolist()"
   ]
  },
  {
   "cell_type": "code",
   "execution_count": 20,
   "metadata": {},
   "outputs": [],
   "source": [
    "df_lbld['reviews_decoded'] = df_lbld['reviews'].apply(lambda x: tokenizer.decode(x))"
   ]
  },
  {
   "cell_type": "code",
   "execution_count": 21,
   "metadata": {},
   "outputs": [
    {
     "data": {
      "text/html": [
       "<div>\n",
       "<style scoped>\n",
       "    .dataframe tbody tr th:only-of-type {\n",
       "        vertical-align: middle;\n",
       "    }\n",
       "\n",
       "    .dataframe tbody tr th {\n",
       "        vertical-align: top;\n",
       "    }\n",
       "\n",
       "    .dataframe thead th {\n",
       "        text-align: right;\n",
       "    }\n",
       "</style>\n",
       "<table border=\"1\" class=\"dataframe\">\n",
       "  <thead>\n",
       "    <tr style=\"text-align: right;\">\n",
       "      <th></th>\n",
       "      <th>review</th>\n",
       "      <th>sentiment</th>\n",
       "      <th>reviews</th>\n",
       "      <th>attention_mask</th>\n",
       "      <th>reviews_decoded</th>\n",
       "    </tr>\n",
       "  </thead>\n",
       "  <tbody>\n",
       "    <tr>\n",
       "      <th>0</th>\n",
       "      <td>One of the other reviewers has mentioned that ...</td>\n",
       "      <td>LABEL_1</td>\n",
       "      <td>[101, 2028, 1997, 1996, 2060, 15814, 2038, 385...</td>\n",
       "      <td>[1, 1, 1, 1, 1, 1, 1, 1, 1, 1, 1, 1, 1, 1, 1, ...</td>\n",
       "      <td>[CLS] one of the other reviewers has mentioned...</td>\n",
       "    </tr>\n",
       "    <tr>\n",
       "      <th>1</th>\n",
       "      <td>A wonderful little production. &lt;br /&gt;&lt;br /&gt;The...</td>\n",
       "      <td>LABEL_1</td>\n",
       "      <td>[101, 1037, 6919, 2210, 2537, 1012, 1026, 7987...</td>\n",
       "      <td>[1, 1, 1, 1, 1, 1, 1, 1, 1, 1, 1, 1, 1, 1, 1, ...</td>\n",
       "      <td>[CLS] a wonderful little production. &lt; br / &gt; ...</td>\n",
       "    </tr>\n",
       "    <tr>\n",
       "      <th>2</th>\n",
       "      <td>I thought this was a wonderful way to spend ti...</td>\n",
       "      <td>LABEL_1</td>\n",
       "      <td>[101, 1045, 2245, 2023, 2001, 1037, 6919, 2126...</td>\n",
       "      <td>[1, 1, 1, 1, 1, 1, 1, 1, 1, 1, 1, 1, 1, 1, 1, ...</td>\n",
       "      <td>[CLS] i thought this was a wonderful way to sp...</td>\n",
       "    </tr>\n",
       "    <tr>\n",
       "      <th>3</th>\n",
       "      <td>Basically there's a family where a little boy ...</td>\n",
       "      <td>LABEL_0</td>\n",
       "      <td>[101, 10468, 2045, 1005, 1055, 1037, 2155, 207...</td>\n",
       "      <td>[1, 1, 1, 1, 1, 1, 1, 1, 1, 1, 1, 1, 1, 1, 1, ...</td>\n",
       "      <td>[CLS] basically there's a family where a littl...</td>\n",
       "    </tr>\n",
       "    <tr>\n",
       "      <th>4</th>\n",
       "      <td>Petter Mattei's  ' Love in the Time of Money '...</td>\n",
       "      <td>LABEL_1</td>\n",
       "      <td>[101, 9004, 3334, 4717, 7416, 1005, 1055, 1005...</td>\n",
       "      <td>[1, 1, 1, 1, 1, 1, 1, 1, 1, 1, 1, 1, 1, 1, 1, ...</td>\n",
       "      <td>[CLS] petter mattei's'love in the time of mone...</td>\n",
       "    </tr>\n",
       "  </tbody>\n",
       "</table>\n",
       "</div>"
      ],
      "text/plain": [
       "                                              review sentiment  \\\n",
       "0  One of the other reviewers has mentioned that ...   LABEL_1   \n",
       "1  A wonderful little production. <br /><br />The...   LABEL_1   \n",
       "2  I thought this was a wonderful way to spend ti...   LABEL_1   \n",
       "3  Basically there's a family where a little boy ...   LABEL_0   \n",
       "4  Petter Mattei's  ' Love in the Time of Money '...   LABEL_1   \n",
       "\n",
       "                                             reviews  \\\n",
       "0  [101, 2028, 1997, 1996, 2060, 15814, 2038, 385...   \n",
       "1  [101, 1037, 6919, 2210, 2537, 1012, 1026, 7987...   \n",
       "2  [101, 1045, 2245, 2023, 2001, 1037, 6919, 2126...   \n",
       "3  [101, 10468, 2045, 1005, 1055, 1037, 2155, 207...   \n",
       "4  [101, 9004, 3334, 4717, 7416, 1005, 1055, 1005...   \n",
       "\n",
       "                                      attention_mask  \\\n",
       "0  [1, 1, 1, 1, 1, 1, 1, 1, 1, 1, 1, 1, 1, 1, 1, ...   \n",
       "1  [1, 1, 1, 1, 1, 1, 1, 1, 1, 1, 1, 1, 1, 1, 1, ...   \n",
       "2  [1, 1, 1, 1, 1, 1, 1, 1, 1, 1, 1, 1, 1, 1, 1, ...   \n",
       "3  [1, 1, 1, 1, 1, 1, 1, 1, 1, 1, 1, 1, 1, 1, 1, ...   \n",
       "4  [1, 1, 1, 1, 1, 1, 1, 1, 1, 1, 1, 1, 1, 1, 1, ...   \n",
       "\n",
       "                                     reviews_decoded  \n",
       "0  [CLS] one of the other reviewers has mentioned...  \n",
       "1  [CLS] a wonderful little production. < br / > ...  \n",
       "2  [CLS] i thought this was a wonderful way to sp...  \n",
       "3  [CLS] basically there's a family where a littl...  \n",
       "4  [CLS] petter mattei's'love in the time of mone...  "
      ]
     },
     "execution_count": 21,
     "metadata": {},
     "output_type": "execute_result"
    }
   ],
   "source": [
    "df_lbld.head()"
   ]
  },
  {
   "cell_type": "code",
   "execution_count": 22,
   "metadata": {},
   "outputs": [],
   "source": [
    "df_lbld['reviews_decoded'] = df_lbld['reviews_decoded'].str.replace(r'^\\[CLS\\]', '', regex=True)"
   ]
  },
  {
   "cell_type": "code",
   "execution_count": 23,
   "metadata": {},
   "outputs": [],
   "source": [
    "df_lbld['reviews_decoded'] = df_lbld['reviews_decoded'].str.replace(r'\\[SEP\\]$', '', regex=True)"
   ]
  },
  {
   "cell_type": "code",
   "execution_count": 24,
   "metadata": {},
   "outputs": [],
   "source": [
    "df_lbld['reviews_decoded'] = df_lbld['reviews_decoded'].str.replace(r'\\[PAD\\]', '', regex=True)\n",
    "df_lbld['reviews_decoded'] = df_lbld['reviews_decoded'].str.replace(r'< br / >', '', regex=True)"
   ]
  },
  {
   "cell_type": "code",
   "execution_count": 25,
   "metadata": {},
   "outputs": [
    {
     "data": {
      "text/plain": [
       "\" the movie andaz apna apna in my books is the top 5 intelligent comedy movies ever made in bollywood perhaps even hollywood.   when the movie released i was a 8 year old and i heard it was a flop but i never understood till now why was it a flop... but let me tell you one thing... this movie would have more money by selling home cassettes and dvds and by showing in tv movie channels than any hit movie in theaters. this movie has been shown countless times in movie channels and i think even now the public love and the tv producers keep repeating the movie again and again. i personally have watched the entire movie more than 80 - 100 times and i still love it.....   the performance by both aamir khan as amar and salman khan as prem is mind blowing but i especially liked the performance of aamir khan as a street smart guy.... his dialogs in the movie are hilarious... the story is simple and heres how it goes.....   amar and prem are poor, lazy chaps and come from a poor family of tailors and amars father is a barber. then they both get a news that a millionaire's daughter from london is coming to india to look for a suitable match... both amar and prem think that this is a brilliant opportunity to become super rich..... therefore they both head out to woo raveena tandon.. ( the millionaires daughter )...... in their journey they both hate each other and each one of them try to fool the other in order to marry raveena..... the comedy scenes in between are so hilarious that you would need a glass of water to stop the pain in your stomach by laughing....... and then there is raveenas uncle ( millionaire's look alike brother ) teja who wants to take revenge from raveenas father..... since he is broke and raveenas dad is a millionaire...... his plans include kidnapping raveena to blackmail raveenas dad for which he hires 2 butlers.....   but later on we get to know that there is a twist in the movie ( watch the movie to know )....... then there is shakti kapoor as crime master \""
      ]
     },
     "execution_count": 25,
     "metadata": {},
     "output_type": "execute_result"
    }
   ],
   "source": [
    "df_lbld['reviews_decoded'][25003]"
   ]
  },
  {
   "cell_type": "code",
   "execution_count": 26,
   "metadata": {},
   "outputs": [],
   "source": [
    "from sklearn.model_selection import train_test_split"
   ]
  },
  {
   "cell_type": "code",
   "execution_count": 27,
   "metadata": {},
   "outputs": [],
   "source": [
    "X = df_lbld['reviews_decoded']\n",
    "y = df_lbld['sentiment']"
   ]
  },
  {
   "cell_type": "code",
   "execution_count": 28,
   "metadata": {},
   "outputs": [],
   "source": [
    "X_train, X_test, y_train, y_test = train_test_split(X, y, test_size=0.5, shuffle=False)"
   ]
  },
  {
   "cell_type": "code",
   "execution_count": 29,
   "metadata": {},
   "outputs": [
    {
     "data": {
      "text/plain": [
       "0     one of the other reviewers has mentioned that...\n",
       "1     a wonderful little production.   the filming ...\n",
       "2     i thought this was a wonderful way to spend t...\n",
       "3     basically there's a family where a little boy...\n",
       "4     petter mattei's'love in the time of money'is ...\n",
       "Name: reviews_decoded, dtype: object"
      ]
     },
     "execution_count": 29,
     "metadata": {},
     "output_type": "execute_result"
    }
   ],
   "source": [
    "X_train.head()"
   ]
  },
  {
   "cell_type": "code",
   "execution_count": 30,
   "metadata": {},
   "outputs": [
    {
     "data": {
      "text/plain": [
       "25000     this movie was bad from the start. the only p...\n",
       "25001     god, i never felt so insulted in my whole lif...\n",
       "25002     not being a fan of the coen brothers or georg...\n",
       "25003     the movie andaz apna apna in my books is the ...\n",
       "25004     i have to say i was really looking forward on...\n",
       "Name: reviews_decoded, dtype: object"
      ]
     },
     "execution_count": 30,
     "metadata": {},
     "output_type": "execute_result"
    }
   ],
   "source": [
    "X_test.head()"
   ]
  },
  {
   "cell_type": "code",
   "execution_count": 31,
   "metadata": {},
   "outputs": [
    {
     "data": {
      "text/plain": [
       "sentiment\n",
       "LABEL_0    12526\n",
       "LABEL_1    12474\n",
       "Name: count, dtype: int64"
      ]
     },
     "execution_count": 31,
     "metadata": {},
     "output_type": "execute_result"
    }
   ],
   "source": [
    "y_train.value_counts()"
   ]
  },
  {
   "cell_type": "code",
   "execution_count": 32,
   "metadata": {},
   "outputs": [
    {
     "data": {
      "text/plain": [
       "sentiment\n",
       "LABEL_1    12526\n",
       "LABEL_0    12474\n",
       "Name: count, dtype: int64"
      ]
     },
     "execution_count": 32,
     "metadata": {},
     "output_type": "execute_result"
    }
   ],
   "source": [
    "y_test.value_counts()"
   ]
  },
  {
   "cell_type": "code",
   "execution_count": 33,
   "metadata": {},
   "outputs": [
    {
     "name": "stdout",
     "output_type": "stream",
     "text": [
      "[\" the movie andaz apna apna in my books is the top 5 intelligent comedy movies ever made in bollywood perhaps even hollywood.   when the movie released i was a 8 year old and i heard it was a flop but i never understood till now why was it a flop... but let me tell you one thing... this movie would have more money by selling home cassettes and dvds and by showing in tv movie channels than any hit movie in theaters. this movie has been shown countless times in movie channels and i think even now the public love and the tv producers keep repeating the movie again and again. i personally have watched the entire movie more than 80 - 100 times and i still love it.....   the performance by both aamir khan as amar and salman khan as prem is mind blowing but i especially liked the performance of aamir khan as a street smart guy.... his dialogs in the movie are hilarious... the story is simple and heres how it goes.....   amar and prem are poor, lazy chaps and come from a poor family of tailors and amars father is a barber. then they both get a news that a millionaire's daughter from london is coming to india to look for a suitable match... both amar and prem think that this is a brilliant opportunity to become super rich..... therefore they both head out to woo raveena tandon.. ( the millionaires daughter )...... in their journey they both hate each other and each one of them try to fool the other in order to marry raveena..... the comedy scenes in between are so hilarious that you would need a glass of water to stop the pain in your stomach by laughing....... and then there is raveenas uncle ( millionaire's look alike brother ) teja who wants to take revenge from raveenas father..... since he is broke and raveenas dad is a millionaire...... his plans include kidnapping raveena to blackmail raveenas dad for which he hires 2 butlers.....   but later on we get to know that there is a twist in the movie ( watch the movie to know )....... then there is shakti kapoor as crime master \", \" i have to say i was really looking forward on watching this film and finding some new life in it that would separate it from most dull and overly crafted mexican films. i have no idea why but i trusted sexo, pudor y lagrimas to be the one to inject freshness and confidence to our non - existent industry. maybe it was because the soundtrack ( which i listened to before i saw the film ) sounded different from others, maybe it was because it dared to include newer faces ( apart from demian bichir who is always a favorite of mexican film directors ) and supposedly dealed within it's script with modern social behaviour, maybe because it's photography i saw in the trailers was bright and realistic instead of theatrical. the film turned out to be a major crowd pleaser, and a major letdown. what serrano actually deals here with is the very old fashioned'battle of the sexes'as in'all men are the same'and'why is it that all women... ;'blah, blah, blah. nothing new in it, not even that, it uses so much common ground and cliche that it eventually mocks itself without leaving any valuable reflexion on the female / male condition. full of usual tramps on the audience like safe gags about the cliches i talked about before ( those always work, always ) and screaming performances ( it is a well acted film in it's context ).. and by screaming i mean, literally. the at first more compelling characters played by monica dionne and demian bichir turn out to be according to serrano the more pathetic ones. i completely disagree with serrano, they shouldn't have been treated that way only to serve as marionettes for his lesson to come through... he made sure we got his message and completely destroyed their roles that were the only solid ground in which this story could have stood. anyway, it is after all, a very entertaining film at times and you will probably have a good time seeing it ( if you accept to be manipulated by it ). [SEP]                                                                                  \"]\n"
     ]
    }
   ],
   "source": [
    "print(X_test.to_list()[3:5])"
   ]
  },
  {
   "cell_type": "code",
   "execution_count": 34,
   "metadata": {},
   "outputs": [
    {
     "name": "stdout",
     "output_type": "stream",
     "text": [
      "25000\n"
     ]
    }
   ],
   "source": [
    "print(len(X_test.to_list()))"
   ]
  },
  {
   "cell_type": "code",
   "execution_count": 35,
   "metadata": {},
   "outputs": [],
   "source": [
    "result = classifier(X_test.to_list()[:3])"
   ]
  },
  {
   "cell_type": "code",
   "execution_count": 36,
   "metadata": {},
   "outputs": [
    {
     "data": {
      "text/plain": [
       "[{'label': 'LABEL_0', 'score': 0.9841868281364441},\n",
       " {'label': 'LABEL_0', 'score': 0.9817095398902893},\n",
       " {'label': 'LABEL_1', 'score': 0.9809734225273132}]"
      ]
     },
     "execution_count": 36,
     "metadata": {},
     "output_type": "execute_result"
    }
   ],
   "source": [
    "result"
   ]
  },
  {
   "cell_type": "code",
   "execution_count": 37,
   "metadata": {},
   "outputs": [],
   "source": [
    "strange_entry = X_test[25003]"
   ]
  },
  {
   "cell_type": "code",
   "execution_count": 38,
   "metadata": {},
   "outputs": [],
   "source": [
    "normal_entry = X_test[25004]"
   ]
  },
  {
   "cell_type": "code",
   "execution_count": 39,
   "metadata": {},
   "outputs": [
    {
     "name": "stdout",
     "output_type": "stream",
     "text": [
      " the movie andaz apna apna in my books is the top 5 intelligent comedy movies ever made in bollywood perhaps even hollywood.   when the movie released i was a 8 year old and i heard it was a flop but i never understood till now why was it a flop... but let me tell you one thing... this movie would have more money by selling home cassettes and dvds and by showing in tv movie channels than any hit movie in theaters. this movie has been shown countless times in movie channels and i think even now the public love and the tv producers keep repeating the movie again and again. i personally have watched the entire movie more than 80 - 100 times and i still love it.....   the performance by both aamir khan as amar and salman khan as prem is mind blowing but i especially liked the performance of aamir khan as a street smart guy.... his dialogs in the movie are hilarious... the story is simple and heres how it goes.....   amar and prem are poor, lazy chaps and come from a poor family of tailors and amars father is a barber. then they both get a news that a millionaire's daughter from london is coming to india to look for a suitable match... both amar and prem think that this is a brilliant opportunity to become super rich..... therefore they both head out to woo raveena tandon.. ( the millionaires daughter )...... in their journey they both hate each other and each one of them try to fool the other in order to marry raveena..... the comedy scenes in between are so hilarious that you would need a glass of water to stop the pain in your stomach by laughing....... and then there is raveenas uncle ( millionaire's look alike brother ) teja who wants to take revenge from raveenas father..... since he is broke and raveenas dad is a millionaire...... his plans include kidnapping raveena to blackmail raveenas dad for which he hires 2 butlers.....   but later on we get to know that there is a twist in the movie ( watch the movie to know )....... then there is shakti kapoor as crime master \n"
     ]
    }
   ],
   "source": [
    "print (strange_entry)"
   ]
  },
  {
   "cell_type": "code",
   "execution_count": 40,
   "metadata": {},
   "outputs": [
    {
     "name": "stdout",
     "output_type": "stream",
     "text": [
      " i have to say i was really looking forward on watching this film and finding some new life in it that would separate it from most dull and overly crafted mexican films. i have no idea why but i trusted sexo, pudor y lagrimas to be the one to inject freshness and confidence to our non - existent industry. maybe it was because the soundtrack ( which i listened to before i saw the film ) sounded different from others, maybe it was because it dared to include newer faces ( apart from demian bichir who is always a favorite of mexican film directors ) and supposedly dealed within it's script with modern social behaviour, maybe because it's photography i saw in the trailers was bright and realistic instead of theatrical. the film turned out to be a major crowd pleaser, and a major letdown. what serrano actually deals here with is the very old fashioned'battle of the sexes'as in'all men are the same'and'why is it that all women... ;'blah, blah, blah. nothing new in it, not even that, it uses so much common ground and cliche that it eventually mocks itself without leaving any valuable reflexion on the female / male condition. full of usual tramps on the audience like safe gags about the cliches i talked about before ( those always work, always ) and screaming performances ( it is a well acted film in it's context ).. and by screaming i mean, literally. the at first more compelling characters played by monica dionne and demian bichir turn out to be according to serrano the more pathetic ones. i completely disagree with serrano, they shouldn't have been treated that way only to serve as marionettes for his lesson to come through... he made sure we got his message and completely destroyed their roles that were the only solid ground in which this story could have stood. anyway, it is after all, a very entertaining film at times and you will probably have a good time seeing it ( if you accept to be manipulated by it ). [SEP]                                                                                  \n"
     ]
    }
   ],
   "source": [
    "print (normal_entry)"
   ]
  },
  {
   "cell_type": "code",
   "execution_count": 41,
   "metadata": {},
   "outputs": [
    {
     "data": {
      "text/plain": [
       "[{'label': 'LABEL_1', 'score': 0.9177201390266418}]"
      ]
     },
     "execution_count": 41,
     "metadata": {},
     "output_type": "execute_result"
    }
   ],
   "source": [
    "classifier(normal_entry)"
   ]
  },
  {
   "cell_type": "code",
   "execution_count": 42,
   "metadata": {},
   "outputs": [
    {
     "data": {
      "text/plain": [
       "[{'label': 'LABEL_1', 'score': 0.959822952747345}]"
      ]
     },
     "execution_count": 42,
     "metadata": {},
     "output_type": "execute_result"
    }
   ],
   "source": [
    "classifier('''inputs=\n",
    "          I have to say I was really looking forward on watching this film and finding some new life in it that would separate it from most dull and overly crafted mexican films. I have no idea why but I trusted Sexo, Pudor y Lagrimas to be the one to inject freshness and confidence to our non-existent industry. Maybe it was because the soundtrack(which I listened to before I saw the film) sounded different from others, maybe it was because it dared to include newer faces(apart from Demian Bichir who is always a favorite of mexican film directors) and supposedly dealed within it's script with modern social behaviour, maybe because it's photography I saw in the trailers was bright and realistic instead of theatrical. The film turned out to be a major crowd pleaser, and a major letdown. What Serrano actually deals here with is the very old fashioned \"battle of the sexes\" as in \"all men are the same\" and \"why is it that all women...;\" blah,blah,blah. Nothing new in it, not even that, it uses so much common ground and clichè that it eventually mocks itself without leaving any valuable reflexion on the female/male condition. Full of usual tramps on the audience like safe gags about the clichès I talked about before(those always work, always) and screaming performances(it is a well acted film in it's context)..and by screaming I mean, literally. The at first more compelling characters played by Monica Dionne and Demian Bichir turn out to be according to Serrano the more pathetic ones. I completely disagree with Serrano, they shouldn't have been treated that way only to serve as marionettes for his lesson to come through...he made sure we got HIS message and completely destroyed their roles that were the only solid ground in which this story could have stood. Anyway, it is after all, a very entertaining film at times and you will probably have a good time seeing it (if you accept to be manipulated by it) \n",
    "           ''')"
   ]
  },
  {
   "cell_type": "code",
   "execution_count": 43,
   "metadata": {},
   "outputs": [
    {
     "data": {
      "text/plain": [
       "[{'label': 'LABEL_1', 'score': 0.9427478313446045}]"
      ]
     },
     "execution_count": 43,
     "metadata": {},
     "output_type": "execute_result"
    }
   ],
   "source": [
    "classifier('''\n",
    "           I have to say I was really looking forward on watching this film and finding some new life in it that would separate it from most dull and overly crafted mexican films. I have no idea why but I trusted Sexo, Pudor y Lagrimas to be the one to inject freshness and confidence to our non-existent industry. Maybe it was because the soundtrack(which I listened to before I saw the film) sounded different from others, maybe it was because it dared to include newer faces(apart from Demian Bichir who is always a favorite of mexican film directors) and supposedly dealed within it's script with modern social behaviour, maybe because it's photography I saw in the trailers was bright and realistic instead of theatrical. The film turned out to be a major crowd pleaser, and a major letdown. What Serrano actually deals here with is the very old fashioned \"battle of the sexes\" as in \"all men are the same\" and \"why is it that all women...;\" blah,blah,blah. Nothing new in it, not even that, it uses so much common ground and clichè that it eventually mocks itself without leaving any valuable reflexion on the female/male condition. Full of usual tramps on the audience like safe gags about the clichès I talked about before(those always work, always) and screaming performances(it is a well acted film in it's context)..and by screaming I mean, literally. The at first more compelling characters played by Monica Dionne and Demian Bichir turn out to be according to Serrano the more pathetic ones. I completely disagree with Serrano, they shouldn't have been treated that way only to serve as marionettes for his lesson to come through...he made sure we got HIS message and completely destroyed their roles that were the only solid ground in which this story could have stood. Anyway, it is after all, a very entertaining film at times and you will probably have a good time seeing it (if you accept to be manipulated by it)\n",
    "           ''')"
   ]
  },
  {
   "cell_type": "code",
   "execution_count": 44,
   "metadata": {},
   "outputs": [
    {
     "data": {
      "text/plain": [
       "str"
      ]
     },
     "execution_count": 44,
     "metadata": {},
     "output_type": "execute_result"
    }
   ],
   "source": [
    "type(strange_entry)"
   ]
  },
  {
   "cell_type": "code",
   "execution_count": 45,
   "metadata": {},
   "outputs": [
    {
     "data": {
      "text/plain": [
       "str"
      ]
     },
     "execution_count": 45,
     "metadata": {},
     "output_type": "execute_result"
    }
   ],
   "source": [
    "type(normal_entry)"
   ]
  },
  {
   "cell_type": "code",
   "execution_count": 46,
   "metadata": {},
   "outputs": [
    {
     "data": {
      "text/plain": [
       "[{'label': 'LABEL_1', 'score': 0.9773173332214355}]"
      ]
     },
     "execution_count": 46,
     "metadata": {},
     "output_type": "execute_result"
    }
   ],
   "source": [
    "classifier(strange_entry)"
   ]
  },
  {
   "cell_type": "code",
   "execution_count": 47,
   "metadata": {},
   "outputs": [
    {
     "data": {
      "text/plain": [
       "\"'man of the year'tells the story of tom dobbs ( robin williams ) a political comedian ( like jon stewart or stephen colbert ) who has his own television show. on his show he talks about all sorts of things but his main focus are political issues which he is very opinionated about. one day on his show, a fan from the audience raises the idea that dobbs should run for president of the united states. after that episode aired, millions flocked to the web to create various petitions and voice their opinions on why dobbs would make a great candidate for the president for the united states. a few weeks later, dobbs decides to run for president and low and behold wins the election. everything seems to be going as planned until a woman by the name of eleanor green ( laura linney ) shows up and starts some controversy regarding his position. a funny yet serious political thriller ensues   man anyone walking into this film expecting to see a brainless comedy will surely be disappointed. i always wonder how some people are film marketers when i see how misleading their marketing campaigns.'man of the year'is a great example of bad and misleading marketing, because everything from the poster, to the trailer, to the online advertisements makes this movie look and feel like a comedy. i would honestly have to say about 1 / 3 of the film is funny while the rest of it plays off as a political thriller that makes good arguments and allows its audience to think. i kind of wonder in this case if the marketing was done on purpose since this film addresses pretty serious issues in - between its comedy routine.   but enough about marketing, lets get down to the film itself.   i really liked'man of the year'even though i was expecting to see a comedy instead of a serious film. one of the many things i will give this film credit for is that the film does a decent job switching between comedy and drama even though at first it seems a little awkward. i really think that after you figure this out that the movie is going to be more of a political thriller than a comedy you get comfortable with it. some may not because they are lead to believe that they are seeing a comedy and don't understand what this film is trying to say in the end but for those people they can blame the marketers for not advertising this film right.  'man of the year \""
      ]
     },
     "execution_count": 47,
     "metadata": {},
     "output_type": "execute_result"
    }
   ],
   "source": [
    "X_test.to_list()[14]"
   ]
  },
  {
   "cell_type": "code",
   "execution_count": 48,
   "metadata": {},
   "outputs": [],
   "source": [
    "results = classifier(X_test.to_list())"
   ]
  },
  {
   "cell_type": "code",
   "execution_count": 50,
   "metadata": {},
   "outputs": [
    {
     "data": {
      "text/plain": [
       "[{'label': 'LABEL_0', 'score': 0.9841868281364441},\n",
       " {'label': 'LABEL_0', 'score': 0.9817095398902893},\n",
       " {'label': 'LABEL_1', 'score': 0.9809734225273132},\n",
       " {'label': 'LABEL_1', 'score': 0.9773173332214355},\n",
       " {'label': 'LABEL_1', 'score': 0.9177201390266418},\n",
       " {'label': 'LABEL_1', 'score': 0.9777098894119263},\n",
       " {'label': 'LABEL_0', 'score': 0.9544014930725098},\n",
       " {'label': 'LABEL_1', 'score': 0.9528210759162903},\n",
       " {'label': 'LABEL_1', 'score': 0.9757754802703857},\n",
       " {'label': 'LABEL_0', 'score': 0.9814581274986267},\n",
       " {'label': 'LABEL_1', 'score': 0.9808835387229919},\n",
       " {'label': 'LABEL_1', 'score': 0.9799204468727112},\n",
       " {'label': 'LABEL_1', 'score': 0.9722450375556946},\n",
       " {'label': 'LABEL_1', 'score': 0.9724222421646118},\n",
       " {'label': 'LABEL_1', 'score': 0.9742550849914551},\n",
       " {'label': 'LABEL_1', 'score': 0.9799519181251526},\n",
       " {'label': 'LABEL_0', 'score': 0.9807958006858826},\n",
       " {'label': 'LABEL_1', 'score': 0.9022883176803589},\n",
       " {'label': 'LABEL_0', 'score': 0.985633909702301},\n",
       " {'label': 'LABEL_1', 'score': 0.9799847602844238},\n",
       " {'label': 'LABEL_1', 'score': 0.9808009266853333},\n",
       " {'label': 'LABEL_0', 'score': 0.9810581207275391},\n",
       " {'label': 'LABEL_1', 'score': 0.9778627157211304},\n",
       " {'label': 'LABEL_0', 'score': 0.9847415089607239},\n",
       " {'label': 'LABEL_1', 'score': 0.9216027855873108},\n",
       " {'label': 'LABEL_1', 'score': 0.9804072976112366},\n",
       " {'label': 'LABEL_0', 'score': 0.9792985916137695},\n",
       " {'label': 'LABEL_1', 'score': 0.9754012823104858},\n",
       " {'label': 'LABEL_0', 'score': 0.9837608933448792},\n",
       " {'label': 'LABEL_0', 'score': 0.7447320818901062},\n",
       " {'label': 'LABEL_1', 'score': 0.9588966369628906},\n",
       " {'label': 'LABEL_1', 'score': 0.9806810021400452},\n",
       " {'label': 'LABEL_1', 'score': 0.9363282918930054},\n",
       " {'label': 'LABEL_1', 'score': 0.9750680327415466},\n",
       " {'label': 'LABEL_0', 'score': 0.6711896061897278},\n",
       " {'label': 'LABEL_1', 'score': 0.9739466309547424},\n",
       " {'label': 'LABEL_0', 'score': 0.9870815873146057},\n",
       " {'label': 'LABEL_1', 'score': 0.8428486585617065},\n",
       " {'label': 'LABEL_1', 'score': 0.980383574962616},\n",
       " {'label': 'LABEL_0', 'score': 0.9860743880271912},\n",
       " {'label': 'LABEL_1', 'score': 0.9809262752532959},\n",
       " {'label': 'LABEL_0', 'score': 0.9878150224685669},\n",
       " {'label': 'LABEL_1', 'score': 0.977135419845581},\n",
       " {'label': 'LABEL_1', 'score': 0.975613534450531},\n",
       " {'label': 'LABEL_1', 'score': 0.9759883284568787},\n",
       " {'label': 'LABEL_1', 'score': 0.6695367097854614},\n",
       " {'label': 'LABEL_1', 'score': 0.9800184369087219},\n",
       " {'label': 'LABEL_1', 'score': 0.9691989421844482},\n",
       " {'label': 'LABEL_0', 'score': 0.9758047461509705},\n",
       " {'label': 'LABEL_1', 'score': 0.9814997911453247},\n",
       " {'label': 'LABEL_0', 'score': 0.977375864982605},\n",
       " {'label': 'LABEL_0', 'score': 0.9155781865119934},\n",
       " {'label': 'LABEL_0', 'score': 0.9814882278442383},\n",
       " {'label': 'LABEL_0', 'score': 0.9760162830352783},\n",
       " {'label': 'LABEL_1', 'score': 0.571962833404541},\n",
       " {'label': 'LABEL_1', 'score': 0.9557636976242065},\n",
       " {'label': 'LABEL_0', 'score': 0.9855440258979797},\n",
       " {'label': 'LABEL_1', 'score': 0.9688140153884888},\n",
       " {'label': 'LABEL_1', 'score': 0.9791001677513123},\n",
       " {'label': 'LABEL_1', 'score': 0.9814784526824951},\n",
       " {'label': 'LABEL_1', 'score': 0.7891252636909485},\n",
       " {'label': 'LABEL_0', 'score': 0.927120566368103},\n",
       " {'label': 'LABEL_0', 'score': 0.983353853225708},\n",
       " {'label': 'LABEL_1', 'score': 0.9809474945068359},\n",
       " {'label': 'LABEL_1', 'score': 0.9765213131904602},\n",
       " {'label': 'LABEL_1', 'score': 0.9775202870368958},\n",
       " {'label': 'LABEL_0', 'score': 0.9482691287994385},\n",
       " {'label': 'LABEL_1', 'score': 0.979227602481842},\n",
       " {'label': 'LABEL_1', 'score': 0.9364152550697327},\n",
       " {'label': 'LABEL_1', 'score': 0.981044590473175},\n",
       " {'label': 'LABEL_0', 'score': 0.9568216800689697},\n",
       " {'label': 'LABEL_1', 'score': 0.9679509997367859},\n",
       " {'label': 'LABEL_1', 'score': 0.9803061485290527},\n",
       " {'label': 'LABEL_1', 'score': 0.9804922342300415},\n",
       " {'label': 'LABEL_1', 'score': 0.8120800256729126},\n",
       " {'label': 'LABEL_1', 'score': 0.9807183742523193},\n",
       " {'label': 'LABEL_0', 'score': 0.8071013689041138},\n",
       " {'label': 'LABEL_1', 'score': 0.9421514868736267},\n",
       " {'label': 'LABEL_1', 'score': 0.9708875417709351},\n",
       " {'label': 'LABEL_1', 'score': 0.975202739238739},\n",
       " {'label': 'LABEL_0', 'score': 0.9825010895729065},\n",
       " {'label': 'LABEL_1', 'score': 0.9481219053268433},\n",
       " {'label': 'LABEL_1', 'score': 0.9801782965660095},\n",
       " {'label': 'LABEL_1', 'score': 0.9810308218002319},\n",
       " {'label': 'LABEL_0', 'score': 0.9833163619041443},\n",
       " {'label': 'LABEL_1', 'score': 0.9796455502510071},\n",
       " {'label': 'LABEL_1', 'score': 0.9816452264785767},\n",
       " {'label': 'LABEL_0', 'score': 0.9857372045516968},\n",
       " {'label': 'LABEL_0', 'score': 0.9758805632591248},\n",
       " {'label': 'LABEL_0', 'score': 0.9838792085647583},\n",
       " {'label': 'LABEL_0', 'score': 0.9853375554084778},\n",
       " {'label': 'LABEL_0', 'score': 0.9847481846809387},\n",
       " {'label': 'LABEL_1', 'score': 0.9807935953140259},\n",
       " {'label': 'LABEL_1', 'score': 0.9683494567871094},\n",
       " {'label': 'LABEL_0', 'score': 0.9524917006492615},\n",
       " {'label': 'LABEL_1', 'score': 0.9804391264915466},\n",
       " {'label': 'LABEL_1', 'score': 0.9010595679283142},\n",
       " {'label': 'LABEL_1', 'score': 0.9744646549224854},\n",
       " {'label': 'LABEL_0', 'score': 0.9827986359596252},\n",
       " {'label': 'LABEL_1', 'score': 0.9732204079627991},\n",
       " {'label': 'LABEL_1', 'score': 0.9811448454856873},\n",
       " {'label': 'LABEL_1', 'score': 0.9805389642715454},\n",
       " {'label': 'LABEL_0', 'score': 0.7721086740493774},\n",
       " {'label': 'LABEL_0', 'score': 0.9403784275054932},\n",
       " {'label': 'LABEL_0', 'score': 0.9859821796417236},\n",
       " {'label': 'LABEL_1', 'score': 0.9761161208152771},\n",
       " {'label': 'LABEL_0', 'score': 0.9869511127471924},\n",
       " {'label': 'LABEL_1', 'score': 0.9761150479316711},\n",
       " {'label': 'LABEL_1', 'score': 0.8764379620552063},\n",
       " {'label': 'LABEL_1', 'score': 0.9786112904548645},\n",
       " {'label': 'LABEL_1', 'score': 0.9793516397476196},\n",
       " {'label': 'LABEL_1', 'score': 0.9402903914451599},\n",
       " {'label': 'LABEL_0', 'score': 0.9825228452682495},\n",
       " {'label': 'LABEL_0', 'score': 0.9809091091156006},\n",
       " {'label': 'LABEL_1', 'score': 0.9662321209907532},\n",
       " {'label': 'LABEL_0', 'score': 0.987185537815094},\n",
       " {'label': 'LABEL_1', 'score': 0.9816759824752808},\n",
       " {'label': 'LABEL_0', 'score': 0.8567919135093689},\n",
       " {'label': 'LABEL_0', 'score': 0.9869705438613892},\n",
       " {'label': 'LABEL_0', 'score': 0.9862589836120605},\n",
       " {'label': 'LABEL_1', 'score': 0.937597393989563},\n",
       " {'label': 'LABEL_1', 'score': 0.9780049920082092},\n",
       " {'label': 'LABEL_1', 'score': 0.9715136885643005},\n",
       " {'label': 'LABEL_1', 'score': 0.6483980417251587},\n",
       " {'label': 'LABEL_0', 'score': 0.9815852642059326},\n",
       " {'label': 'LABEL_0', 'score': 0.9864442944526672},\n",
       " {'label': 'LABEL_1', 'score': 0.9728578925132751},\n",
       " {'label': 'LABEL_1', 'score': 0.9702703356742859},\n",
       " {'label': 'LABEL_1', 'score': 0.9754519462585449},\n",
       " {'label': 'LABEL_0', 'score': 0.9852035045623779},\n",
       " {'label': 'LABEL_1', 'score': 0.970963180065155},\n",
       " {'label': 'LABEL_0', 'score': 0.9864272475242615},\n",
       " {'label': 'LABEL_0', 'score': 0.9619400501251221},\n",
       " {'label': 'LABEL_1', 'score': 0.7999632954597473},\n",
       " {'label': 'LABEL_0', 'score': 0.9844850301742554},\n",
       " {'label': 'LABEL_0', 'score': 0.9828705787658691},\n",
       " {'label': 'LABEL_1', 'score': 0.97855544090271},\n",
       " {'label': 'LABEL_0', 'score': 0.985161304473877},\n",
       " {'label': 'LABEL_0', 'score': 0.956942081451416},\n",
       " {'label': 'LABEL_1', 'score': 0.9807586073875427},\n",
       " {'label': 'LABEL_0', 'score': 0.9792357087135315},\n",
       " {'label': 'LABEL_1', 'score': 0.9789313673973083},\n",
       " {'label': 'LABEL_1', 'score': 0.9798164963722229},\n",
       " {'label': 'LABEL_0', 'score': 0.9796326160430908},\n",
       " {'label': 'LABEL_0', 'score': 0.9773839712142944},\n",
       " {'label': 'LABEL_0', 'score': 0.9860111474990845},\n",
       " {'label': 'LABEL_1', 'score': 0.9787850975990295},\n",
       " {'label': 'LABEL_1', 'score': 0.9642423987388611},\n",
       " {'label': 'LABEL_0', 'score': 0.9804830551147461},\n",
       " {'label': 'LABEL_0', 'score': 0.984904408454895},\n",
       " {'label': 'LABEL_1', 'score': 0.9789053201675415},\n",
       " {'label': 'LABEL_0', 'score': 0.92592453956604},\n",
       " {'label': 'LABEL_1', 'score': 0.9777258038520813},\n",
       " {'label': 'LABEL_1', 'score': 0.9788801074028015},\n",
       " {'label': 'LABEL_1', 'score': 0.9806578159332275},\n",
       " {'label': 'LABEL_0', 'score': 0.8462746739387512},\n",
       " {'label': 'LABEL_0', 'score': 0.9798636436462402},\n",
       " {'label': 'LABEL_0', 'score': 0.9860101938247681},\n",
       " {'label': 'LABEL_1', 'score': 0.9793013334274292},\n",
       " {'label': 'LABEL_0', 'score': 0.9851979613304138},\n",
       " {'label': 'LABEL_0', 'score': 0.9868950843811035},\n",
       " {'label': 'LABEL_0', 'score': 0.9855733513832092},\n",
       " {'label': 'LABEL_0', 'score': 0.985886812210083},\n",
       " {'label': 'LABEL_1', 'score': 0.9073511362075806},\n",
       " {'label': 'LABEL_1', 'score': 0.9770077466964722},\n",
       " {'label': 'LABEL_0', 'score': 0.9867156147956848},\n",
       " {'label': 'LABEL_1', 'score': 0.9805779457092285},\n",
       " {'label': 'LABEL_0', 'score': 0.8010837435722351},\n",
       " {'label': 'LABEL_0', 'score': 0.7129204869270325},\n",
       " {'label': 'LABEL_0', 'score': 0.9706590175628662},\n",
       " {'label': 'LABEL_1', 'score': 0.9669340252876282},\n",
       " {'label': 'LABEL_1', 'score': 0.9804216027259827},\n",
       " {'label': 'LABEL_0', 'score': 0.5372196435928345},\n",
       " {'label': 'LABEL_1', 'score': 0.9811663031578064},\n",
       " {'label': 'LABEL_0', 'score': 0.9858822822570801},\n",
       " {'label': 'LABEL_1', 'score': 0.9800698757171631},\n",
       " {'label': 'LABEL_1', 'score': 0.8342179656028748},\n",
       " {'label': 'LABEL_0', 'score': 0.9824527502059937},\n",
       " {'label': 'LABEL_1', 'score': 0.9806511998176575},\n",
       " {'label': 'LABEL_1', 'score': 0.9721474647521973},\n",
       " {'label': 'LABEL_0', 'score': 0.9832499623298645},\n",
       " {'label': 'LABEL_1', 'score': 0.9793468117713928},\n",
       " {'label': 'LABEL_0', 'score': 0.9844462275505066},\n",
       " {'label': 'LABEL_1', 'score': 0.9778011441230774},\n",
       " {'label': 'LABEL_0', 'score': 0.9858660697937012},\n",
       " {'label': 'LABEL_1', 'score': 0.9799869656562805},\n",
       " {'label': 'LABEL_1', 'score': 0.9718613028526306},\n",
       " {'label': 'LABEL_1', 'score': 0.9768075346946716},\n",
       " {'label': 'LABEL_1', 'score': 0.9806908369064331},\n",
       " {'label': 'LABEL_0', 'score': 0.8985799551010132},\n",
       " {'label': 'LABEL_0', 'score': 0.832067608833313},\n",
       " {'label': 'LABEL_1', 'score': 0.9722391963005066},\n",
       " {'label': 'LABEL_0', 'score': 0.9853540658950806},\n",
       " {'label': 'LABEL_1', 'score': 0.9800207614898682},\n",
       " {'label': 'LABEL_1', 'score': 0.978303849697113},\n",
       " {'label': 'LABEL_1', 'score': 0.7769941687583923},\n",
       " {'label': 'LABEL_1', 'score': 0.9742863178253174},\n",
       " {'label': 'LABEL_0', 'score': 0.987114429473877},\n",
       " {'label': 'LABEL_1', 'score': 0.9595193862915039},\n",
       " {'label': 'LABEL_0', 'score': 0.6389622092247009},\n",
       " {'label': 'LABEL_1', 'score': 0.9804937243461609},\n",
       " {'label': 'LABEL_0', 'score': 0.9627571702003479},\n",
       " {'label': 'LABEL_1', 'score': 0.9699990153312683},\n",
       " {'label': 'LABEL_1', 'score': 0.980847954750061},\n",
       " {'label': 'LABEL_0', 'score': 0.9876077771186829},\n",
       " {'label': 'LABEL_1', 'score': 0.9638411998748779},\n",
       " {'label': 'LABEL_1', 'score': 0.9758548140525818},\n",
       " {'label': 'LABEL_1', 'score': 0.7153923511505127},\n",
       " {'label': 'LABEL_1', 'score': 0.9794917106628418},\n",
       " {'label': 'LABEL_1', 'score': 0.9751019477844238},\n",
       " {'label': 'LABEL_1', 'score': 0.9749914407730103},\n",
       " {'label': 'LABEL_1', 'score': 0.9544364809989929},\n",
       " {'label': 'LABEL_0', 'score': 0.9746047258377075},\n",
       " {'label': 'LABEL_0', 'score': 0.9849197864532471},\n",
       " {'label': 'LABEL_1', 'score': 0.953628659248352},\n",
       " {'label': 'LABEL_1', 'score': 0.9066898226737976},\n",
       " {'label': 'LABEL_1', 'score': 0.9084160327911377},\n",
       " {'label': 'LABEL_1', 'score': 0.975809633731842},\n",
       " {'label': 'LABEL_1', 'score': 0.8770521283149719},\n",
       " {'label': 'LABEL_1', 'score': 0.9773043394088745},\n",
       " {'label': 'LABEL_1', 'score': 0.9738613367080688},\n",
       " {'label': 'LABEL_0', 'score': 0.9853308200836182},\n",
       " {'label': 'LABEL_1', 'score': 0.6671054363250732},\n",
       " {'label': 'LABEL_0', 'score': 0.971436083316803},\n",
       " {'label': 'LABEL_0', 'score': 0.9854335784912109},\n",
       " {'label': 'LABEL_0', 'score': 0.9827783703804016},\n",
       " {'label': 'LABEL_0', 'score': 0.6442356705665588},\n",
       " {'label': 'LABEL_0', 'score': 0.9841504096984863},\n",
       " {'label': 'LABEL_1', 'score': 0.9803445339202881},\n",
       " {'label': 'LABEL_1', 'score': 0.9760839343070984},\n",
       " {'label': 'LABEL_1', 'score': 0.9793773293495178},\n",
       " {'label': 'LABEL_0', 'score': 0.9844955801963806},\n",
       " {'label': 'LABEL_1', 'score': 0.9523712396621704},\n",
       " {'label': 'LABEL_1', 'score': 0.9811104536056519},\n",
       " {'label': 'LABEL_1', 'score': 0.9791322946548462},\n",
       " {'label': 'LABEL_1', 'score': 0.9730158448219299},\n",
       " {'label': 'LABEL_0', 'score': 0.9646763205528259},\n",
       " {'label': 'LABEL_1', 'score': 0.9795994758605957},\n",
       " {'label': 'LABEL_1', 'score': 0.9815409183502197},\n",
       " {'label': 'LABEL_1', 'score': 0.7429136633872986},\n",
       " {'label': 'LABEL_1', 'score': 0.9661683440208435},\n",
       " {'label': 'LABEL_1', 'score': 0.9689124822616577},\n",
       " {'label': 'LABEL_0', 'score': 0.9402704834938049},\n",
       " {'label': 'LABEL_0', 'score': 0.8360658884048462},\n",
       " {'label': 'LABEL_1', 'score': 0.8893446326255798},\n",
       " {'label': 'LABEL_1', 'score': 0.9774801731109619},\n",
       " {'label': 'LABEL_1', 'score': 0.9805599451065063},\n",
       " {'label': 'LABEL_1', 'score': 0.9792079329490662},\n",
       " {'label': 'LABEL_1', 'score': 0.968655526638031},\n",
       " {'label': 'LABEL_0', 'score': 0.9819589257240295},\n",
       " {'label': 'LABEL_0', 'score': 0.9504565596580505},\n",
       " {'label': 'LABEL_1', 'score': 0.9771636724472046},\n",
       " {'label': 'LABEL_1', 'score': 0.9814545512199402},\n",
       " {'label': 'LABEL_1', 'score': 0.9789699912071228},\n",
       " {'label': 'LABEL_0', 'score': 0.9858807325363159},\n",
       " {'label': 'LABEL_0', 'score': 0.9853299856185913},\n",
       " {'label': 'LABEL_1', 'score': 0.9807093143463135},\n",
       " {'label': 'LABEL_1', 'score': 0.9770355224609375},\n",
       " {'label': 'LABEL_1', 'score': 0.978227972984314},\n",
       " {'label': 'LABEL_1', 'score': 0.9583114385604858},\n",
       " {'label': 'LABEL_1', 'score': 0.8544096946716309},\n",
       " {'label': 'LABEL_0', 'score': 0.9858794808387756},\n",
       " {'label': 'LABEL_0', 'score': 0.9819227457046509},\n",
       " {'label': 'LABEL_1', 'score': 0.9743613600730896},\n",
       " {'label': 'LABEL_0', 'score': 0.985509991645813},\n",
       " {'label': 'LABEL_0', 'score': 0.9856653213500977},\n",
       " {'label': 'LABEL_0', 'score': 0.9875828623771667},\n",
       " {'label': 'LABEL_1', 'score': 0.9534726142883301},\n",
       " {'label': 'LABEL_0', 'score': 0.9783226251602173},\n",
       " {'label': 'LABEL_0', 'score': 0.9840211272239685},\n",
       " {'label': 'LABEL_1', 'score': 0.9529684782028198},\n",
       " {'label': 'LABEL_0', 'score': 0.7461453080177307},\n",
       " {'label': 'LABEL_0', 'score': 0.9850185513496399},\n",
       " {'label': 'LABEL_0', 'score': 0.9527398943901062},\n",
       " {'label': 'LABEL_1', 'score': 0.9651753306388855},\n",
       " {'label': 'LABEL_0', 'score': 0.9616441130638123},\n",
       " {'label': 'LABEL_0', 'score': 0.9335042238235474},\n",
       " {'label': 'LABEL_1', 'score': 0.9810491800308228},\n",
       " {'label': 'LABEL_0', 'score': 0.985564112663269},\n",
       " {'label': 'LABEL_1', 'score': 0.9777176380157471},\n",
       " {'label': 'LABEL_0', 'score': 0.9751887917518616},\n",
       " {'label': 'LABEL_0', 'score': 0.9875965118408203},\n",
       " {'label': 'LABEL_1', 'score': 0.9788076877593994},\n",
       " {'label': 'LABEL_0', 'score': 0.515928328037262},\n",
       " {'label': 'LABEL_0', 'score': 0.9664003252983093},\n",
       " {'label': 'LABEL_0', 'score': 0.983407199382782},\n",
       " {'label': 'LABEL_0', 'score': 0.8878210186958313},\n",
       " {'label': 'LABEL_1', 'score': 0.963577151298523},\n",
       " {'label': 'LABEL_1', 'score': 0.977691650390625},\n",
       " {'label': 'LABEL_0', 'score': 0.7309188842773438},\n",
       " {'label': 'LABEL_1', 'score': 0.9806872010231018},\n",
       " {'label': 'LABEL_1', 'score': 0.9585922360420227},\n",
       " {'label': 'LABEL_1', 'score': 0.9745580554008484},\n",
       " {'label': 'LABEL_1', 'score': 0.9801181554794312},\n",
       " {'label': 'LABEL_0', 'score': 0.9664046764373779},\n",
       " {'label': 'LABEL_1', 'score': 0.9782136082649231},\n",
       " {'label': 'LABEL_1', 'score': 0.9760727286338806},\n",
       " {'label': 'LABEL_1', 'score': 0.9529060125350952},\n",
       " {'label': 'LABEL_0', 'score': 0.9871113896369934},\n",
       " {'label': 'LABEL_1', 'score': 0.9812823534011841},\n",
       " {'label': 'LABEL_0', 'score': 0.9861809611320496},\n",
       " {'label': 'LABEL_0', 'score': 0.7814232110977173},\n",
       " {'label': 'LABEL_0', 'score': 0.9685742855072021},\n",
       " {'label': 'LABEL_0', 'score': 0.9851422905921936},\n",
       " {'label': 'LABEL_1', 'score': 0.9706282615661621},\n",
       " {'label': 'LABEL_1', 'score': 0.9817736744880676},\n",
       " {'label': 'LABEL_1', 'score': 0.9799197316169739},\n",
       " {'label': 'LABEL_1', 'score': 0.8512494564056396},\n",
       " {'label': 'LABEL_0', 'score': 0.9831475615501404},\n",
       " {'label': 'LABEL_1', 'score': 0.6838405132293701},\n",
       " {'label': 'LABEL_1', 'score': 0.9801082015037537},\n",
       " {'label': 'LABEL_1', 'score': 0.9779552817344666},\n",
       " {'label': 'LABEL_0', 'score': 0.9857185482978821},\n",
       " {'label': 'LABEL_1', 'score': 0.9328990578651428},\n",
       " {'label': 'LABEL_0', 'score': 0.9588302969932556},\n",
       " {'label': 'LABEL_0', 'score': 0.9146281480789185},\n",
       " {'label': 'LABEL_0', 'score': 0.9860025644302368},\n",
       " {'label': 'LABEL_0', 'score': 0.9800704121589661},\n",
       " {'label': 'LABEL_0', 'score': 0.9818803071975708},\n",
       " {'label': 'LABEL_1', 'score': 0.966273307800293},\n",
       " {'label': 'LABEL_0', 'score': 0.9858450889587402},\n",
       " {'label': 'LABEL_0', 'score': 0.9844669103622437},\n",
       " {'label': 'LABEL_1', 'score': 0.9800832271575928},\n",
       " {'label': 'LABEL_0', 'score': 0.9863135814666748},\n",
       " {'label': 'LABEL_1', 'score': 0.5707851052284241},\n",
       " {'label': 'LABEL_0', 'score': 0.7624688744544983},\n",
       " {'label': 'LABEL_0', 'score': 0.9878258109092712},\n",
       " {'label': 'LABEL_1', 'score': 0.9815654754638672},\n",
       " {'label': 'LABEL_0', 'score': 0.9730949401855469},\n",
       " {'label': 'LABEL_1', 'score': 0.9262707233428955},\n",
       " {'label': 'LABEL_1', 'score': 0.978070080280304},\n",
       " {'label': 'LABEL_1', 'score': 0.9003800749778748},\n",
       " {'label': 'LABEL_1', 'score': 0.9576871991157532},\n",
       " {'label': 'LABEL_0', 'score': 0.7997927665710449},\n",
       " {'label': 'LABEL_0', 'score': 0.8799107670783997},\n",
       " {'label': 'LABEL_1', 'score': 0.9810476899147034},\n",
       " {'label': 'LABEL_1', 'score': 0.9782015085220337},\n",
       " {'label': 'LABEL_0', 'score': 0.9838268160820007},\n",
       " {'label': 'LABEL_0', 'score': 0.9795506000518799},\n",
       " {'label': 'LABEL_0', 'score': 0.6963754892349243},\n",
       " {'label': 'LABEL_1', 'score': 0.9791857600212097},\n",
       " {'label': 'LABEL_0', 'score': 0.8234261870384216},\n",
       " {'label': 'LABEL_1', 'score': 0.9759132862091064},\n",
       " {'label': 'LABEL_1', 'score': 0.8190546035766602},\n",
       " {'label': 'LABEL_0', 'score': 0.9802781939506531},\n",
       " {'label': 'LABEL_1', 'score': 0.9786688089370728},\n",
       " {'label': 'LABEL_0', 'score': 0.9805365800857544},\n",
       " {'label': 'LABEL_1', 'score': 0.9672682881355286},\n",
       " {'label': 'LABEL_1', 'score': 0.980277955532074},\n",
       " {'label': 'LABEL_0', 'score': 0.9867817759513855},\n",
       " {'label': 'LABEL_0', 'score': 0.9844851493835449},\n",
       " {'label': 'LABEL_0', 'score': 0.771442174911499},\n",
       " {'label': 'LABEL_0', 'score': 0.9857568144798279},\n",
       " {'label': 'LABEL_0', 'score': 0.9642773270606995},\n",
       " {'label': 'LABEL_0', 'score': 0.8226067423820496},\n",
       " {'label': 'LABEL_0', 'score': 0.8333016633987427},\n",
       " {'label': 'LABEL_1', 'score': 0.9767702221870422},\n",
       " {'label': 'LABEL_1', 'score': 0.9800733923912048},\n",
       " {'label': 'LABEL_1', 'score': 0.977807343006134},\n",
       " {'label': 'LABEL_1', 'score': 0.9791689515113831},\n",
       " {'label': 'LABEL_0', 'score': 0.9842044711112976},\n",
       " {'label': 'LABEL_0', 'score': 0.639360785484314},\n",
       " {'label': 'LABEL_1', 'score': 0.9793016910552979},\n",
       " {'label': 'LABEL_1', 'score': 0.966029942035675},\n",
       " {'label': 'LABEL_0', 'score': 0.9252723455429077},\n",
       " {'label': 'LABEL_0', 'score': 0.9860848188400269},\n",
       " {'label': 'LABEL_0', 'score': 0.9782368540763855},\n",
       " {'label': 'LABEL_1', 'score': 0.9781379699707031},\n",
       " {'label': 'LABEL_1', 'score': 0.9797682166099548},\n",
       " {'label': 'LABEL_1', 'score': 0.8713514804840088},\n",
       " {'label': 'LABEL_1', 'score': 0.9782164096832275},\n",
       " {'label': 'LABEL_0', 'score': 0.9797985553741455},\n",
       " {'label': 'LABEL_1', 'score': 0.9758726358413696},\n",
       " {'label': 'LABEL_0', 'score': 0.9827024936676025},\n",
       " {'label': 'LABEL_0', 'score': 0.9481409788131714},\n",
       " {'label': 'LABEL_1', 'score': 0.98087078332901},\n",
       " {'label': 'LABEL_1', 'score': 0.9808691740036011},\n",
       " {'label': 'LABEL_0', 'score': 0.5602893233299255},\n",
       " {'label': 'LABEL_1', 'score': 0.9607028961181641},\n",
       " {'label': 'LABEL_0', 'score': 0.5942577719688416},\n",
       " {'label': 'LABEL_1', 'score': 0.8124708533287048},\n",
       " {'label': 'LABEL_0', 'score': 0.9834741950035095},\n",
       " {'label': 'LABEL_1', 'score': 0.9813488125801086},\n",
       " {'label': 'LABEL_1', 'score': 0.9796923398971558},\n",
       " {'label': 'LABEL_1', 'score': 0.9667698740959167},\n",
       " {'label': 'LABEL_0', 'score': 0.9819301962852478},\n",
       " {'label': 'LABEL_0', 'score': 0.9869709014892578},\n",
       " {'label': 'LABEL_0', 'score': 0.969376802444458},\n",
       " {'label': 'LABEL_0', 'score': 0.986113965511322},\n",
       " {'label': 'LABEL_0', 'score': 0.9768518805503845},\n",
       " {'label': 'LABEL_1', 'score': 0.968031644821167},\n",
       " {'label': 'LABEL_1', 'score': 0.9798189401626587},\n",
       " {'label': 'LABEL_1', 'score': 0.978257954120636},\n",
       " {'label': 'LABEL_0', 'score': 0.9872573018074036},\n",
       " {'label': 'LABEL_1', 'score': 0.976570725440979},\n",
       " {'label': 'LABEL_0', 'score': 0.9861115217208862},\n",
       " {'label': 'LABEL_0', 'score': 0.9350729584693909},\n",
       " {'label': 'LABEL_1', 'score': 0.9745818376541138},\n",
       " {'label': 'LABEL_1', 'score': 0.9757174849510193},\n",
       " {'label': 'LABEL_0', 'score': 0.9731560349464417},\n",
       " {'label': 'LABEL_1', 'score': 0.9807277917861938},\n",
       " {'label': 'LABEL_1', 'score': 0.9797521829605103},\n",
       " {'label': 'LABEL_1', 'score': 0.9814921021461487},\n",
       " {'label': 'LABEL_0', 'score': 0.9703800082206726},\n",
       " {'label': 'LABEL_1', 'score': 0.9795912504196167},\n",
       " {'label': 'LABEL_1', 'score': 0.9773572087287903},\n",
       " {'label': 'LABEL_0', 'score': 0.9771519303321838},\n",
       " {'label': 'LABEL_1', 'score': 0.9786781072616577},\n",
       " {'label': 'LABEL_0', 'score': 0.9848381280899048},\n",
       " {'label': 'LABEL_1', 'score': 0.9809706807136536},\n",
       " {'label': 'LABEL_0', 'score': 0.9856583476066589},\n",
       " {'label': 'LABEL_0', 'score': 0.6434463858604431},\n",
       " {'label': 'LABEL_1', 'score': 0.9183027148246765},\n",
       " {'label': 'LABEL_1', 'score': 0.9786535501480103},\n",
       " {'label': 'LABEL_1', 'score': 0.9798040390014648},\n",
       " {'label': 'LABEL_1', 'score': 0.9572789669036865},\n",
       " {'label': 'LABEL_0', 'score': 0.8693365454673767},\n",
       " {'label': 'LABEL_1', 'score': 0.9692373871803284},\n",
       " {'label': 'LABEL_0', 'score': 0.9869693517684937},\n",
       " {'label': 'LABEL_0', 'score': 0.6770371198654175},\n",
       " {'label': 'LABEL_1', 'score': 0.9810319542884827},\n",
       " {'label': 'LABEL_0', 'score': 0.95084148645401},\n",
       " {'label': 'LABEL_1', 'score': 0.9763585329055786},\n",
       " {'label': 'LABEL_0', 'score': 0.8448073267936707},\n",
       " {'label': 'LABEL_0', 'score': 0.9864218235015869},\n",
       " {'label': 'LABEL_0', 'score': 0.8769301176071167},\n",
       " {'label': 'LABEL_1', 'score': 0.9777095317840576},\n",
       " {'label': 'LABEL_0', 'score': 0.9850471019744873},\n",
       " {'label': 'LABEL_0', 'score': 0.9798617362976074},\n",
       " {'label': 'LABEL_1', 'score': 0.9803353548049927},\n",
       " {'label': 'LABEL_1', 'score': 0.9814483523368835},\n",
       " {'label': 'LABEL_1', 'score': 0.9472874402999878},\n",
       " {'label': 'LABEL_0', 'score': 0.987667977809906},\n",
       " {'label': 'LABEL_0', 'score': 0.9835461378097534},\n",
       " {'label': 'LABEL_0', 'score': 0.842301070690155},\n",
       " {'label': 'LABEL_0', 'score': 0.9868246912956238},\n",
       " {'label': 'LABEL_1', 'score': 0.852016806602478},\n",
       " {'label': 'LABEL_1', 'score': 0.9730805158615112},\n",
       " {'label': 'LABEL_0', 'score': 0.9866986274719238},\n",
       " {'label': 'LABEL_1', 'score': 0.9798269271850586},\n",
       " {'label': 'LABEL_0', 'score': 0.9852225184440613},\n",
       " {'label': 'LABEL_1', 'score': 0.6385620832443237},\n",
       " {'label': 'LABEL_1', 'score': 0.9710676670074463},\n",
       " {'label': 'LABEL_0', 'score': 0.9872568845748901},\n",
       " {'label': 'LABEL_1', 'score': 0.6938123106956482},\n",
       " {'label': 'LABEL_1', 'score': 0.9786195158958435},\n",
       " {'label': 'LABEL_1', 'score': 0.9796361923217773},\n",
       " {'label': 'LABEL_1', 'score': 0.9795428514480591},\n",
       " {'label': 'LABEL_1', 'score': 0.980795681476593},\n",
       " {'label': 'LABEL_1', 'score': 0.8949314951896667},\n",
       " {'label': 'LABEL_0', 'score': 0.8927797079086304},\n",
       " {'label': 'LABEL_0', 'score': 0.9564641714096069},\n",
       " {'label': 'LABEL_1', 'score': 0.9819077849388123},\n",
       " {'label': 'LABEL_0', 'score': 0.9862635135650635},\n",
       " {'label': 'LABEL_1', 'score': 0.9785460829734802},\n",
       " {'label': 'LABEL_1', 'score': 0.9774790406227112},\n",
       " {'label': 'LABEL_0', 'score': 0.984902560710907},\n",
       " {'label': 'LABEL_1', 'score': 0.9808909893035889},\n",
       " {'label': 'LABEL_0', 'score': 0.9569735527038574},\n",
       " {'label': 'LABEL_0', 'score': 0.8577635288238525},\n",
       " {'label': 'LABEL_1', 'score': 0.9715061783790588},\n",
       " {'label': 'LABEL_0', 'score': 0.9870114326477051},\n",
       " {'label': 'LABEL_0', 'score': 0.9878413081169128},\n",
       " {'label': 'LABEL_0', 'score': 0.9801101684570312},\n",
       " {'label': 'LABEL_1', 'score': 0.9300859570503235},\n",
       " {'label': 'LABEL_1', 'score': 0.9548693299293518},\n",
       " {'label': 'LABEL_1', 'score': 0.705353319644928},\n",
       " {'label': 'LABEL_1', 'score': 0.9794195294380188},\n",
       " {'label': 'LABEL_1', 'score': 0.9443882703781128},\n",
       " {'label': 'LABEL_1', 'score': 0.9816834926605225},\n",
       " {'label': 'LABEL_1', 'score': 0.9809103608131409},\n",
       " {'label': 'LABEL_0', 'score': 0.9777671098709106},\n",
       " {'label': 'LABEL_0', 'score': 0.9830927848815918},\n",
       " {'label': 'LABEL_1', 'score': 0.9803044199943542},\n",
       " {'label': 'LABEL_1', 'score': 0.9587620496749878},\n",
       " {'label': 'LABEL_1', 'score': 0.9810841679573059},\n",
       " {'label': 'LABEL_1', 'score': 0.957460343837738},\n",
       " {'label': 'LABEL_0', 'score': 0.933258056640625},\n",
       " {'label': 'LABEL_1', 'score': 0.9772244691848755},\n",
       " {'label': 'LABEL_1', 'score': 0.9785056710243225},\n",
       " {'label': 'LABEL_1', 'score': 0.9740889072418213},\n",
       " {'label': 'LABEL_1', 'score': 0.9810725450515747},\n",
       " {'label': 'LABEL_0', 'score': 0.9858158826828003},\n",
       " {'label': 'LABEL_1', 'score': 0.9797109961509705},\n",
       " {'label': 'LABEL_1', 'score': 0.9774636626243591},\n",
       " {'label': 'LABEL_1', 'score': 0.9788644313812256},\n",
       " {'label': 'LABEL_1', 'score': 0.8218721151351929},\n",
       " {'label': 'LABEL_0', 'score': 0.9868387579917908},\n",
       " {'label': 'LABEL_1', 'score': 0.9742369651794434},\n",
       " {'label': 'LABEL_0', 'score': 0.9783408045768738},\n",
       " {'label': 'LABEL_0', 'score': 0.9864588379859924},\n",
       " {'label': 'LABEL_0', 'score': 0.9858264327049255},\n",
       " {'label': 'LABEL_1', 'score': 0.9801973104476929},\n",
       " {'label': 'LABEL_1', 'score': 0.9582007527351379},\n",
       " {'label': 'LABEL_0', 'score': 0.9670594334602356},\n",
       " {'label': 'LABEL_1', 'score': 0.9747868180274963},\n",
       " {'label': 'LABEL_1', 'score': 0.7485560178756714},\n",
       " {'label': 'LABEL_1', 'score': 0.8768158555030823},\n",
       " {'label': 'LABEL_1', 'score': 0.981063723564148},\n",
       " {'label': 'LABEL_0', 'score': 0.9778568744659424},\n",
       " {'label': 'LABEL_1', 'score': 0.9803542494773865},\n",
       " {'label': 'LABEL_0', 'score': 0.9668629169464111},\n",
       " {'label': 'LABEL_1', 'score': 0.9794023036956787},\n",
       " {'label': 'LABEL_1', 'score': 0.969334602355957},\n",
       " {'label': 'LABEL_1', 'score': 0.9751695990562439},\n",
       " {'label': 'LABEL_1', 'score': 0.9556633234024048},\n",
       " {'label': 'LABEL_1', 'score': 0.528336226940155},\n",
       " {'label': 'LABEL_1', 'score': 0.9742351770401001},\n",
       " {'label': 'LABEL_0', 'score': 0.9858962893486023},\n",
       " {'label': 'LABEL_0', 'score': 0.9862691760063171},\n",
       " {'label': 'LABEL_1', 'score': 0.979170560836792},\n",
       " {'label': 'LABEL_0', 'score': 0.9460487961769104},\n",
       " {'label': 'LABEL_1', 'score': 0.7260097861289978},\n",
       " {'label': 'LABEL_0', 'score': 0.9324490427970886},\n",
       " {'label': 'LABEL_1', 'score': 0.9790956974029541},\n",
       " {'label': 'LABEL_1', 'score': 0.9803035259246826},\n",
       " {'label': 'LABEL_0', 'score': 0.9814701676368713},\n",
       " {'label': 'LABEL_1', 'score': 0.980484664440155},\n",
       " {'label': 'LABEL_1', 'score': 0.7703328132629395},\n",
       " {'label': 'LABEL_1', 'score': 0.9779596328735352},\n",
       " {'label': 'LABEL_1', 'score': 0.9802139401435852},\n",
       " {'label': 'LABEL_0', 'score': 0.9550632238388062},\n",
       " {'label': 'LABEL_1', 'score': 0.9640788435935974},\n",
       " {'label': 'LABEL_1', 'score': 0.9793974757194519},\n",
       " {'label': 'LABEL_0', 'score': 0.9667616486549377},\n",
       " {'label': 'LABEL_1', 'score': 0.9789151549339294},\n",
       " {'label': 'LABEL_1', 'score': 0.9682905673980713},\n",
       " {'label': 'LABEL_0', 'score': 0.9846509695053101},\n",
       " {'label': 'LABEL_1', 'score': 0.9784528613090515},\n",
       " {'label': 'LABEL_1', 'score': 0.7124719023704529},\n",
       " {'label': 'LABEL_0', 'score': 0.9853830337524414},\n",
       " {'label': 'LABEL_0', 'score': 0.981545627117157},\n",
       " {'label': 'LABEL_1', 'score': 0.969554603099823},\n",
       " {'label': 'LABEL_0', 'score': 0.9623002409934998},\n",
       " {'label': 'LABEL_1', 'score': 0.9720832705497742},\n",
       " {'label': 'LABEL_0', 'score': 0.9857571721076965},\n",
       " {'label': 'LABEL_1', 'score': 0.7092821598052979},\n",
       " {'label': 'LABEL_1', 'score': 0.9778768420219421},\n",
       " {'label': 'LABEL_1', 'score': 0.9795963764190674},\n",
       " {'label': 'LABEL_1', 'score': 0.9611599445343018},\n",
       " {'label': 'LABEL_1', 'score': 0.981669545173645},\n",
       " {'label': 'LABEL_1', 'score': 0.9637668132781982},\n",
       " {'label': 'LABEL_1', 'score': 0.9793699383735657},\n",
       " {'label': 'LABEL_0', 'score': 0.9852727055549622},\n",
       " {'label': 'LABEL_1', 'score': 0.9790839552879333},\n",
       " {'label': 'LABEL_1', 'score': 0.9797049760818481},\n",
       " {'label': 'LABEL_1', 'score': 0.9809442758560181},\n",
       " {'label': 'LABEL_1', 'score': 0.9787384867668152},\n",
       " {'label': 'LABEL_1', 'score': 0.9774429798126221},\n",
       " {'label': 'LABEL_1', 'score': 0.9742087125778198},\n",
       " {'label': 'LABEL_1', 'score': 0.9803193211555481},\n",
       " {'label': 'LABEL_1', 'score': 0.9791533946990967},\n",
       " {'label': 'LABEL_0', 'score': 0.9832919239997864},\n",
       " {'label': 'LABEL_0', 'score': 0.8798562288284302},\n",
       " {'label': 'LABEL_0', 'score': 0.9838252067565918},\n",
       " {'label': 'LABEL_0', 'score': 0.9834728240966797},\n",
       " {'label': 'LABEL_1', 'score': 0.9769808650016785},\n",
       " {'label': 'LABEL_0', 'score': 0.9832355976104736},\n",
       " {'label': 'LABEL_1', 'score': 0.9362083077430725},\n",
       " {'label': 'LABEL_0', 'score': 0.640139102935791},\n",
       " {'label': 'LABEL_1', 'score': 0.9771956205368042},\n",
       " {'label': 'LABEL_1', 'score': 0.9824421405792236},\n",
       " {'label': 'LABEL_1', 'score': 0.6359432935714722},\n",
       " {'label': 'LABEL_0', 'score': 0.9845863580703735},\n",
       " {'label': 'LABEL_1', 'score': 0.9665188789367676},\n",
       " {'label': 'LABEL_1', 'score': 0.9723631739616394},\n",
       " {'label': 'LABEL_1', 'score': 0.5709549784660339},\n",
       " {'label': 'LABEL_1', 'score': 0.8632325530052185},\n",
       " {'label': 'LABEL_0', 'score': 0.9839336276054382},\n",
       " {'label': 'LABEL_1', 'score': 0.979494571685791},\n",
       " {'label': 'LABEL_0', 'score': 0.6767760515213013},\n",
       " {'label': 'LABEL_0', 'score': 0.9740760922431946},\n",
       " {'label': 'LABEL_1', 'score': 0.9715949296951294},\n",
       " {'label': 'LABEL_0', 'score': 0.6406072974205017},\n",
       " {'label': 'LABEL_1', 'score': 0.9752947688102722},\n",
       " {'label': 'LABEL_0', 'score': 0.9862288236618042},\n",
       " {'label': 'LABEL_0', 'score': 0.9851645231246948},\n",
       " {'label': 'LABEL_0', 'score': 0.8931460380554199},\n",
       " {'label': 'LABEL_1', 'score': 0.978559672832489},\n",
       " {'label': 'LABEL_0', 'score': 0.9802598357200623},\n",
       " {'label': 'LABEL_1', 'score': 0.8516519069671631},\n",
       " {'label': 'LABEL_1', 'score': 0.9752426147460938},\n",
       " {'label': 'LABEL_1', 'score': 0.9775949120521545},\n",
       " {'label': 'LABEL_0', 'score': 0.9837963581085205},\n",
       " {'label': 'LABEL_1', 'score': 0.9792755842208862},\n",
       " {'label': 'LABEL_0', 'score': 0.9861138463020325},\n",
       " {'label': 'LABEL_1', 'score': 0.9250274896621704},\n",
       " {'label': 'LABEL_1', 'score': 0.9808140397071838},\n",
       " {'label': 'LABEL_1', 'score': 0.6850232481956482},\n",
       " {'label': 'LABEL_0', 'score': 0.9615693688392639},\n",
       " {'label': 'LABEL_0', 'score': 0.9225568175315857},\n",
       " {'label': 'LABEL_1', 'score': 0.9708940386772156},\n",
       " {'label': 'LABEL_1', 'score': 0.9476426839828491},\n",
       " {'label': 'LABEL_1', 'score': 0.9750294089317322},\n",
       " {'label': 'LABEL_0', 'score': 0.9778438210487366},\n",
       " {'label': 'LABEL_0', 'score': 0.9719843864440918},\n",
       " {'label': 'LABEL_0', 'score': 0.9885411262512207},\n",
       " {'label': 'LABEL_0', 'score': 0.9847276210784912},\n",
       " {'label': 'LABEL_0', 'score': 0.9821802377700806},\n",
       " {'label': 'LABEL_1', 'score': 0.970732569694519},\n",
       " {'label': 'LABEL_1', 'score': 0.9659423828125},\n",
       " {'label': 'LABEL_1', 'score': 0.9405705332756042},\n",
       " {'label': 'LABEL_0', 'score': 0.9874120950698853},\n",
       " {'label': 'LABEL_1', 'score': 0.9801871180534363},\n",
       " {'label': 'LABEL_1', 'score': 0.939460813999176},\n",
       " {'label': 'LABEL_0', 'score': 0.8415324687957764},\n",
       " {'label': 'LABEL_1', 'score': 0.9713079929351807},\n",
       " {'label': 'LABEL_0', 'score': 0.9860921502113342},\n",
       " {'label': 'LABEL_0', 'score': 0.959753692150116},\n",
       " {'label': 'LABEL_0', 'score': 0.9832755923271179},\n",
       " {'label': 'LABEL_0', 'score': 0.9528700709342957},\n",
       " {'label': 'LABEL_0', 'score': 0.9823280572891235},\n",
       " {'label': 'LABEL_0', 'score': 0.9862712621688843},\n",
       " {'label': 'LABEL_1', 'score': 0.9793287515640259},\n",
       " {'label': 'LABEL_1', 'score': 0.9809829592704773},\n",
       " {'label': 'LABEL_1', 'score': 0.9536683559417725},\n",
       " {'label': 'LABEL_1', 'score': 0.6404890418052673},\n",
       " {'label': 'LABEL_0', 'score': 0.9653492569923401},\n",
       " {'label': 'LABEL_0', 'score': 0.9846946597099304},\n",
       " {'label': 'LABEL_1', 'score': 0.9702504873275757},\n",
       " {'label': 'LABEL_1', 'score': 0.9782760739326477},\n",
       " {'label': 'LABEL_0', 'score': 0.9870001673698425},\n",
       " {'label': 'LABEL_1', 'score': 0.9644064903259277},\n",
       " {'label': 'LABEL_1', 'score': 0.9797365069389343},\n",
       " {'label': 'LABEL_0', 'score': 0.9852758646011353},\n",
       " {'label': 'LABEL_0', 'score': 0.9843871593475342},\n",
       " {'label': 'LABEL_0', 'score': 0.952532172203064},\n",
       " {'label': 'LABEL_0', 'score': 0.9802647829055786},\n",
       " {'label': 'LABEL_0', 'score': 0.9860619902610779},\n",
       " {'label': 'LABEL_0', 'score': 0.982100784778595},\n",
       " {'label': 'LABEL_1', 'score': 0.9793598651885986},\n",
       " {'label': 'LABEL_0', 'score': 0.983385443687439},\n",
       " {'label': 'LABEL_1', 'score': 0.9672785401344299},\n",
       " {'label': 'LABEL_0', 'score': 0.953300952911377},\n",
       " {'label': 'LABEL_0', 'score': 0.9819509983062744},\n",
       " {'label': 'LABEL_0', 'score': 0.9278163909912109},\n",
       " {'label': 'LABEL_0', 'score': 0.9828322529792786},\n",
       " {'label': 'LABEL_0', 'score': 0.6120282411575317},\n",
       " {'label': 'LABEL_1', 'score': 0.8249726891517639},\n",
       " {'label': 'LABEL_1', 'score': 0.9461400508880615},\n",
       " {'label': 'LABEL_0', 'score': 0.9691097140312195},\n",
       " {'label': 'LABEL_1', 'score': 0.979000985622406},\n",
       " {'label': 'LABEL_0', 'score': 0.9764263033866882},\n",
       " {'label': 'LABEL_1', 'score': 0.9758749008178711},\n",
       " {'label': 'LABEL_1', 'score': 0.5759932398796082},\n",
       " {'label': 'LABEL_1', 'score': 0.9761720895767212},\n",
       " {'label': 'LABEL_0', 'score': 0.9863576889038086},\n",
       " {'label': 'LABEL_1', 'score': 0.9787759184837341},\n",
       " {'label': 'LABEL_0', 'score': 0.7062920331954956},\n",
       " {'label': 'LABEL_0', 'score': 0.7797135710716248},\n",
       " {'label': 'LABEL_0', 'score': 0.9869797229766846},\n",
       " {'label': 'LABEL_0', 'score': 0.9866112470626831},\n",
       " {'label': 'LABEL_1', 'score': 0.9769962430000305},\n",
       " {'label': 'LABEL_1', 'score': 0.9809637069702148},\n",
       " {'label': 'LABEL_1', 'score': 0.979899525642395},\n",
       " {'label': 'LABEL_0', 'score': 0.9870550632476807},\n",
       " {'label': 'LABEL_1', 'score': 0.9784826636314392},\n",
       " {'label': 'LABEL_0', 'score': 0.8686927556991577},\n",
       " {'label': 'LABEL_1', 'score': 0.9729909300804138},\n",
       " {'label': 'LABEL_0', 'score': 0.9712249636650085},\n",
       " {'label': 'LABEL_1', 'score': 0.9811310768127441},\n",
       " {'label': 'LABEL_0', 'score': 0.9849504232406616},\n",
       " {'label': 'LABEL_0', 'score': 0.985724151134491},\n",
       " {'label': 'LABEL_0', 'score': 0.9711257815361023},\n",
       " {'label': 'LABEL_1', 'score': 0.9753740429878235},\n",
       " {'label': 'LABEL_1', 'score': 0.9635242819786072},\n",
       " {'label': 'LABEL_0', 'score': 0.9497185945510864},\n",
       " {'label': 'LABEL_0', 'score': 0.9267212748527527},\n",
       " {'label': 'LABEL_1', 'score': 0.9803540110588074},\n",
       " {'label': 'LABEL_1', 'score': 0.9766967296600342},\n",
       " {'label': 'LABEL_1', 'score': 0.8057623505592346},\n",
       " {'label': 'LABEL_1', 'score': 0.9720537662506104},\n",
       " {'label': 'LABEL_1', 'score': 0.9742079973220825},\n",
       " {'label': 'LABEL_1', 'score': 0.9777600169181824},\n",
       " {'label': 'LABEL_1', 'score': 0.9788434505462646},\n",
       " {'label': 'LABEL_0', 'score': 0.9827091693878174},\n",
       " {'label': 'LABEL_0', 'score': 0.9873976111412048},\n",
       " {'label': 'LABEL_1', 'score': 0.9788212776184082},\n",
       " {'label': 'LABEL_1', 'score': 0.9693413972854614},\n",
       " {'label': 'LABEL_0', 'score': 0.9828952550888062},\n",
       " {'label': 'LABEL_0', 'score': 0.9802614450454712},\n",
       " {'label': 'LABEL_1', 'score': 0.9782574772834778},\n",
       " {'label': 'LABEL_1', 'score': 0.9791922569274902},\n",
       " {'label': 'LABEL_1', 'score': 0.9809978604316711},\n",
       " {'label': 'LABEL_1', 'score': 0.9793510437011719},\n",
       " {'label': 'LABEL_1', 'score': 0.8050517439842224},\n",
       " {'label': 'LABEL_0', 'score': 0.9766661524772644},\n",
       " {'label': 'LABEL_1', 'score': 0.9517790079116821},\n",
       " {'label': 'LABEL_0', 'score': 0.9772759079933167},\n",
       " {'label': 'LABEL_0', 'score': 0.9846142530441284},\n",
       " {'label': 'LABEL_0', 'score': 0.9823947548866272},\n",
       " {'label': 'LABEL_0', 'score': 0.9839404821395874},\n",
       " {'label': 'LABEL_1', 'score': 0.9770926237106323},\n",
       " {'label': 'LABEL_1', 'score': 0.9633064866065979},\n",
       " {'label': 'LABEL_1', 'score': 0.9773545861244202},\n",
       " {'label': 'LABEL_1', 'score': 0.9800471663475037},\n",
       " {'label': 'LABEL_1', 'score': 0.9777186512947083},\n",
       " {'label': 'LABEL_1', 'score': 0.9642443060874939},\n",
       " {'label': 'LABEL_0', 'score': 0.5984682440757751},\n",
       " {'label': 'LABEL_1', 'score': 0.9649501442909241},\n",
       " {'label': 'LABEL_1', 'score': 0.9668332934379578},\n",
       " {'label': 'LABEL_1', 'score': 0.9795462489128113},\n",
       " {'label': 'LABEL_1', 'score': 0.9768805503845215},\n",
       " {'label': 'LABEL_1', 'score': 0.9777141213417053},\n",
       " {'label': 'LABEL_1', 'score': 0.7896234393119812},\n",
       " {'label': 'LABEL_0', 'score': 0.9877538084983826},\n",
       " {'label': 'LABEL_1', 'score': 0.9477918148040771},\n",
       " {'label': 'LABEL_0', 'score': 0.9851110577583313},\n",
       " {'label': 'LABEL_1', 'score': 0.9050470590591431},\n",
       " {'label': 'LABEL_1', 'score': 0.5059866309165955},\n",
       " {'label': 'LABEL_1', 'score': 0.9794421792030334},\n",
       " {'label': 'LABEL_0', 'score': 0.9850022196769714},\n",
       " {'label': 'LABEL_1', 'score': 0.9799338579177856},\n",
       " {'label': 'LABEL_1', 'score': 0.9807416796684265},\n",
       " {'label': 'LABEL_0', 'score': 0.9590200781822205},\n",
       " {'label': 'LABEL_1', 'score': 0.9790998101234436},\n",
       " {'label': 'LABEL_1', 'score': 0.9711681604385376},\n",
       " {'label': 'LABEL_1', 'score': 0.9722926020622253},\n",
       " {'label': 'LABEL_1', 'score': 0.6885436177253723},\n",
       " {'label': 'LABEL_1', 'score': 0.9780129790306091},\n",
       " {'label': 'LABEL_0', 'score': 0.9546023011207581},\n",
       " {'label': 'LABEL_1', 'score': 0.97657710313797},\n",
       " {'label': 'LABEL_0', 'score': 0.9683411717414856},\n",
       " {'label': 'LABEL_0', 'score': 0.9770960211753845},\n",
       " {'label': 'LABEL_1', 'score': 0.9810166954994202},\n",
       " {'label': 'LABEL_1', 'score': 0.9785159826278687},\n",
       " {'label': 'LABEL_0', 'score': 0.9858632683753967},\n",
       " {'label': 'LABEL_0', 'score': 0.9850404262542725},\n",
       " {'label': 'LABEL_1', 'score': 0.9746512770652771},\n",
       " {'label': 'LABEL_1', 'score': 0.9739316701889038},\n",
       " {'label': 'LABEL_1', 'score': 0.9455261826515198},\n",
       " {'label': 'LABEL_1', 'score': 0.9800732731819153},\n",
       " {'label': 'LABEL_1', 'score': 0.9804520010948181},\n",
       " {'label': 'LABEL_0', 'score': 0.98667311668396},\n",
       " {'label': 'LABEL_0', 'score': 0.970599353313446},\n",
       " {'label': 'LABEL_1', 'score': 0.9811751246452332},\n",
       " {'label': 'LABEL_1', 'score': 0.9805632829666138},\n",
       " {'label': 'LABEL_0', 'score': 0.9806287288665771},\n",
       " {'label': 'LABEL_1', 'score': 0.9678288102149963},\n",
       " {'label': 'LABEL_0', 'score': 0.9865092635154724},\n",
       " {'label': 'LABEL_0', 'score': 0.9846156239509583},\n",
       " {'label': 'LABEL_0', 'score': 0.9816403985023499},\n",
       " {'label': 'LABEL_0', 'score': 0.9795380234718323},\n",
       " {'label': 'LABEL_0', 'score': 0.9768543839454651},\n",
       " {'label': 'LABEL_1', 'score': 0.8792234063148499},\n",
       " {'label': 'LABEL_0', 'score': 0.9861440658569336},\n",
       " {'label': 'LABEL_0', 'score': 0.9712342023849487},\n",
       " {'label': 'LABEL_1', 'score': 0.83372563123703},\n",
       " {'label': 'LABEL_1', 'score': 0.9742141366004944},\n",
       " {'label': 'LABEL_1', 'score': 0.98089599609375},\n",
       " {'label': 'LABEL_1', 'score': 0.9792196154594421},\n",
       " {'label': 'LABEL_0', 'score': 0.9820067286491394},\n",
       " {'label': 'LABEL_0', 'score': 0.9545689821243286},\n",
       " {'label': 'LABEL_0', 'score': 0.8597170114517212},\n",
       " {'label': 'LABEL_0', 'score': 0.9392253160476685},\n",
       " {'label': 'LABEL_1', 'score': 0.9775876402854919},\n",
       " {'label': 'LABEL_1', 'score': 0.9783279895782471},\n",
       " {'label': 'LABEL_1', 'score': 0.9735216498374939},\n",
       " {'label': 'LABEL_0', 'score': 0.983878493309021},\n",
       " {'label': 'LABEL_0', 'score': 0.9867839813232422},\n",
       " {'label': 'LABEL_0', 'score': 0.9749823808670044},\n",
       " {'label': 'LABEL_1', 'score': 0.9158275723457336},\n",
       " {'label': 'LABEL_1', 'score': 0.9569273591041565},\n",
       " {'label': 'LABEL_1', 'score': 0.9640637636184692},\n",
       " {'label': 'LABEL_0', 'score': 0.9876216053962708},\n",
       " {'label': 'LABEL_1', 'score': 0.9552350044250488},\n",
       " {'label': 'LABEL_1', 'score': 0.9794643521308899},\n",
       " {'label': 'LABEL_0', 'score': 0.9857010841369629},\n",
       " {'label': 'LABEL_0', 'score': 0.9865352511405945},\n",
       " {'label': 'LABEL_1', 'score': 0.9737370014190674},\n",
       " {'label': 'LABEL_1', 'score': 0.9711712002754211},\n",
       " {'label': 'LABEL_1', 'score': 0.9787922501564026},\n",
       " {'label': 'LABEL_0', 'score': 0.9781613349914551},\n",
       " {'label': 'LABEL_0', 'score': 0.9855881929397583},\n",
       " {'label': 'LABEL_0', 'score': 0.985388457775116},\n",
       " {'label': 'LABEL_1', 'score': 0.979678750038147},\n",
       " {'label': 'LABEL_1', 'score': 0.9800042510032654},\n",
       " {'label': 'LABEL_1', 'score': 0.9776715636253357},\n",
       " {'label': 'LABEL_0', 'score': 0.9699362516403198},\n",
       " {'label': 'LABEL_0', 'score': 0.9832688570022583},\n",
       " {'label': 'LABEL_0', 'score': 0.9860383868217468},\n",
       " {'label': 'LABEL_0', 'score': 0.5812913775444031},\n",
       " {'label': 'LABEL_0', 'score': 0.964503288269043},\n",
       " {'label': 'LABEL_1', 'score': 0.9405310750007629},\n",
       " {'label': 'LABEL_1', 'score': 0.9654628038406372},\n",
       " {'label': 'LABEL_0', 'score': 0.9845017790794373},\n",
       " {'label': 'LABEL_1', 'score': 0.9692276120185852},\n",
       " {'label': 'LABEL_1', 'score': 0.9790144562721252},\n",
       " {'label': 'LABEL_0', 'score': 0.9777209162712097},\n",
       " {'label': 'LABEL_1', 'score': 0.9726703763008118},\n",
       " {'label': 'LABEL_0', 'score': 0.7219849824905396},\n",
       " {'label': 'LABEL_0', 'score': 0.98346346616745},\n",
       " {'label': 'LABEL_0', 'score': 0.9810155630111694},\n",
       " {'label': 'LABEL_1', 'score': 0.970634400844574},\n",
       " {'label': 'LABEL_1', 'score': 0.9791104197502136},\n",
       " {'label': 'LABEL_0', 'score': 0.9775082468986511},\n",
       " {'label': 'LABEL_0', 'score': 0.9876765012741089},\n",
       " {'label': 'LABEL_0', 'score': 0.9576472640037537},\n",
       " {'label': 'LABEL_0', 'score': 0.9796332120895386},\n",
       " {'label': 'LABEL_1', 'score': 0.9748859405517578},\n",
       " {'label': 'LABEL_0', 'score': 0.977350115776062},\n",
       " {'label': 'LABEL_0', 'score': 0.9847618341445923},\n",
       " {'label': 'LABEL_0', 'score': 0.9354488849639893},\n",
       " {'label': 'LABEL_1', 'score': 0.9801952242851257},\n",
       " {'label': 'LABEL_1', 'score': 0.9790008664131165},\n",
       " {'label': 'LABEL_1', 'score': 0.9790464639663696},\n",
       " {'label': 'LABEL_0', 'score': 0.985352098941803},\n",
       " {'label': 'LABEL_0', 'score': 0.9824106693267822},\n",
       " {'label': 'LABEL_1', 'score': 0.9782184958457947},\n",
       " {'label': 'LABEL_1', 'score': 0.9747523069381714},\n",
       " {'label': 'LABEL_1', 'score': 0.9778712391853333},\n",
       " {'label': 'LABEL_1', 'score': 0.9593113660812378},\n",
       " {'label': 'LABEL_0', 'score': 0.9749667644500732},\n",
       " {'label': 'LABEL_1', 'score': 0.9813884496688843},\n",
       " {'label': 'LABEL_0', 'score': 0.9816840291023254},\n",
       " {'label': 'LABEL_0', 'score': 0.9435946941375732},\n",
       " {'label': 'LABEL_1', 'score': 0.9792359471321106},\n",
       " {'label': 'LABEL_1', 'score': 0.9808003902435303},\n",
       " {'label': 'LABEL_1', 'score': 0.9736701250076294},\n",
       " {'label': 'LABEL_1', 'score': 0.9805555939674377},\n",
       " {'label': 'LABEL_1', 'score': 0.9803735017776489},\n",
       " {'label': 'LABEL_0', 'score': 0.7941888570785522},\n",
       " {'label': 'LABEL_1', 'score': 0.976926863193512},\n",
       " {'label': 'LABEL_0', 'score': 0.9745857119560242},\n",
       " {'label': 'LABEL_0', 'score': 0.9869106411933899},\n",
       " {'label': 'LABEL_0', 'score': 0.8961893320083618},\n",
       " {'label': 'LABEL_1', 'score': 0.9803549647331238},\n",
       " {'label': 'LABEL_1', 'score': 0.9556821584701538},\n",
       " {'label': 'LABEL_0', 'score': 0.6518131494522095},\n",
       " {'label': 'LABEL_1', 'score': 0.9793298840522766},\n",
       " {'label': 'LABEL_1', 'score': 0.6512003540992737},\n",
       " {'label': 'LABEL_1', 'score': 0.9769477844238281},\n",
       " {'label': 'LABEL_0', 'score': 0.9840396046638489},\n",
       " {'label': 'LABEL_0', 'score': 0.9860652685165405},\n",
       " {'label': 'LABEL_1', 'score': 0.9723964929580688},\n",
       " {'label': 'LABEL_1', 'score': 0.9801722168922424},\n",
       " {'label': 'LABEL_0', 'score': 0.9869871139526367},\n",
       " {'label': 'LABEL_0', 'score': 0.9799340963363647},\n",
       " {'label': 'LABEL_1', 'score': 0.979365348815918},\n",
       " {'label': 'LABEL_0', 'score': 0.978578507900238},\n",
       " {'label': 'LABEL_1', 'score': 0.9790118336677551},\n",
       " {'label': 'LABEL_1', 'score': 0.9694471955299377},\n",
       " {'label': 'LABEL_1', 'score': 0.8056830167770386},\n",
       " {'label': 'LABEL_0', 'score': 0.9724265933036804},\n",
       " {'label': 'LABEL_0', 'score': 0.9843506813049316},\n",
       " {'label': 'LABEL_0', 'score': 0.981838583946228},\n",
       " {'label': 'LABEL_0', 'score': 0.9780460596084595},\n",
       " {'label': 'LABEL_0', 'score': 0.9806960225105286},\n",
       " {'label': 'LABEL_1', 'score': 0.9796349406242371},\n",
       " {'label': 'LABEL_1', 'score': 0.9805780649185181},\n",
       " {'label': 'LABEL_1', 'score': 0.7655885219573975},\n",
       " {'label': 'LABEL_0', 'score': 0.974197268486023},\n",
       " {'label': 'LABEL_0', 'score': 0.9535351395606995},\n",
       " {'label': 'LABEL_0', 'score': 0.9856829047203064},\n",
       " {'label': 'LABEL_1', 'score': 0.9495012164115906},\n",
       " {'label': 'LABEL_0', 'score': 0.9852778315544128},\n",
       " {'label': 'LABEL_1', 'score': 0.9789819121360779},\n",
       " {'label': 'LABEL_0', 'score': 0.9840946793556213},\n",
       " {'label': 'LABEL_0', 'score': 0.986220121383667},\n",
       " {'label': 'LABEL_1', 'score': 0.9803321361541748},\n",
       " {'label': 'LABEL_0', 'score': 0.9872053861618042},\n",
       " {'label': 'LABEL_0', 'score': 0.9856858253479004},\n",
       " {'label': 'LABEL_1', 'score': 0.9773398041725159},\n",
       " {'label': 'LABEL_0', 'score': 0.9869150519371033},\n",
       " {'label': 'LABEL_0', 'score': 0.9868357181549072},\n",
       " {'label': 'LABEL_0', 'score': 0.9848057627677917},\n",
       " {'label': 'LABEL_1', 'score': 0.5775588154792786},\n",
       " {'label': 'LABEL_0', 'score': 0.7345752120018005},\n",
       " {'label': 'LABEL_0', 'score': 0.9855932593345642},\n",
       " {'label': 'LABEL_1', 'score': 0.9793302416801453},\n",
       " {'label': 'LABEL_0', 'score': 0.940966784954071},\n",
       " {'label': 'LABEL_1', 'score': 0.9766936898231506},\n",
       " {'label': 'LABEL_0', 'score': 0.9539682269096375},\n",
       " {'label': 'LABEL_0', 'score': 0.9854328036308289},\n",
       " {'label': 'LABEL_0', 'score': 0.9868769645690918},\n",
       " {'label': 'LABEL_0', 'score': 0.7955489754676819},\n",
       " {'label': 'LABEL_0', 'score': 0.9832768440246582},\n",
       " {'label': 'LABEL_1', 'score': 0.9783851504325867},\n",
       " {'label': 'LABEL_1', 'score': 0.9802715182304382},\n",
       " {'label': 'LABEL_1', 'score': 0.9809103608131409},\n",
       " {'label': 'LABEL_1', 'score': 0.9749216437339783},\n",
       " {'label': 'LABEL_0', 'score': 0.9858961701393127},\n",
       " {'label': 'LABEL_1', 'score': 0.980568528175354},\n",
       " {'label': 'LABEL_1', 'score': 0.9810741543769836},\n",
       " {'label': 'LABEL_0', 'score': 0.9624494910240173},\n",
       " {'label': 'LABEL_1', 'score': 0.9736958742141724},\n",
       " {'label': 'LABEL_1', 'score': 0.980471670627594},\n",
       " {'label': 'LABEL_1', 'score': 0.9775742888450623},\n",
       " {'label': 'LABEL_1', 'score': 0.9796205163002014},\n",
       " {'label': 'LABEL_0', 'score': 0.9861583113670349},\n",
       " {'label': 'LABEL_0', 'score': 0.9839388728141785},\n",
       " {'label': 'LABEL_0', 'score': 0.9805241823196411},\n",
       " {'label': 'LABEL_0', 'score': 0.9785005450248718},\n",
       " {'label': 'LABEL_1', 'score': 0.9527611136436462},\n",
       " {'label': 'LABEL_1', 'score': 0.9778713583946228},\n",
       " {'label': 'LABEL_0', 'score': 0.9859311580657959},\n",
       " {'label': 'LABEL_0', 'score': 0.985923171043396},\n",
       " {'label': 'LABEL_0', 'score': 0.9844857454299927},\n",
       " {'label': 'LABEL_1', 'score': 0.9802443981170654},\n",
       " {'label': 'LABEL_0', 'score': 0.9856751561164856},\n",
       " {'label': 'LABEL_0', 'score': 0.9504752159118652},\n",
       " {'label': 'LABEL_1', 'score': 0.9794036746025085},\n",
       " {'label': 'LABEL_1', 'score': 0.9814059734344482},\n",
       " {'label': 'LABEL_1', 'score': 0.9748020172119141},\n",
       " {'label': 'LABEL_0', 'score': 0.9680943489074707},\n",
       " {'label': 'LABEL_1', 'score': 0.9565461874008179},\n",
       " {'label': 'LABEL_0', 'score': 0.8680578470230103},\n",
       " {'label': 'LABEL_0', 'score': 0.8090620636940002},\n",
       " {'label': 'LABEL_1', 'score': 0.9800994992256165},\n",
       " {'label': 'LABEL_1', 'score': 0.9787405133247375},\n",
       " {'label': 'LABEL_1', 'score': 0.7411432266235352},\n",
       " {'label': 'LABEL_1', 'score': 0.9715633392333984},\n",
       " {'label': 'LABEL_0', 'score': 0.8987615704536438},\n",
       " {'label': 'LABEL_0', 'score': 0.9840275049209595},\n",
       " {'label': 'LABEL_0', 'score': 0.9823821187019348},\n",
       " {'label': 'LABEL_1', 'score': 0.9761764407157898},\n",
       " {'label': 'LABEL_0', 'score': 0.8878660202026367},\n",
       " {'label': 'LABEL_0', 'score': 0.9858546853065491},\n",
       " {'label': 'LABEL_1', 'score': 0.9808690547943115},\n",
       " {'label': 'LABEL_0', 'score': 0.7343139052391052},\n",
       " {'label': 'LABEL_1', 'score': 0.9796512722969055},\n",
       " {'label': 'LABEL_0', 'score': 0.9855746030807495},\n",
       " {'label': 'LABEL_1', 'score': 0.9712325930595398},\n",
       " {'label': 'LABEL_1', 'score': 0.9786778688430786},\n",
       " {'label': 'LABEL_0', 'score': 0.9386930465698242},\n",
       " {'label': 'LABEL_0', 'score': 0.98479825258255},\n",
       " {'label': 'LABEL_1', 'score': 0.9785701036453247},\n",
       " {'label': 'LABEL_1', 'score': 0.9606052041053772},\n",
       " {'label': 'LABEL_1', 'score': 0.9798184633255005},\n",
       " {'label': 'LABEL_1', 'score': 0.9123372435569763},\n",
       " {'label': 'LABEL_1', 'score': 0.9787479639053345},\n",
       " {'label': 'LABEL_1', 'score': 0.9763566255569458},\n",
       " {'label': 'LABEL_1', 'score': 0.977691650390625},\n",
       " {'label': 'LABEL_0', 'score': 0.986375093460083},\n",
       " {'label': 'LABEL_1', 'score': 0.6021766662597656},\n",
       " {'label': 'LABEL_1', 'score': 0.966602087020874},\n",
       " {'label': 'LABEL_1', 'score': 0.9302401542663574},\n",
       " {'label': 'LABEL_1', 'score': 0.9791411757469177},\n",
       " {'label': 'LABEL_1', 'score': 0.9554994702339172},\n",
       " {'label': 'LABEL_1', 'score': 0.9791308045387268},\n",
       " {'label': 'LABEL_1', 'score': 0.9669620990753174},\n",
       " {'label': 'LABEL_1', 'score': 0.7479800581932068},\n",
       " {'label': 'LABEL_1', 'score': 0.9798552989959717},\n",
       " {'label': 'LABEL_1', 'score': 0.9079237580299377},\n",
       " {'label': 'LABEL_0', 'score': 0.9810139536857605},\n",
       " {'label': 'LABEL_1', 'score': 0.9652715921401978},\n",
       " {'label': 'LABEL_1', 'score': 0.9792987108230591},\n",
       " {'label': 'LABEL_0', 'score': 0.9786878824234009},\n",
       " {'label': 'LABEL_1', 'score': 0.8077247738838196},\n",
       " {'label': 'LABEL_1', 'score': 0.979645311832428},\n",
       " {'label': 'LABEL_0', 'score': 0.7970407009124756},\n",
       " {'label': 'LABEL_1', 'score': 0.974275529384613},\n",
       " {'label': 'LABEL_0', 'score': 0.9673572778701782},\n",
       " {'label': 'LABEL_0', 'score': 0.9852415919303894},\n",
       " {'label': 'LABEL_1', 'score': 0.9798795580863953},\n",
       " {'label': 'LABEL_1', 'score': 0.9599868655204773},\n",
       " {'label': 'LABEL_1', 'score': 0.8842719793319702},\n",
       " {'label': 'LABEL_0', 'score': 0.9830363392829895},\n",
       " {'label': 'LABEL_1', 'score': 0.9804856777191162},\n",
       " {'label': 'LABEL_1', 'score': 0.9377956390380859},\n",
       " {'label': 'LABEL_0', 'score': 0.979017436504364},\n",
       " {'label': 'LABEL_0', 'score': 0.9836392998695374},\n",
       " {'label': 'LABEL_1', 'score': 0.9794961810112},\n",
       " {'label': 'LABEL_1', 'score': 0.9783041477203369},\n",
       " {'label': 'LABEL_1', 'score': 0.9789244532585144},\n",
       " {'label': 'LABEL_0', 'score': 0.983031153678894},\n",
       " {'label': 'LABEL_1', 'score': 0.9766566157341003},\n",
       " {'label': 'LABEL_1', 'score': 0.9806051254272461},\n",
       " {'label': 'LABEL_1', 'score': 0.9746567010879517},\n",
       " {'label': 'LABEL_1', 'score': 0.977745532989502},\n",
       " {'label': 'LABEL_1', 'score': 0.9722827076911926},\n",
       " {'label': 'LABEL_1', 'score': 0.7440217733383179},\n",
       " {'label': 'LABEL_1', 'score': 0.967445969581604},\n",
       " {'label': 'LABEL_1', 'score': 0.9611169695854187},\n",
       " {'label': 'LABEL_1', 'score': 0.9779666662216187},\n",
       " {'label': 'LABEL_1', 'score': 0.9795825481414795},\n",
       " {'label': 'LABEL_1', 'score': 0.9733626842498779},\n",
       " {'label': 'LABEL_0', 'score': 0.972074031829834},\n",
       " {'label': 'LABEL_1', 'score': 0.976996123790741},\n",
       " {'label': 'LABEL_1', 'score': 0.9765199422836304},\n",
       " {'label': 'LABEL_1', 'score': 0.9754325747489929},\n",
       " {'label': 'LABEL_1', 'score': 0.9626197218894958},\n",
       " {'label': 'LABEL_0', 'score': 0.9852229356765747},\n",
       " {'label': 'LABEL_1', 'score': 0.956798255443573},\n",
       " {'label': 'LABEL_1', 'score': 0.9795650243759155},\n",
       " {'label': 'LABEL_1', 'score': 0.9800911545753479},\n",
       " {'label': 'LABEL_1', 'score': 0.9733566045761108},\n",
       " {'label': 'LABEL_1', 'score': 0.9725919961929321},\n",
       " {'label': 'LABEL_0', 'score': 0.9861282110214233},\n",
       " {'label': 'LABEL_1', 'score': 0.9795302748680115},\n",
       " {'label': 'LABEL_1', 'score': 0.9790736436843872},\n",
       " {'label': 'LABEL_0', 'score': 0.6536254286766052},\n",
       " {'label': 'LABEL_0', 'score': 0.9844018816947937},\n",
       " {'label': 'LABEL_1', 'score': 0.9692410826683044},\n",
       " {'label': 'LABEL_1', 'score': 0.5296620726585388},\n",
       " {'label': 'LABEL_1', 'score': 0.9812431931495667},\n",
       " {'label': 'LABEL_1', 'score': 0.9807189702987671},\n",
       " {'label': 'LABEL_1', 'score': 0.9760199189186096},\n",
       " {'label': 'LABEL_0', 'score': 0.9871314764022827},\n",
       " {'label': 'LABEL_1', 'score': 0.9771578311920166},\n",
       " ...]"
      ]
     },
     "execution_count": 50,
     "metadata": {},
     "output_type": "execute_result"
    }
   ],
   "source": [
    "results"
   ]
  },
  {
   "cell_type": "code",
   "execution_count": 51,
   "metadata": {},
   "outputs": [],
   "source": [
    "results_df = pd.DataFrame(results)\n",
    "results_df.to_csv(r'..\\data\\results_IMDBmod.csv', index=False)"
   ]
  },
  {
   "cell_type": "code",
   "execution_count": 52,
   "metadata": {},
   "outputs": [],
   "source": [
    "from sklearn.metrics import confusion_matrix, accuracy_score\n",
    "import numpy as np\n"
   ]
  },
  {
   "cell_type": "code",
   "execution_count": 53,
   "metadata": {},
   "outputs": [
    {
     "name": "stdout",
     "output_type": "stream",
     "text": [
      "[[10505  1969]\n",
      " [  899 11627]]\n"
     ]
    }
   ],
   "source": [
    "\n",
    "# Generate predictions\n",
    "y_pred = [result['label'] for result in results]\n",
    "\n",
    "# Create confusion matrix\n",
    "conf_matrix = confusion_matrix(y_test, y_pred, labels=['LABEL_0', 'LABEL_1'])\n",
    "print(conf_matrix)\n"
   ]
  },
  {
   "cell_type": "code",
   "execution_count": 54,
   "metadata": {},
   "outputs": [],
   "source": [
    "import seaborn as sns\n",
    "\n",
    "import matplotlib.pyplot as plt\n"
   ]
  },
  {
   "cell_type": "code",
   "execution_count": 57,
   "metadata": {},
   "outputs": [
    {
     "data": {
      "image/png": "[encoded data removed]",
      "text/plain": [
       "<Figure size 1000x700 with 2 Axes>"
      ]
     },
     "metadata": {},
     "output_type": "display_data"
    }
   ],
   "source": [
    "\n",
    "# Plot confusion matrix\n",
    "plt.figure(figsize=(10, 7))\n",
    "sns.heatmap(conf_matrix, annot=True, fmt='d', cmap='Blues', xticklabels=['LABEL_0', 'LABEL_1'], yticklabels=['LABEL_0', 'LABEL_1'])\n",
    "plt.xlabel('Predicted')\n",
    "plt.title('Confusion Matrix IMDB Model')\n",
    "plt.show()"
   ]
  },
  {
   "cell_type": "code",
   "execution_count": 59,
   "metadata": {},
   "outputs": [
    {
     "name": "stdout",
     "output_type": "stream",
     "text": [
      "Accuracy: 0.88528\n"
     ]
    }
   ],
   "source": [
    "\n",
    "# Calculate accuracy\n",
    "accuracy = accuracy_score(y_test, y_pred)\n",
    "print(f'Accuracy: {accuracy}')\n",
    "\n",
    "# Save accuracy score to CSV\n",
    "for_report = pd.DataFrame({'Model': ['sarahai/movie-sentiment-analysis'], 'Notes': ['50/50 train-test split'], 'Accuracy': [accuracy]})\n",
    "for_report.to_csv(r'..\\results\\for_report.csv', index=False)"
   ]
  }
 ],
 "metadata": {
  "kernelspec": {
   "display_name": ".venv",
   "language": "python",
   "name": "python3"
  },
  "language_info": {
   "codemirror_mode": {
    "name": "ipython",
    "version": 3
   },
   "file_extension": ".py",
   "mimetype": "text/x-python",
   "name": "python",
   "nbconvert_exporter": "python",
   "pygments_lexer": "ipython3",
   "version": "3.11.5"
  }
 },
 "nbformat": 4,
 "nbformat_minor": 2
}
