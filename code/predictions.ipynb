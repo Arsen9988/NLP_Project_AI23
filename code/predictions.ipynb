{
 "cells": [
  {
   "cell_type": "markdown",
   "metadata": {},
   "source": [
    "### Prediction ###"
   ]
  },
  {
   "cell_type": "code",
   "execution_count": 2,
   "metadata": {},
   "outputs": [
    {
     "name": "stdout",
     "output_type": "stream",
     "text": [
      "text: This movie was amazing! Don't you think?\n",
      "prediction: positive\n",
      "confidence: 99.99%\n",
      "\n",
      "text: I hated this product. It's terrible.\n",
      "prediction: negative\n",
      "confidence: 99.98%\n",
      "\n",
      "text: The book was okay, not great but not bad either.\n",
      "prediction: positive\n",
      "confidence: 99.95%\n",
      "\n",
      "text: Neutral\n",
      "prediction: negative\n",
      "confidence: 99.92%\n",
      "\n",
      "text: Everything\n",
      "prediction: positive\n",
      "confidence: 99.97%\n",
      "\n"
     ]
    }
   ],
   "source": [
    "from transformers import AutoModelForSequenceClassification, DistilBertTokenizer\n",
    "import torch\n",
    "import numpy as np\n",
    "import torch.nn.functional as F\n",
    "\n",
    "model = AutoModelForSequenceClassification.from_pretrained(\"./fine_tuned_model\")\n",
    "tokenizer = DistilBertTokenizer.from_pretrained(\"./fine_tuned_model\")\n",
    "\n",
    "device = torch.device(\"cuda\" if torch.cuda.is_available() else \"cpu\")\n",
    "model = model.to(device)\n",
    "\n",
    "\n",
    "def tokenize_input(input_text):\n",
    "    return tokenizer(\n",
    "        input_text,\n",
    "        padding=\"max_length\",\n",
    "        truncation=True,\n",
    "        return_tensors=\"pt\",\n",
    "        max_length=128,\n",
    "    )\n",
    "\n",
    "\n",
    "def map_output(value: np.int64) -> str:\n",
    "    mapping = {\n",
    "        0: \"negative\",\n",
    "        1: \"positive\",\n",
    "    }\n",
    "    return mapping.get(value, \"???\")\n",
    "\n",
    "\n",
    "def predict(input_texts):\n",
    "    model.eval()\n",
    "    predictions = []\n",
    "\n",
    "    for text in input_texts:\n",
    "        inputs = tokenize_input(text)\n",
    "        input_ids = inputs[\"input_ids\"].to(device)\n",
    "        attention_mask = inputs[\"attention_mask\"].to(device)\n",
    "\n",
    "        with torch.no_grad():\n",
    "            outputs = model(input_ids=input_ids, attention_mask=attention_mask)\n",
    "            logits = outputs.logits\n",
    "\n",
    "        probs = F.softmax(logits, dim=1)\n",
    "        predicted_class = np.argmax(probs.cpu().numpy(), axis=1)\n",
    "\n",
    "        prediction_label = map_output(predicted_class[0])\n",
    "        prediction_confidence = probs[0, predicted_class].item() * 100\n",
    "\n",
    "        predictions.append((prediction_label, prediction_confidence))\n",
    "\n",
    "    return predictions\n",
    "\n",
    "\n",
    "new_texts = [\n",
    "    \"This movie was amazing! Don't you think?\",\n",
    "    \"I hated this product. It's terrible.\",\n",
    "    \"The book was okay, not great but not bad either.\",\n",
    "    \"Neutral\",\n",
    "    \"Everything\",\n",
    "]\n",
    "\n",
    "predictions = predict(new_texts)\n",
    "\n",
    "for text, (prediction, confidence) in zip(new_texts, predictions):\n",
    "    print(f\"text: {text}\\nprediction: {prediction}\\nconfidence: {confidence:.2f}%\\n\")\n"
   ]
  }
 ],
 "metadata": {
  "kernelspec": {
   "display_name": "Test_DL-u3DERucF",
   "language": "python",
   "name": "python3"
  },
  "language_info": {
   "codemirror_mode": {
    "name": "ipython",
    "version": 3
   },
   "file_extension": ".py",
   "mimetype": "text/x-python",
   "name": "python",
   "nbconvert_exporter": "python",
   "pygments_lexer": "ipython3",
   "version": "3.12.3"
  }
 },
 "nbformat": 4,
 "nbformat_minor": 2
}
