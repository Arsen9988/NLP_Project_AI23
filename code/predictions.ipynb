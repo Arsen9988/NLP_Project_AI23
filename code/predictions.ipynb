{
 "cells": [
  {
   "cell_type": "markdown",
   "metadata": {},
   "source": [
    "### Prediction ###"
   ]
  },
  {
   "cell_type": "code",
   "execution_count": 1,
   "metadata": {},
   "outputs": [
    {
     "name": "stderr",
     "output_type": "stream",
     "text": [
      "/home/buntish/.local/share/virtualenvs/Test_DL-u3DERucF/lib/python3.12/site-packages/tqdm/auto.py:21: TqdmWarning: IProgress not found. Please update jupyter and ipywidgets. See https://ipywidgets.readthedocs.io/en/stable/user_install.html\n",
      "  from .autonotebook import tqdm as notebook_tqdm\n",
      "2025-01-15 19:22:04.969598: E external/local_xla/xla/stream_executor/cuda/cuda_fft.cc:477] Unable to register cuFFT factory: Attempting to register factory for plugin cuFFT when one has already been registered\n",
      "WARNING: All log messages before absl::InitializeLog() is called are written to STDERR\n",
      "E0000 00:00:1736965325.172952    3416 cuda_dnn.cc:8310] Unable to register cuDNN factory: Attempting to register factory for plugin cuDNN when one has already been registered\n",
      "E0000 00:00:1736965325.234511    3416 cuda_blas.cc:1418] Unable to register cuBLAS factory: Attempting to register factory for plugin cuBLAS when one has already been registered\n",
      "2025-01-15 19:22:05.689507: I tensorflow/core/platform/cpu_feature_guard.cc:210] This TensorFlow binary is optimized to use available CPU instructions in performance-critical operations.\n",
      "To enable the following instructions: AVX2 FMA, in other operations, rebuild TensorFlow with the appropriate compiler flags.\n"
     ]
    },
    {
     "name": "stdout",
     "output_type": "stream",
     "text": [
      "text: This movie was amazing! Don't you think?\n",
      "prediction: positive\n",
      "confidence: 99.88%\n",
      "\n",
      "text: I hated this product. It's terrible.\n",
      "prediction: negative\n",
      "confidence: 99.93%\n",
      "\n",
      "text: The book was okay, not great but not bad either.\n",
      "prediction: positive\n",
      "confidence: 99.31%\n",
      "\n",
      "text: Neutral\n",
      "prediction: negative\n",
      "confidence: 99.84%\n",
      "\n",
      "text: Everything\n",
      "prediction: positive\n",
      "confidence: 99.77%\n",
      "\n"
     ]
    }
   ],
   "source": [
    "from transformers import AutoModelForSequenceClassification, DistilBertTokenizer\n",
    "import torch\n",
    "import numpy as np\n",
    "import torch.nn.functional as F\n",
    "\n",
    "model = AutoModelForSequenceClassification.from_pretrained(\"./fine_tuned_model_2000\")\n",
    "tokenizer = DistilBertTokenizer.from_pretrained(\"./fine_tuned_model_2000\")\n",
    "\n",
    "device = torch.device(\"cuda\" if torch.cuda.is_available() else \"cpu\")\n",
    "model = model.to(device)\n",
    "\n",
    "\n",
    "def tokenize_input(input_text):\n",
    "    return tokenizer(\n",
    "        input_text,\n",
    "        padding=\"max_length\",\n",
    "        truncation=True,\n",
    "        return_tensors=\"pt\",\n",
    "        max_length=128,\n",
    "    )\n",
    "\n",
    "\n",
    "def map_output(value: np.int64) -> str:\n",
    "    mapping = {\n",
    "        0: \"negative\",\n",
    "        1: \"positive\",\n",
    "    }\n",
    "    return mapping.get(value, \"???\")\n",
    "\n",
    "\n",
    "def predict(input_texts):\n",
    "    model.eval()\n",
    "    predictions = []\n",
    "\n",
    "    for text in input_texts:\n",
    "        inputs = tokenize_input(text)\n",
    "        input_ids = inputs[\"input_ids\"].to(device)\n",
    "        attention_mask = inputs[\"attention_mask\"].to(device)\n",
    "\n",
    "        with torch.no_grad():\n",
    "            outputs = model(input_ids=input_ids, attention_mask=attention_mask)\n",
    "            logits = outputs.logits\n",
    "\n",
    "        probs = F.softmax(logits, dim=1)\n",
    "        predicted_class = np.argmax(probs.cpu().numpy(), axis=1)\n",
    "\n",
    "        prediction_label = map_output(predicted_class[0])\n",
    "        prediction_confidence = probs[0, predicted_class].item() * 100\n",
    "\n",
    "        predictions.append((prediction_label, prediction_confidence))\n",
    "\n",
    "    return predictions\n",
    "\n",
    "\n",
    "new_texts = [\n",
    "    \"This movie was amazing! Don't you think?\",\n",
    "    \"I hated this product. It's terrible.\",\n",
    "    \"The book was okay, not great but not bad either.\",\n",
    "    \"Neutral\",\n",
    "    \"Everything\",\n",
    "]\n",
    "\n",
    "predictions = predict(new_texts)\n",
    "\n",
    "for text, (prediction, confidence) in zip(new_texts, predictions):\n",
    "    print(f\"text: {text}\\nprediction: {prediction}\\nconfidence: {confidence:.2f}%\\n\")\n"
   ]
  }
 ],
 "metadata": {
  "kernelspec": {
   "display_name": "Test_DL-u3DERucF",
   "language": "python",
   "name": "python3"
  },
  "language_info": {
   "codemirror_mode": {
    "name": "ipython",
    "version": 3
   },
   "file_extension": ".py",
   "mimetype": "text/x-python",
   "name": "python",
   "nbconvert_exporter": "python",
   "pygments_lexer": "ipython3",
   "version": "3.12.3"
  }
 },
 "nbformat": 4,
 "nbformat_minor": 2
}
