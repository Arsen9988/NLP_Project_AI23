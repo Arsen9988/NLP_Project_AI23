{
 "cells": [
  {
   "cell_type": "markdown",
   "metadata": {},
   "source": [
    "### Pytorch Finetuning ###"
   ]
  },
  {
   "cell_type": "code",
   "execution_count": 1,
   "metadata": {},
   "outputs": [
    {
     "name": "stderr",
     "output_type": "stream",
     "text": [
      "/home/buntish/.local/share/virtualenvs/Test_DL-u3DERucF/lib/python3.12/site-packages/tqdm/auto.py:21: TqdmWarning: IProgress not found. Please update jupyter and ipywidgets. See https://ipywidgets.readthedocs.io/en/stable/user_install.html\n",
      "  from .autonotebook import tqdm as notebook_tqdm\n",
      "2025-01-15 12:57:26.932874: E external/local_xla/xla/stream_executor/cuda/cuda_fft.cc:477] Unable to register cuFFT factory: Attempting to register factory for plugin cuFFT when one has already been registered\n",
      "WARNING: All log messages before absl::InitializeLog() is called are written to STDERR\n",
      "E0000 00:00:1736942247.137399    3413 cuda_dnn.cc:8310] Unable to register cuDNN factory: Attempting to register factory for plugin cuDNN when one has already been registered\n",
      "E0000 00:00:1736942247.199361    3413 cuda_blas.cc:1418] Unable to register cuBLAS factory: Attempting to register factory for plugin cuBLAS when one has already been registered\n",
      "2025-01-15 12:57:27.656342: I tensorflow/core/platform/cpu_feature_guard.cc:210] This TensorFlow binary is optimized to use available CPU instructions in performance-critical operations.\n",
      "To enable the following instructions: AVX2 FMA, in other operations, rebuild TensorFlow with the appropriate compiler flags.\n"
     ]
    },
    {
     "name": "stdout",
     "output_type": "stream",
     "text": [
      "                                     reviews_decoded sentiment\n",
      "0   one of the other reviewers has mentioned that...   LABEL_1\n",
      "1   a wonderful little production.   the filming ...   LABEL_1\n",
      "2   i thought this was a wonderful way to spend t...   LABEL_1\n",
      "3   basically there's a family where a little boy...   LABEL_0\n",
      "4   petter mattei's'love in the time of money'is ...   LABEL_1\n",
      "\n",
      "                                     reviews_decoded sentiment\n",
      "0   this movie was bad from the start. the only p...   LABEL_0\n",
      "1   god, i never felt so insulted in my whole lif...   LABEL_0\n",
      "2   not being a fan of the coen brothers or georg...   LABEL_1\n",
      "3   the movie andaz apna apna in my books is the ...   LABEL_1\n",
      "4   i have to say i was really looking forward on...   LABEL_0\n"
     ]
    },
    {
     "name": "stderr",
     "output_type": "stream",
     "text": [
      "Map: 100%|██████████| 10/10 [00:00<00:00, 178.27 examples/s]\n",
      "Map: 100%|██████████| 10/10 [00:00<00:00, 227.72 examples/s]\n",
      "Map: 100%|██████████| 10/10 [00:00<00:00, 2829.59 examples/s]\n",
      "Map: 100%|██████████| 10/10 [00:00<00:00, 3097.03 examples/s]\n"
     ]
    },
    {
     "data": {
      "text/html": [
       "\n",
       "    <div>\n",
       "      \n",
       "      <progress value='20' max='10' style='width:300px; height:20px; vertical-align: middle;'></progress>\n",
       "      [10/10 00:10]\n",
       "    </div>\n",
       "    "
      ],
      "text/plain": [
       "<IPython.core.display.HTML object>"
      ]
     },
     "metadata": {},
     "output_type": "display_data"
    },
    {
     "name": "stdout",
     "output_type": "stream",
     "text": [
      "\n",
      "Pretrained model evaluation results: {'eval_loss': 0.39291030168533325, 'eval_model_preparation_time': 0.0014, 'eval_accuracy': 0.8, 'eval_runtime': 1.4644, 'eval_samples_per_second': 6.829, 'eval_steps_per_second': 6.829}\n",
      "Accuracy: 0.8\n"
     ]
    },
    {
     "data": {
      "text/html": [
       "\n",
       "    <div>\n",
       "      \n",
       "      <progress value='5' max='5' style='width:300px; height:20px; vertical-align: middle;'></progress>\n",
       "      [5/5 00:07, Epoch 1/1]\n",
       "    </div>\n",
       "    <table border=\"1\" class=\"dataframe\">\n",
       "  <thead>\n",
       " <tr style=\"text-align: left;\">\n",
       "      <th>Step</th>\n",
       "      <th>Training Loss</th>\n",
       "    </tr>\n",
       "  </thead>\n",
       "  <tbody>\n",
       "  </tbody>\n",
       "</table><p>"
      ],
      "text/plain": [
       "<IPython.core.display.HTML object>"
      ]
     },
     "metadata": {},
     "output_type": "display_data"
    },
    {
     "name": "stdout",
     "output_type": "stream",
     "text": [
      "Fine-tuned model evaluation results: {'eval_loss': 0.814533531665802, 'eval_model_preparation_time': 0.0014, 'eval_accuracy': 0.9, 'eval_runtime': 1.0543, 'eval_samples_per_second': 9.485, 'eval_steps_per_second': 9.485, 'epoch': 1.0}\n",
      "Accuracy: 0.9\n"
     ]
    }
   ],
   "source": [
    "from transformers import (\n",
    "    AutoModelForSequenceClassification,\n",
    "    DistilBertTokenizer,\n",
    "    TrainingArguments,\n",
    "    Trainer,\n",
    ")\n",
    "import torch\n",
    "from sklearn.metrics import accuracy_score\n",
    "import numpy as np\n",
    "import pandas as pd\n",
    "from datasets import Dataset\n",
    "\n",
    "##################################################################################################################\n",
    "\n",
    "\n",
    "def compute_metrics(p):\n",
    "    logits, labels = p\n",
    "    predictions = np.argmax(logits, axis=1)\n",
    "    return {\"accuracy\": accuracy_score(labels, predictions)}\n",
    "\n",
    "\n",
    "def collate_fn(batch):\n",
    "    return {\n",
    "        \"input_ids\": torch.stack([item[\"input_ids\"] for item in batch]),\n",
    "        \"attention_mask\": torch.stack([item[\"attention_mask\"] for item in batch]),\n",
    "        \"labels\": torch.tensor([item[\"labels\"] for item in batch]),\n",
    "    }\n",
    "\n",
    "\n",
    "def process_labels(batch):\n",
    "    sentiments = batch[\"sentiment\"]\n",
    "    labels = [\n",
    "        label_mapping.get(s[0], -1) if isinstance(s, list) else label_mapping.get(s, -1)\n",
    "        for s in sentiments\n",
    "    ]\n",
    "    batch[\"labels\"] = labels\n",
    "    return batch\n",
    "\n",
    "\n",
    "def tokenize_function(examples):\n",
    "    return tokenizer(examples[\"reviews_decoded\"], padding=\"max_length\", truncation=True)\n",
    "\n",
    "\n",
    "##################################################################################################################\n",
    "\n",
    "device = torch.device(\"cuda\" if torch.cuda.is_available() else \"cpu\")\n",
    "\n",
    "tokenizer = DistilBertTokenizer.from_pretrained(\n",
    "    \"distilbert-base-uncased-finetuned-sst-2-english\"\n",
    ")\n",
    "model = AutoModelForSequenceClassification.from_pretrained(\n",
    "    \"distilbert-base-uncased-finetuned-sst-2-english\"\n",
    ").to(device)\n",
    "\n",
    "number_of_samples = 10\n",
    "debug = True\n",
    "\n",
    "X_train = pd.read_csv(\"../data/Train_Test_splits/X_train_50proc_trunc_pad.csv\")\n",
    "X_test = pd.read_csv(\"../data/Train_Test_splits/X_test_50proc_trunc_pad.csv\")\n",
    "y_train = pd.read_csv(\"../data/Train_Test_splits/y_train_50proc.csv\")\n",
    "y_test = pd.read_csv(\"../data/Train_Test_splits/y_test_50proc.csv\")\n",
    "\n",
    "train_df = pd.concat([X_train, y_train], axis=1).head(number_of_samples)\n",
    "test_df = pd.concat([X_test, y_test], axis=1).head(number_of_samples)\n",
    "\n",
    "if debug:\n",
    "    print(train_df.head())\n",
    "    print()\n",
    "    print(test_df.head())\n",
    "\n",
    "train_dataset = Dataset.from_pandas(train_df)\n",
    "test_dataset = Dataset.from_pandas(test_df)\n",
    "\n",
    "train_dataset = train_dataset.map(tokenize_function, batched=True)\n",
    "test_dataset = test_dataset.map(tokenize_function, batched=True)\n",
    "\n",
    "label_mapping = {\n",
    "    \"LABEL_0\": 0,\n",
    "    \"LABEL_1\": 1,\n",
    "}\n",
    "\n",
    "train_dataset = train_dataset.map(process_labels, batched=True)\n",
    "test_dataset = test_dataset.map(process_labels, batched=True)\n",
    "\n",
    "train_dataset.set_format(\n",
    "    type=\"torch\", columns=[\"input_ids\", \"attention_mask\", \"labels\"]\n",
    ")\n",
    "test_dataset.set_format(type=\"torch\", columns=[\"input_ids\", \"attention_mask\", \"labels\"])\n",
    "\n",
    "training_args = TrainingArguments(\n",
    "    output_dir=\"./results\",\n",
    "    num_train_epochs=1,\n",
    "    per_device_train_batch_size=1,\n",
    "    per_device_eval_batch_size=1,\n",
    "    weight_decay=0.01,\n",
    "    gradient_accumulation_steps=2,\n",
    "    fp16=True,\n",
    ")\n",
    "\n",
    "trainer = Trainer(\n",
    "    model=model,\n",
    "    args=training_args,\n",
    "    train_dataset=train_dataset,\n",
    "    eval_dataset=test_dataset,\n",
    "    compute_metrics=compute_metrics,\n",
    "    data_collator=collate_fn,\n",
    ")\n",
    "\n",
    "pretrained_results = trainer.evaluate()\n",
    "print()\n",
    "print(f\"Pretrained model evaluation results: {pretrained_results}\")\n",
    "print(f\"Accuracy: {pretrained_results['eval_accuracy']}\")\n",
    "\n",
    "trainer.train()\n",
    "\n",
    "finetuned_results = trainer.evaluate()\n",
    "print(f\"Fine-tuned model evaluation results: {finetuned_results}\")\n",
    "print(f\"Accuracy: {finetuned_results['eval_accuracy']}\")"
   ]
  },
  {
   "cell_type": "code",
   "execution_count": 2,
   "metadata": {},
   "outputs": [
    {
     "name": "stdout",
     "output_type": "stream",
     "text": [
      "Model and tokenizer saved.\n"
     ]
    }
   ],
   "source": [
    "model.save_pretrained(\"./fine_tuned_model\")\n",
    "tokenizer.save_pretrained(\"./fine_tuned_model\")\n",
    "\n",
    "print(\"Model and tokenizer saved.\")"
   ]
  }
 ],
 "metadata": {
  "kernelspec": {
   "display_name": "Test_DL-u3DERucF",
   "language": "python",
   "name": "python3"
  },
  "language_info": {
   "codemirror_mode": {
    "name": "ipython",
    "version": 3
   },
   "file_extension": ".py",
   "mimetype": "text/x-python",
   "name": "python",
   "nbconvert_exporter": "python",
   "pygments_lexer": "ipython3",
   "version": "3.12.3"
  }
 },
 "nbformat": 4,
 "nbformat_minor": 2
}
