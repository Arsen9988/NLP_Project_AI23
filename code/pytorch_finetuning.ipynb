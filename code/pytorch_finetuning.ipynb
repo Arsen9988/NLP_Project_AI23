{
 "cells": [
  {
   "cell_type": "markdown",
   "metadata": {},
   "source": [
    "### Pytorch Finetuning ###"
   ]
  },
  {
   "cell_type": "code",
   "execution_count": 1,
   "metadata": {},
   "outputs": [
    {
     "name": "stderr",
     "output_type": "stream",
     "text": [
      "/home/buntish/.local/share/virtualenvs/Test_DL-u3DERucF/lib/python3.12/site-packages/tqdm/auto.py:21: TqdmWarning: IProgress not found. Please update jupyter and ipywidgets. See https://ipywidgets.readthedocs.io/en/stable/user_install.html\n",
      "  from .autonotebook import tqdm as notebook_tqdm\n",
      "2025-01-15 18:46:01.043369: E external/local_xla/xla/stream_executor/cuda/cuda_fft.cc:477] Unable to register cuFFT factory: Attempting to register factory for plugin cuFFT when one has already been registered\n",
      "WARNING: All log messages before absl::InitializeLog() is called are written to STDERR\n",
      "E0000 00:00:1736963161.272781    3561 cuda_dnn.cc:8310] Unable to register cuDNN factory: Attempting to register factory for plugin cuDNN when one has already been registered\n",
      "E0000 00:00:1736963161.335958    3561 cuda_blas.cc:1418] Unable to register cuBLAS factory: Attempting to register factory for plugin cuBLAS when one has already been registered\n",
      "2025-01-15 18:46:01.798544: I tensorflow/core/platform/cpu_feature_guard.cc:210] This TensorFlow binary is optimized to use available CPU instructions in performance-critical operations.\n",
      "To enable the following instructions: AVX2 FMA, in other operations, rebuild TensorFlow with the appropriate compiler flags.\n"
     ]
    },
    {
     "name": "stdout",
     "output_type": "stream",
     "text": [
      "                                     reviews_decoded sentiment\n",
      "0   one of the other reviewers has mentioned that...   LABEL_1\n",
      "1   a wonderful little production.   the filming ...   LABEL_1\n",
      "2   i thought this was a wonderful way to spend t...   LABEL_1\n",
      "3   basically there's a family where a little boy...   LABEL_0\n",
      "4   petter mattei's'love in the time of money'is ...   LABEL_1\n",
      "\n",
      "                                     reviews_decoded sentiment\n",
      "0   this movie was bad from the start. the only p...   LABEL_0\n",
      "1   god, i never felt so insulted in my whole lif...   LABEL_0\n",
      "2   not being a fan of the coen brothers or georg...   LABEL_1\n",
      "3   the movie andaz apna apna in my books is the ...   LABEL_1\n",
      "4   i have to say i was really looking forward on...   LABEL_0\n",
      "\n",
      "Number of samples: 2000\n",
      "\n"
     ]
    },
    {
     "name": "stderr",
     "output_type": "stream",
     "text": [
      "Map: 100%|██████████| 2000/2000 [00:07<00:00, 250.19 examples/s]\n",
      "Map: 100%|██████████| 2000/2000 [00:07<00:00, 261.10 examples/s]\n",
      "Map: 100%|██████████| 2000/2000 [00:00<00:00, 120593.55 examples/s]\n",
      "Map: 100%|██████████| 2000/2000 [00:00<00:00, 225034.42 examples/s]\n"
     ]
    },
    {
     "data": {
      "text/html": [
       "\n",
       "    <div>\n",
       "      \n",
       "      <progress value='4000' max='2000' style='width:300px; height:20px; vertical-align: middle;'></progress>\n",
       "      [2000/2000 31:16]\n",
       "    </div>\n",
       "    "
      ],
      "text/plain": [
       "<IPython.core.display.HTML object>"
      ]
     },
     "metadata": {},
     "output_type": "display_data"
    },
    {
     "name": "stdout",
     "output_type": "stream",
     "text": [
      "\n",
      "Pretrained model evaluation results: {'eval_loss': 0.39005962014198303, 'eval_model_preparation_time': 0.0013, 'eval_accuracy': 0.8905, 'eval_runtime': 214.3497, 'eval_samples_per_second': 9.331, 'eval_steps_per_second': 9.331}\n",
      "Accuracy: 0.8905\n"
     ]
    },
    {
     "data": {
      "text/html": [
       "\n",
       "    <div>\n",
       "      \n",
       "      <progress value='1000' max='1000' style='width:300px; height:20px; vertical-align: middle;'></progress>\n",
       "      [1000/1000 24:08, Epoch 1/1]\n",
       "    </div>\n",
       "    <table border=\"1\" class=\"dataframe\">\n",
       "  <thead>\n",
       " <tr style=\"text-align: left;\">\n",
       "      <th>Step</th>\n",
       "      <th>Training Loss</th>\n",
       "    </tr>\n",
       "  </thead>\n",
       "  <tbody>\n",
       "    <tr>\n",
       "      <td>500</td>\n",
       "      <td>0.621900</td>\n",
       "    </tr>\n",
       "    <tr>\n",
       "      <td>1000</td>\n",
       "      <td>0.466100</td>\n",
       "    </tr>\n",
       "  </tbody>\n",
       "</table><p>"
      ],
      "text/plain": [
       "<IPython.core.display.HTML object>"
      ]
     },
     "metadata": {},
     "output_type": "display_data"
    },
    {
     "name": "stdout",
     "output_type": "stream",
     "text": [
      "Fine-tuned model evaluation results: {'eval_loss': 0.41067779064178467, 'eval_model_preparation_time': 0.0013, 'eval_accuracy': 0.904, 'eval_runtime': 212.4452, 'eval_samples_per_second': 9.414, 'eval_steps_per_second': 9.414, 'epoch': 1.0}\n",
      "Accuracy: 0.904\n"
     ]
    }
   ],
   "source": [
    "from transformers import (\n",
    "    AutoModelForSequenceClassification,\n",
    "    DistilBertTokenizer,\n",
    "    TrainingArguments,\n",
    "    Trainer,\n",
    ")\n",
    "import torch\n",
    "from sklearn.metrics import accuracy_score\n",
    "import numpy as np\n",
    "import pandas as pd\n",
    "from datasets import Dataset\n",
    "\n",
    "\n",
    "##################################################################################################################\n",
    "\n",
    "\n",
    "def compute_metrics(p):\n",
    "    logits, labels = p\n",
    "    predictions = np.argmax(logits, axis=1)\n",
    "    return {\"accuracy\": accuracy_score(labels, predictions)}\n",
    "\n",
    "\n",
    "def collate_fn(batch):\n",
    "    return {\n",
    "        \"input_ids\": torch.stack([item[\"input_ids\"] for item in batch]),\n",
    "        \"attention_mask\": torch.stack([item[\"attention_mask\"] for item in batch]),\n",
    "        \"labels\": torch.tensor([item[\"labels\"] for item in batch]),\n",
    "    }\n",
    "\n",
    "\n",
    "def process_labels(batch):\n",
    "    sentiments = batch[\"sentiment\"]\n",
    "    labels = [\n",
    "        label_mapping.get(s[0], -1) if isinstance(s, list) else label_mapping.get(s, -1)\n",
    "        for s in sentiments\n",
    "    ]\n",
    "    batch[\"labels\"] = labels\n",
    "    return batch\n",
    "\n",
    "\n",
    "def tokenize_function(examples):\n",
    "    return tokenizer(examples[\"reviews_decoded\"], padding=\"max_length\", truncation=True)\n",
    "\n",
    "\n",
    "##################################################################################################################\n",
    "\n",
    "\n",
    "device = torch.device(\"cuda\" if torch.cuda.is_available() else \"cpu\")\n",
    "\n",
    "tokenizer = DistilBertTokenizer.from_pretrained(\n",
    "    \"distilbert-base-uncased-finetuned-sst-2-english\"\n",
    ")\n",
    "model = AutoModelForSequenceClassification.from_pretrained(\n",
    "    \"distilbert-base-uncased-finetuned-sst-2-english\"\n",
    ").to(device)\n",
    "\n",
    "number_of_samples = 2000\n",
    "debug = True\n",
    "\n",
    "X_train = pd.read_csv(\"../data/Train_Test_splits/X_train_50proc_trunc_pad.csv\")\n",
    "X_test = pd.read_csv(\"../data/Train_Test_splits/X_test_50proc_trunc_pad.csv\")\n",
    "y_train = pd.read_csv(\"../data/Train_Test_splits/y_train_50proc.csv\")\n",
    "y_test = pd.read_csv(\"../data/Train_Test_splits/y_test_50proc.csv\")\n",
    "\n",
    "train_df = pd.concat([X_train, y_train], axis=1).head(number_of_samples)\n",
    "test_df = pd.concat([X_test, y_test], axis=1).head(number_of_samples)\n",
    "\n",
    "if debug:\n",
    "    print(train_df.head())\n",
    "    print()\n",
    "    print(test_df.head())\n",
    "\n",
    "print()\n",
    "print(f\"Number of samples: {number_of_samples}\")\n",
    "print()\n",
    "\n",
    "train_dataset = Dataset.from_pandas(train_df)\n",
    "test_dataset = Dataset.from_pandas(test_df)\n",
    "\n",
    "train_dataset = train_dataset.map(tokenize_function, batched=True)\n",
    "test_dataset = test_dataset.map(tokenize_function, batched=True)\n",
    "\n",
    "label_mapping = {\n",
    "    \"LABEL_0\": 0,\n",
    "    \"LABEL_1\": 1,\n",
    "}\n",
    "\n",
    "train_dataset = train_dataset.map(process_labels, batched=True)\n",
    "test_dataset = test_dataset.map(process_labels, batched=True)\n",
    "\n",
    "train_dataset.set_format(\n",
    "    type=\"torch\", columns=[\"input_ids\", \"attention_mask\", \"labels\"]\n",
    ")\n",
    "test_dataset.set_format(type=\"torch\", columns=[\"input_ids\", \"attention_mask\", \"labels\"])\n",
    "\n",
    "training_args = TrainingArguments(\n",
    "    output_dir=\"./results\",\n",
    "    num_train_epochs=1,\n",
    "    per_device_train_batch_size=1,\n",
    "    per_device_eval_batch_size=1,\n",
    "    weight_decay=0.01,\n",
    "    gradient_accumulation_steps=2,\n",
    "    fp16=True,\n",
    ")\n",
    "\n",
    "trainer = Trainer(\n",
    "    model=model,\n",
    "    args=training_args,\n",
    "    train_dataset=train_dataset,\n",
    "    eval_dataset=test_dataset,\n",
    "    compute_metrics=compute_metrics,\n",
    "    data_collator=collate_fn,\n",
    ")\n",
    "\n",
    "pretrained_results = trainer.evaluate()\n",
    "print()\n",
    "print(f\"Pretrained model evaluation results: {pretrained_results}\")\n",
    "print(f\"Accuracy: {pretrained_results['eval_accuracy']}\")\n",
    "\n",
    "trainer.train()\n",
    "\n",
    "finetuned_results = trainer.evaluate()\n",
    "print(f\"Fine-tuned model evaluation results: {finetuned_results}\")\n",
    "print(f\"Accuracy: {finetuned_results['eval_accuracy']}\")"
   ]
  },
  {
   "cell_type": "code",
   "execution_count": 2,
   "metadata": {},
   "outputs": [
    {
     "name": "stdout",
     "output_type": "stream",
     "text": [
      "Model and tokenizer saved.\n"
     ]
    }
   ],
   "source": [
    "model.save_pretrained(f\"./fine_tuned_model_{number_of_samples}\")\n",
    "tokenizer.save_pretrained(f\"./fine_tuned_model_{number_of_samples}\")\n",
    "\n",
    "print(\"Model and tokenizer saved.\")"
   ]
  }
 ],
 "metadata": {
  "kernelspec": {
   "display_name": "Test_DL-u3DERucF",
   "language": "python",
   "name": "python3"
  },
  "language_info": {
   "codemirror_mode": {
    "name": "ipython",
    "version": 3
   },
   "file_extension": ".py",
   "mimetype": "text/x-python",
   "name": "python",
   "nbconvert_exporter": "python",
   "pygments_lexer": "ipython3",
   "version": "3.12.3"
  }
 },
 "nbformat": 4,
 "nbformat_minor": 2
}
