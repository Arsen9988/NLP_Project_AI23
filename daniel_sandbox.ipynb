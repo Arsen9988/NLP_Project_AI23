{
 "cells": [
  {
   "cell_type": "markdown",
   "metadata": {},
   "source": [
    "# Projektarbete med LLM's\n",
    "- Gruppen valde att göra en Sentiment Analysis av IMDB reviews\n",
    "- Detta är en sandbox för att komma igång litegrann"
   ]
  },
  {
   "cell_type": "markdown",
   "metadata": {},
   "source": [
    "## Huggingface\n",
    "- har pretrained models, i sitt library som heter transformers, installera med:  \n",
    "`pip install transformers`\n",
    "- För alla paket:  \n",
    "`pip install transformers tf-keras tensorflow ipykernel ipywidgets`\n",
    "\n",
    "## Python installation:\n",
    "- använd version 3.12 (ej 3.13 för den funkar ej med TensorFlow)"
   ]
  },
  {
   "cell_type": "markdown",
   "metadata": {},
   "source": [
    "## Libraries:\n",
    "- ipywidgets tf-keras transformers ipykernel tensorflow"
   ]
  },
  {
   "cell_type": "code",
   "execution_count": 37,
   "metadata": {},
   "outputs": [],
   "source": [
    "import tensorflow as tf\n",
    "from transformers import pipeline\n",
    "from transformers import AutoTokenizer, AutoModelForSequenceClassification"
   ]
  },
  {
   "cell_type": "code",
   "execution_count": 79,
   "metadata": {},
   "outputs": [
    {
     "name": "stdout",
     "output_type": "stream",
     "text": [
      "Text 1: 19 tokens\n",
      "Text 2: 19 tokens\n",
      "Text 3: 19 tokens\n"
     ]
    }
   ],
   "source": [
    "# Load a pretrained tokenizer (e.g., DistilBERT)\n",
    "tokenizer = AutoTokenizer.from_pretrained(\"distilbert-base-uncased\")\n",
    "\n",
    "# List of multiple texts\n",
    "texts = [\n",
    "    \"hello Daniel, how are you?\",\n",
    "    \"I love using DistilBERT! It's fast and accurate. Says Daniel.\",\n",
    "    \"Daniel says, this product is terrible.\",\n",
    "    #\"Transformers are very useful for NLP tasks.\",\n",
    "    #\"The movie Andaz Apna Apna in my books is the top 5 intelligent comedy movies ever made in Bollywood perhaps even Hollywood. <br /><br />When the movie released i was a 8 year old and I heard it was a flop but I never understood till now why was it a flop...but let me tell you one thing...this movie would have more money by selling home Cassettes and DVDs and by showing in TV movie channels than any hit movie in theaters. This movie has been shown countless times in Movie channels and I think even now the public love and the TV producers keep repeating the movie again and again. I personally have watched the entire movie more than 80 -100 times and I still love it.....<br /><br />The performance by both Aamir khan as Amar and Salman khan as Prem is mind blowing but i especially liked the performance of Aamir khan as a street smart guy....his dialogs in the movie are Hilarious... the story is simple and heres how it goes.....<br /><br />Amar and Prem are poor , lazy chaps and come from a poor family of tailors and Amars father is a barber. Then they both get a news that a Millionaire 's daughter from London is coming to India to look for a suitable match ...both Amar and Prem think that this is a brilliant opportunity to become super rich.....therefore they both head out to woo Raveena Tandon..(the millionaires daughter)......in their journey they both hate each other and each one of them try to fool the other in order to marry Raveena.....the comedy scenes in between are so hilarious that you would need a glass of water to stop the pain in your stomach by laughing.......and then there is Raveenas Uncle (Millionaire's look alike brother) Teja who wants to take revenge from Raveenas father.....since he is broke and Raveenas dad is a millionaire......his plans include kidnapping Raveena to blackmail Raveenas dad for which he hires 2 butlers.....<br /><br />but later on we get to know that there is a twist in the movie (watch the movie to know).......then there is Shakti Kapoor as crime master Gogo who is also incredibly funny......<br /><br />The thing which stood out for me were the dialogs in the movie which has become a legend of sorts.....Aamir khan uses his  ' aaila  '  brilliantly and Salman goes like  ' OOima  ' ........and for Gogo there is  '  Jab Raat Ko Bacha Soota Nahi Hain to Ma Bolti Hain Ki Sooja Nahi to Gogo Aa Jaega '  ......each and every scene is so funny......<br /><br />I especially liked the one in which Aamir khan and Salman goto get Raveena from Teja and they both go in a Luna having  ' chillar '  money in a bag....that scene is so funny..<br /><br />I recommend anyone who understands Hindi or Urdu to watch this movie ......this is one movie that I would recommend having a DVD and you will never regret......\",\n",
    "    #\"Andaz Apna Apna is considered one of the most intelligent comedies ever made in Bollywood, potentially rivaling even Hollywood comedies. Despite being a commercial flop upon release, the film gained immense popularity over time, making significant revenue through home media sales and repeated TV broadcasts. The reviewer shares their personal experience, having watched the film more than 80 times and still loving it. The story follows Amar (Aamir Khan) and Prem (Salman Khan), two lazy, poor men who dream of becoming rich by marrying Raveena, the daughter of a millionaire. Both set off to woo her, engaging in hilarious schemes to outsmart each other. Alongside their antics, the movie introduces Teja, Raveena’s uncle who plots to kidnap her for ransom, and Crime Master Gogo (Shakti Kapoor), a memorable villain known for his comedic dialogues. The film’s standout elements are its witty dialogues, such as Aamir’s iconic 'aaila' and Salman’s 'ooima,' which have become legendary. The reviewer highlights memorable scenes, especially one where Amar and Prem attempt to rescue Raveena with a bag of small change. They strongly recommend this timeless comedy classic to anyone who understands Hindi or Urdu, calling it a must-have DVD for guaranteed entertainment.\"\n",
    "]\n",
    "\n",
    "# Tokenize the texts\n",
    "tokenized_texts = tokenizer(texts, padding=True, truncation=True, return_tensors=\"tf\")\n",
    "\n",
    "# Count the number of tokens for each text\n",
    "num_tokens = [len(tokens) for tokens in tokenized_texts['input_ids']]\n",
    "\n",
    "# Print the number of tokens for each text\n",
    "for i, tokens in enumerate(num_tokens):\n",
    "    print(f\"Text {i+1}: {tokens} tokens\")\n"
   ]
  },
  {
   "cell_type": "code",
   "execution_count": 80,
   "metadata": {},
   "outputs": [
    {
     "data": {
      "text/plain": [
       "{'input_ids': <tf.Tensor: shape=(3, 19), dtype=int32, numpy=\n",
       "array([[  101,  7592,  3817,  1010,  2129,  2024,  2017,  1029,   102,\n",
       "            0,     0,     0,     0,     0,     0,     0,     0,     0,\n",
       "            0],\n",
       "       [  101,  1045,  2293,  2478,  4487, 16643, 23373,   999,  2009,\n",
       "         1005,  1055,  3435,  1998,  8321,  1012,  2758,  3817,  1012,\n",
       "          102],\n",
       "       [  101,  3817,  2758,  1010,  2023,  4031,  2003,  6659,  1012,\n",
       "          102,     0,     0,     0,     0,     0,     0,     0,     0,\n",
       "            0]], dtype=int32)>, 'attention_mask': <tf.Tensor: shape=(3, 19), dtype=int32, numpy=\n",
       "array([[1, 1, 1, 1, 1, 1, 1, 1, 1, 0, 0, 0, 0, 0, 0, 0, 0, 0, 0],\n",
       "       [1, 1, 1, 1, 1, 1, 1, 1, 1, 1, 1, 1, 1, 1, 1, 1, 1, 1, 1],\n",
       "       [1, 1, 1, 1, 1, 1, 1, 1, 1, 1, 0, 0, 0, 0, 0, 0, 0, 0, 0]],\n",
       "      dtype=int32)>}"
      ]
     },
     "execution_count": 80,
     "metadata": {},
     "output_type": "execute_result"
    }
   ],
   "source": [
    "tokenized_texts"
   ]
  },
  {
   "cell_type": "markdown",
   "metadata": {},
   "source": [
    "Fredag: kolla på om jag kan göra en sammanfattning av de som är längre än 512 tokens, innan de tokenisas.\n",
    "Körs det lokalt eller?\n",
    "Kolla modeller på Huggingface, för olika ändamål som summering tex. LLAMA?\n",
    "KOlla om jag kan använda OpenAI API för sammanfattningar.\n",
    "\n"
   ]
  },
  {
   "cell_type": "code",
   "execution_count": 84,
   "metadata": {},
   "outputs": [
    {
     "data": {
      "text/plain": [
       "'[CLS] daniel says, this product is terrible. [SEP] [PAD] [PAD] [PAD] [PAD] [PAD] [PAD] [PAD] [PAD] [PAD]'"
      ]
     },
     "execution_count": 84,
     "metadata": {},
     "output_type": "execute_result"
    }
   ],
   "source": [
    "#tokens = tokenizer(tokenized_texts, return_tensors=\"tf\")\n",
    "\n",
    "# Convert token IDs back to text\n",
    "decoded_text = tokenizer.decode(tokenized_texts['input_ids'][2])\n",
    "decoded_text"
   ]
  },
  {
   "cell_type": "code",
   "execution_count": 97,
   "metadata": {},
   "outputs": [
    {
     "name": "stderr",
     "output_type": "stream",
     "text": [
      "All PyTorch model weights were used when initializing TFDistilBertForSequenceClassification.\n",
      "\n",
      "All the weights of TFDistilBertForSequenceClassification were initialized from the PyTorch model.\n",
      "If your task is similar to the task the model of the checkpoint was trained on, you can already use TFDistilBertForSequenceClassification for predictions without further training.\n",
      "Device set to use 0\n"
     ]
    }
   ],
   "source": [
    "# Load the sentiment analysis pipeline with a DistilBERT model\n",
    "sentiment_pipeline = pipeline(\"sentiment-analysis\", model=\"distilbert-base-uncased-finetuned-sst-2-english\", framework=\"tf\")"
   ]
  },
  {
   "cell_type": "code",
   "execution_count": 100,
   "metadata": {},
   "outputs": [
    {
     "name": "stdout",
     "output_type": "stream",
     "text": [
      "Sentence: 'I love using DistilBERT! It's so fast and accurate.' => Sentiment: POSITIVE, Confidence: 1.00\n",
      "Sentence: 'This product is terrible. I'm very disappointed.' => Sentiment: NEGATIVE, Confidence: 1.00\n",
      "Sentence: 'This is very good, not!' => Sentiment: POSITIVE, Confidence: 1.00\n",
      "Sentence: 'This is very good. (not!)' => Sentiment: POSITIVE, Confidence: 1.00\n",
      "Sentence: 'Things are going well.' => Sentiment: POSITIVE, Confidence: 1.00\n",
      "Sentence: 'Here in Brazil the sun is shining and the weather is hot.' => Sentiment: POSITIVE, Confidence: 1.00\n",
      "Sentence: 'Here in Sweden the weather is cold and the snow is falling.' => Sentiment: NEGATIVE, Confidence: 0.99\n",
      "Sentence: 'One of the other reviewers has mentioned that after watching just 1 Oz episode you'll be hooked. They are right, as this is exactly what happened with me.<br /><br />The first thing that struck me about Oz was its brutality and unflinching scenes of violence, which set in right from the word GO. Trust me, this is not a show for the faint hearted or timid. This show pulls no punches with regards to drugs, sex or violence. Its is hardcore, in the classic use of the word.<br /><br />It is called OZ as that is the nickname given to the Oswald Maximum Security State Penitentary. It focuses mainly on Emerald City, an experimental section of the prison where all the cells have glass fronts and face inwards, so privacy is not high on the agenda. Em City is home to many..Aryans, Muslims, gangstas, Latinos, Christians, Italians, Irish and more....so scuffles, death stares, dodgy dealings and shady agreements are never far away.<br /><br />I would say the main appeal of the show is due to the fact that it goes where other shows wouldn't dare. Forget pretty pictures painted for mainstream audiences, forget charm, forget romance...OZ doesn't mess around. The first episode I ever saw struck me as so nasty it was surreal, I couldn't say I was ready for it, but as I watched more, I developed a taste for Oz, and got accustomed to the high levels of graphic violence. Not just violence, but injustice (crooked guards who'll be sold out for a nickel, inmates who'll kill on order and get away with it, well mannered, middle class inmates being turned into prison bitches due to their lack of street skills or prison experience) Watching Oz, you may become comfortable with what is uncomfortable viewing....thats if you can get in touch with your darker side.' => Sentiment: NEGATIVE, Confidence: 0.51\n",
      "Sentence: 'A wonderful little production. The filming technique is very unassuming - very old-time-BBC fashion and gives a comforting, and sometimes discomforting, sense of realism to the entire piece. <br /><br />The actors are extremely well chosen- Michael Sheen not only 'has got all the polari' but he has all the voices down pat too! You can truly see the seamless editing guided by the references to Williams' diary entries, not only is it well worth the watching but it is a terrificly written and performed piece. A masterful production about one of the great master's of comedy and his life. <br /><br />The realism really comes home with the little things: the fantasy of the guard which, rather than use the traditional 'dream' techniques remains solid then disappears. It plays on our knowledge and our senses, particularly with the scenes concerning Orton and Halliwell and the sets (particularly of their flat with Halliwell's murals decorating every surface) are terribly well done.' => Sentiment: POSITIVE, Confidence: 1.00\n",
      "Sentence: 'I have to say I was really looking forward on watching this film and finding some new life in it that would separate it from most dull and overly crafted mexican films. I have no idea why but I trusted Sexo, Pudor y Lagrimas to be the one to inject freshness and confidence to our non-existent industry. Maybe it was because the soundtrack(which I listened to before I saw the film) sounded different from others, maybe it was because it dared to include newer faces(apart from Demian Bichir who is always a favorite of mexican film directors) and supposedly dealed within it's script with modern social behaviour, maybe because it's photography I saw in the trailers was bright and realistic instead of theatrical. The film turned out to be a major crowd pleaser, and a major letdown. What Serrano actually deals here with is the very old fashioned 'battle of the sexes' as in 'all men are the same' and 'why is it that all women...;' blah,blah,blah. Nothing new in it, not even that, it uses so much common ground and clichè that it eventually mocks itself without leaving any valuable reflexion on the female/male condition. Full of usual tramps on the audience like safe gags about the clichès I talked about before(those always work, always) and screaming performances(it is a well acted film in it's context)..and by screaming I mean, literally. The at first more compelling characters played by Monica Dionne and Demian Bichir turn out to be according to Serrano the more pathetic ones. I completely disagree with Serrano, they shouldn't have been treated that way only to serve as marionettes for his lesson to come through...he made sure we got HIS message and completely destroyed their roles that were the only solid ground in which this story could have stood. Anyway, it is after all, a very entertaining film at times and you will probably have a good time seeing it (if you accept to be manipulated by it)' => Sentiment: POSITIVE, Confidence: 0.70\n",
      "Sentence: 'Andaz Apna Apna is considered one of the most intelligent comedies ever made in Bollywood, potentially rivaling even Hollywood comedies. Despite being a commercial flop upon release, the film gained immense popularity over time, making significant revenue through home media sales and repeated TV broadcasts. The reviewer shares their personal experience, having watched the film more than 80 times and still loving it. The story follows Amar (Aamir Khan) and Prem (Salman Khan), two lazy, poor men who dream of becoming rich by marrying Raveena, the daughter of a millionaire. Both set off to woo her, engaging in hilarious schemes to outsmart each other. Alongside their antics, the movie introduces Teja, Raveena’s uncle who plots to kidnap her for ransom, and Crime Master Gogo (Shakti Kapoor), a memorable villain known for his comedic dialogues. The film’s standout elements are its witty dialogues, such as Aamir’s iconic 'aaila' and Salman’s 'ooima,' which have become legendary. The reviewer highlights memorable scenes, especially one where Amar and Prem attempt to rescue Raveena with a bag of small change. They strongly recommend this timeless comedy classic to anyone who understands Hindi or Urdu, calling it a must-have DVD for guaranteed entertainment.' => Sentiment: POSITIVE, Confidence: 1.00\n"
     ]
    }
   ],
   "source": [
    "# Test the pipeline with some sample sentences\n",
    "sentences = [\n",
    "    \"I love using DistilBERT! It's so fast and accurate.\",\n",
    "    \"This product is terrible. I'm very disappointed.\",\n",
    "    \"This is very good, not!\",\n",
    "    \"This is very good. (not!)\",\n",
    "    \"Things are going well.\",\n",
    "    \"Here in Brazil the sun is shining and the weather is hot.\",\n",
    "    \"Here in Sweden the weather is cold and the snow is falling.\",\n",
    "    \"One of the other reviewers has mentioned that after watching just 1 Oz episode you'll be hooked. They are right, as this is exactly what happened with me.<br /><br />The first thing that struck me about Oz was its brutality and unflinching scenes of violence, which set in right from the word GO. Trust me, this is not a show for the faint hearted or timid. This show pulls no punches with regards to drugs, sex or violence. Its is hardcore, in the classic use of the word.<br /><br />It is called OZ as that is the nickname given to the Oswald Maximum Security State Penitentary. It focuses mainly on Emerald City, an experimental section of the prison where all the cells have glass fronts and face inwards, so privacy is not high on the agenda. Em City is home to many..Aryans, Muslims, gangstas, Latinos, Christians, Italians, Irish and more....so scuffles, death stares, dodgy dealings and shady agreements are never far away.<br /><br />I would say the main appeal of the show is due to the fact that it goes where other shows wouldn't dare. Forget pretty pictures painted for mainstream audiences, forget charm, forget romance...OZ doesn't mess around. The first episode I ever saw struck me as so nasty it was surreal, I couldn't say I was ready for it, but as I watched more, I developed a taste for Oz, and got accustomed to the high levels of graphic violence. Not just violence, but injustice (crooked guards who'll be sold out for a nickel, inmates who'll kill on order and get away with it, well mannered, middle class inmates being turned into prison bitches due to their lack of street skills or prison experience) Watching Oz, you may become comfortable with what is uncomfortable viewing....thats if you can get in touch with your darker side.\",\n",
    "    \"A wonderful little production. The filming technique is very unassuming - very old-time-BBC fashion and gives a comforting, and sometimes discomforting, sense of realism to the entire piece. <br /><br />The actors are extremely well chosen- Michael Sheen not only 'has got all the polari' but he has all the voices down pat too! You can truly see the seamless editing guided by the references to Williams' diary entries, not only is it well worth the watching but it is a terrificly written and performed piece. A masterful production about one of the great master's of comedy and his life. <br /><br />The realism really comes home with the little things: the fantasy of the guard which, rather than use the traditional 'dream' techniques remains solid then disappears. It plays on our knowledge and our senses, particularly with the scenes concerning Orton and Halliwell and the sets (particularly of their flat with Halliwell's murals decorating every surface) are terribly well done.\",\n",
    "    \"I have to say I was really looking forward on watching this film and finding some new life in it that would separate it from most dull and overly crafted mexican films. I have no idea why but I trusted Sexo, Pudor y Lagrimas to be the one to inject freshness and confidence to our non-existent industry. Maybe it was because the soundtrack(which I listened to before I saw the film) sounded different from others, maybe it was because it dared to include newer faces(apart from Demian Bichir who is always a favorite of mexican film directors) and supposedly dealed within it's script with modern social behaviour, maybe because it's photography I saw in the trailers was bright and realistic instead of theatrical. The film turned out to be a major crowd pleaser, and a major letdown. What Serrano actually deals here with is the very old fashioned 'battle of the sexes' as in 'all men are the same' and 'why is it that all women...;' blah,blah,blah. Nothing new in it, not even that, it uses so much common ground and clichè that it eventually mocks itself without leaving any valuable reflexion on the female/male condition. Full of usual tramps on the audience like safe gags about the clichès I talked about before(those always work, always) and screaming performances(it is a well acted film in it's context)..and by screaming I mean, literally. The at first more compelling characters played by Monica Dionne and Demian Bichir turn out to be according to Serrano the more pathetic ones. I completely disagree with Serrano, they shouldn't have been treated that way only to serve as marionettes for his lesson to come through...he made sure we got HIS message and completely destroyed their roles that were the only solid ground in which this story could have stood. Anyway, it is after all, a very entertaining film at times and you will probably have a good time seeing it (if you accept to be manipulated by it)\",\n",
    "    #\"The movie Andaz Apna Apna in my books is the top 5 intelligent comedy movies ever made in Bollywood perhaps even Hollywood. <br /><br />When the movie released i was a 8 year old and I heard it was a flop but I never understood till now why was it a flop...but let me tell you one thing...this movie would have more money by selling home Cassettes and DVDs and by showing in TV movie channels than any hit movie in theaters. This movie has been shown countless times in Movie channels and I think even now the public love and the TV producers keep repeating the movie again and again. I personally have watched the entire movie more than 80 -100 times and I still love it.....<br /><br />The performance by both Aamir khan as Amar and Salman khan as Prem is mind blowing but i especially liked the performance of Aamir khan as a street smart guy....his dialogs in the movie are Hilarious... the story is simple and heres how it goes.....<br /><br />Amar and Prem are poor , lazy chaps and come from a poor family of tailors and Amars father is a barber. Then they both get a news that a Millionaire 's daughter from London is coming to India to look for a suitable match ...both Amar and Prem think that this is a brilliant opportunity to become super rich.....therefore they both head out to woo Raveena Tandon..(the millionaires daughter)......in their journey they both hate each other and each one of them try to fool the other in order to marry Raveena.....the comedy scenes in between are so hilarious that you would need a glass of water to stop the pain in your stomach by laughing.......and then there is Raveenas Uncle (Millionaire's look alike brother) Teja who wants to take revenge from Raveenas father.....since he is broke and Raveenas dad is a millionaire......his plans include kidnapping Raveena to blackmail Raveenas dad for which he hires 2 butlers.....<br /><br />but later on we get to know that there is a twist in the movie (watch the movie to know).......then there is Shakti Kapoor as crime master Gogo who is also incredibly funny......<br /><br />The thing which stood out for me were the dialogs in the movie which has become a legend of sorts.....Aamir khan uses his  ' aaila  '  brilliantly and Salman goes like  ' OOima  ' ........and for Gogo there is  '  Jab Raat Ko Bacha Soota Nahi Hain to Ma Bolti Hain Ki Sooja Nahi to Gogo Aa Jaega '  ......each and every scene is so funny......<br /><br />I especially liked the one in which Aamir khan and Salman goto get Raveena from Teja and they both go in a Luna having  ' chillar '  money in a bag....that scene is so funny..<br /><br />I recommend anyone who understands Hindi or Urdu to watch this movie ......this is one movie that I would recommend having a DVD and you will never regret......\",\n",
    "    \"Andaz Apna Apna is considered one of the most intelligent comedies ever made in Bollywood, potentially rivaling even Hollywood comedies. Despite being a commercial flop upon release, the film gained immense popularity over time, making significant revenue through home media sales and repeated TV broadcasts. The reviewer shares their personal experience, having watched the film more than 80 times and still loving it. The story follows Amar (Aamir Khan) and Prem (Salman Khan), two lazy, poor men who dream of becoming rich by marrying Raveena, the daughter of a millionaire. Both set off to woo her, engaging in hilarious schemes to outsmart each other. Alongside their antics, the movie introduces Teja, Raveena’s uncle who plots to kidnap her for ransom, and Crime Master Gogo (Shakti Kapoor), a memorable villain known for his comedic dialogues. The film’s standout elements are its witty dialogues, such as Aamir’s iconic 'aaila' and Salman’s 'ooima,' which have become legendary. The reviewer highlights memorable scenes, especially one where Amar and Prem attempt to rescue Raveena with a bag of small change. They strongly recommend this timeless comedy classic to anyone who understands Hindi or Urdu, calling it a must-have DVD for guaranteed entertainment.\",\n",
    "\n",
    "]\n",
    "# Get predictions\n",
    "results = sentiment_pipeline(sentences)\n",
    "# Print the results\n",
    "for sentence, result in zip(sentences, results):\n",
    "    print(f\"Sentence: '{sentence}' => Sentiment: {result['label']}, Confidence: {result['score']:.2f}\")"
   ]
  },
  {
   "cell_type": "markdown",
   "metadata": {},
   "source": [
    "# Trying summarizing texts:"
   ]
  },
  {
   "cell_type": "code",
   "execution_count": 90,
   "metadata": {},
   "outputs": [
    {
     "data": {
      "application/vnd.jupyter.widget-view+json": {
       "model_id": "5928d64f1dc147e4a16e1ca3915d5b0d",
       "version_major": 2,
       "version_minor": 0
      },
      "text/plain": [
       "config.json:   0%|          | 0.00/1.49k [00:00<?, ?B/s]"
      ]
     },
     "metadata": {},
     "output_type": "display_data"
    },
    {
     "data": {
      "application/vnd.jupyter.widget-view+json": {
       "model_id": "deaa65474cbb4293a95d7cd2b8a5f041",
       "version_major": 2,
       "version_minor": 0
      },
      "text/plain": [
       "model.safetensors:   0%|          | 0.00/242M [00:00<?, ?B/s]"
      ]
     },
     "metadata": {},
     "output_type": "display_data"
    },
    {
     "name": "stderr",
     "output_type": "stream",
     "text": [
      "All PyTorch model weights were used when initializing TFT5ForConditionalGeneration.\n",
      "\n",
      "All the weights of TFT5ForConditionalGeneration were initialized from the PyTorch model.\n",
      "If your task is similar to the task the model of the checkpoint was trained on, you can already use TFT5ForConditionalGeneration for predictions without further training.\n"
     ]
    },
    {
     "data": {
      "application/vnd.jupyter.widget-view+json": {
       "model_id": "7d3fbdeb6ad84536a4c1b4cf0d0a511a",
       "version_major": 2,
       "version_minor": 0
      },
      "text/plain": [
       "tokenizer_config.json:   0%|          | 0.00/2.32k [00:00<?, ?B/s]"
      ]
     },
     "metadata": {},
     "output_type": "display_data"
    },
    {
     "data": {
      "application/vnd.jupyter.widget-view+json": {
       "model_id": "e8d7e2dbcc9541c592837e189cbb911a",
       "version_major": 2,
       "version_minor": 0
      },
      "text/plain": [
       "spiece.model:   0%|          | 0.00/792k [00:00<?, ?B/s]"
      ]
     },
     "metadata": {},
     "output_type": "display_data"
    },
    {
     "data": {
      "application/vnd.jupyter.widget-view+json": {
       "model_id": "2cef1ed78a644b2aa3734261a6f2cd8a",
       "version_major": 2,
       "version_minor": 0
      },
      "text/plain": [
       "tokenizer.json:   0%|          | 0.00/2.42M [00:00<?, ?B/s]"
      ]
     },
     "metadata": {},
     "output_type": "display_data"
    },
    {
     "data": {
      "application/vnd.jupyter.widget-view+json": {
       "model_id": "58a4bd1f76ba42159395e9c9c252cdf0",
       "version_major": 2,
       "version_minor": 0
      },
      "text/plain": [
       "special_tokens_map.json:   0%|          | 0.00/2.20k [00:00<?, ?B/s]"
      ]
     },
     "metadata": {},
     "output_type": "display_data"
    },
    {
     "name": "stderr",
     "output_type": "stream",
     "text": [
      "Device set to use 0\n"
     ]
    }
   ],
   "source": [
    "# Load the summarization pipeline with a DistilBART model\n",
    "# summarization_pipeline = pipeline(\"summarization\", model=\"sshleifer/distilbart-cnn-12-6\", from_tf=True)\n",
    "summarization_pipeline = pipeline(\"summarization\", model=\"Falconsai/text_summarization\")"
   ]
  },
  {
   "cell_type": "code",
   "execution_count": 94,
   "metadata": {},
   "outputs": [],
   "source": [
    "# length på ARTICLE är 318 ord\n",
    "ARTICLE = \"Andaz Apna Apna is considered one of the most intelligent comedies ever made in Bollywood, potentially rivaling even Hollywood comedies. Despite being a commercial flop upon release, the film gained immense popularity over time, making significant revenue through home media sales and repeated TV broadcasts. The reviewer shares their personal experience, having watched the film more than 80 times and still loving it. The story follows Amar (Aamir Khan) and Prem (Salman Khan), two lazy, poor men who dream of becoming rich by marrying Raveena, the daughter of a millionaire. Both set off to woo her, engaging in hilarious schemes to outsmart each other. Alongside their antics, the movie introduces Teja, Raveena’s uncle who plots to kidnap her for ransom, and Crime Master Gogo (Shakti Kapoor), a memorable villain known for his comedic dialogues. The film’s standout elements are its witty dialogues, such as Aamir’s iconic 'aaila' and Salman’s 'ooima,' which have become legendary. The reviewer highlights memorable scenes, especially one where Amar and Prem attempt to rescue Raveena with a bag of small change. They strongly recommend this timeless comedy classic to anyone who understands Hindi or Urdu, calling it a must-have DVD for guaranteed entertainment.\""
   ]
  },
  {
   "cell_type": "code",
   "execution_count": 96,
   "metadata": {},
   "outputs": [
    {
     "name": "stdout",
     "output_type": "stream",
     "text": [
      "[{'summary_text': 'The reviewer shares their personal experience, having watched the film more than 80 times and still loving it . The story follows Amar (Aamir Khan) and Prem (Salman Khan), two lazy, poor men who dream of becoming rich by marrying Raveena, the daughter of a millionaire . Alongside their antics, the movie introduces Teja and Crime Master Gogo (Shakti Kapoor), a memorable villain known for his comedic dialogues . It’s standout elements: despite being a commercial flop upon release . . the reviewer has watched the movie more than 80% . Amar . and the movie . Prem, Amar and Rave Ena . they . both set off to woo her . Both set . in the . ‘salman’ . They . their witty, .'}]\n"
     ]
    }
   ],
   "source": [
    "print(summarization_pipeline(ARTICLE, max_length=250, min_length=200, do_sample=False))"
   ]
  }
 ],
 "metadata": {
  "kernelspec": {
   "display_name": ".venv",
   "language": "python",
   "name": "python3"
  },
  "language_info": {
   "codemirror_mode": {
    "name": "ipython",
    "version": 3
   },
   "file_extension": ".py",
   "mimetype": "text/x-python",
   "name": "python",
   "nbconvert_exporter": "python",
   "pygments_lexer": "ipython3",
   "version": "3.13.0"
  }
 },
 "nbformat": 4,
 "nbformat_minor": 2
}
