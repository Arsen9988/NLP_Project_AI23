{
 "cells": [
  {
   "cell_type": "markdown",
   "metadata": {},
   "source": [
    "# Projektarbete med LLM's\n",
    "- Gruppen valde att göra en Sentiment Analysis av IMDB reviews\n",
    "- Detta är en sandbox för att komma igång litegrann"
   ]
  },
  {
   "cell_type": "markdown",
   "metadata": {},
   "source": [
    "## Huggingface\n",
    "- har pretrained models, i sitt library som heter transformers, installera med:  \n",
    "`pip install transformers`  \n",
    "`pip install openai`\n",
    "\n",
    "## Python installation:\n",
    "- använd version 3.12 (ej 3.13 för den funkar ej med TensorFlow)"
   ]
  },
  {
   "cell_type": "markdown",
   "metadata": {},
   "source": [
    "## Libraries:\n",
    "- ipywidgets tf-keras transformers ipykernel tensorflow pandas openai==0.28 scikit-learn seaborn matplotlib"
   ]
  },
  {
   "cell_type": "code",
   "execution_count": 1,
   "metadata": {},
   "outputs": [],
   "source": [
    "import tensorflow as tf\n",
    "from transformers import pipeline\n",
    "from transformers import AutoTokenizer, AutoModelForSequenceClassification\n",
    "from sklearn.metrics import accuracy_score, classification_report, confusion_matrix\n",
    "import matplotlib.pyplot as plt\n",
    "import seaborn as sns\n",
    "import openai\n",
    "import pandas as pd\n",
    "from sklearn.model_selection import train_test_split\n",
    "import daniel_functions as dfunc\n"
   ]
  },
  {
   "cell_type": "code",
   "execution_count": 137,
   "metadata": {},
   "outputs": [
    {
     "name": "stderr",
     "output_type": "stream",
     "text": [
      "Token indices sequence length is longer than the specified maximum sequence length for this model (748 > 512). Running this sequence through the model will result in indexing errors\n"
     ]
    },
    {
     "name": "stdout",
     "output_type": "stream",
     "text": [
      "Text 1: 748 tokens\n",
      "Text 2: 748 tokens\n",
      "Text 3: 748 tokens\n",
      "Text 4: 748 tokens\n",
      "Text 5: 748 tokens\n",
      "Text 6: 748 tokens\n"
     ]
    }
   ],
   "source": [
    "# Load a pretrained tokenizer (e.g., DistilBERT)\n",
    "tokenizer = AutoTokenizer.from_pretrained(\"distilbert-base-uncased-finetuned-sst-2-english\")\n",
    "\n",
    "# List of multiple texts\n",
    "texts = [\n",
    "    \"hello Daniel, how are you?\",\n",
    "    \"I love using DistilBERT! It's fast and accurate. Says Daniel.\",\n",
    "    \"Daniel says, this product is terrible.\",\n",
    "    \"Transformers are very useful for NLP tasks.\",\n",
    "    \"The movie Andaz Apna Apna in my books is the top 5 intelligent comedy movies ever made in Bollywood perhaps even Hollywood. <br /><br />When the movie released i was a 8 year old and I heard it was a flop but I never understood till now why was it a flop...but let me tell you one thing...this movie would have more money by selling home Cassettes and DVDs and by showing in TV movie channels than any hit movie in theaters. This movie has been shown countless times in Movie channels and I think even now the public love and the TV producers keep repeating the movie again and again. I personally have watched the entire movie more than 80 -100 times and I still love it.....<br /><br />The performance by both Aamir khan as Amar and Salman khan as Prem is mind blowing but i especially liked the performance of Aamir khan as a street smart guy....his dialogs in the movie are Hilarious... the story is simple and heres how it goes.....<br /><br />Amar and Prem are poor , lazy chaps and come from a poor family of tailors and Amars father is a barber. Then they both get a news that a Millionaire 's daughter from London is coming to India to look for a suitable match ...both Amar and Prem think that this is a brilliant opportunity to become super rich.....therefore they both head out to woo Raveena Tandon..(the millionaires daughter)......in their journey they both hate each other and each one of them try to fool the other in order to marry Raveena.....the comedy scenes in between are so hilarious that you would need a glass of water to stop the pain in your stomach by laughing.......and then there is Raveenas Uncle (Millionaire's look alike brother) Teja who wants to take revenge from Raveenas father.....since he is broke and Raveenas dad is a millionaire......his plans include kidnapping Raveena to blackmail Raveenas dad for which he hires 2 butlers.....<br /><br />but later on we get to know that there is a twist in the movie (watch the movie to know).......then there is Shakti Kapoor as crime master Gogo who is also incredibly funny......<br /><br />The thing which stood out for me were the dialogs in the movie which has become a legend of sorts.....Aamir khan uses his  ' aaila  '  brilliantly and Salman goes like  ' OOima  ' ........and for Gogo there is  '  Jab Raat Ko Bacha Soota Nahi Hain to Ma Bolti Hain Ki Sooja Nahi to Gogo Aa Jaega '  ......each and every scene is so funny......<br /><br />I especially liked the one in which Aamir khan and Salman goto get Raveena from Teja and they both go in a Luna having  ' chillar '  money in a bag....that scene is so funny..<br /><br />I recommend anyone who understands Hindi or Urdu to watch this movie ......this is one movie that I would recommend having a DVD and you will never regret......\",\n",
    "    \"Andaz Apna Apna is considered one of the most intelligent comedies ever made in Bollywood, potentially rivaling even Hollywood comedies. Despite being a commercial flop upon release, the film gained immense popularity over time, making significant revenue through home media sales and repeated TV broadcasts. The reviewer shares their personal experience, having watched the film more than 80 times and still loving it. The story follows Amar (Aamir Khan) and Prem (Salman Khan), two lazy, poor men who dream of becoming rich by marrying Raveena, the daughter of a millionaire. Both set off to woo her, engaging in hilarious schemes to outsmart each other. Alongside their antics, the movie introduces Teja, Raveena’s uncle who plots to kidnap her for ransom, and Crime Master Gogo (Shakti Kapoor), a memorable villain known for his comedic dialogues. The film’s standout elements are its witty dialogues, such as Aamir’s iconic 'aaila' and Salman’s 'ooima,' which have become legendary. The reviewer highlights memorable scenes, especially one where Amar and Prem attempt to rescue Raveena with a bag of small change. They strongly recommend this timeless comedy classic to anyone who understands Hindi or Urdu, calling it a must-have DVD for guaranteed entertainment.\"\n",
    "]\n",
    "\n",
    "# Tokenize the texts\n",
    "tokenized_texts = tokenizer(texts, padding=True, truncation=False, return_tensors=\"tf\")\n",
    "\n",
    "# Count the number of tokens for each text\n",
    "num_tokens = [len(tokens) for tokens in tokenized_texts['input_ids']]\n",
    "\n",
    "# Print the number of tokens for each text\n",
    "for i, tokens in enumerate(num_tokens):\n",
    "    print(f\"Text {i+1}: {tokens} tokens\")\n"
   ]
  },
  {
   "cell_type": "code",
   "execution_count": 138,
   "metadata": {},
   "outputs": [
    {
     "name": "stdout",
     "output_type": "stream",
     "text": [
      "Number of tokens: 15\n"
     ]
    }
   ],
   "source": [
    "def count_tokens(text):\n",
    "    # Tokenize the text\n",
    "    tokenized_text = tokenizer(text, padding=True, truncation=False, return_tensors=\"tf\")\n",
    "    # Count the number of tokens\n",
    "    num_tokens = len(tokenized_text['input_ids'][0])\n",
    "    return num_tokens\n",
    "\n",
    "# Example usage\n",
    "example_text = \"This is an example sentence to count the number of tokens.\"\n",
    "print(f\"Number of tokens: {count_tokens(example_text)}\")"
   ]
  },
  {
   "cell_type": "code",
   "execution_count": 139,
   "metadata": {},
   "outputs": [
    {
     "data": {
      "text/plain": [
       "{'input_ids': <tf.Tensor: shape=(6, 748), dtype=int32, numpy=\n",
       "array([[  101,  7592,  3817, ...,     0,     0,     0],\n",
       "       [  101,  1045,  2293, ...,     0,     0,     0],\n",
       "       [  101,  3817,  2758, ...,     0,     0,     0],\n",
       "       [  101, 19081,  2024, ...,     0,     0,     0],\n",
       "       [  101,  1996,  3185, ...,  1012,  1012,   102],\n",
       "       [  101,  1998, 10936, ...,     0,     0,     0]], dtype=int32)>, 'attention_mask': <tf.Tensor: shape=(6, 748), dtype=int32, numpy=\n",
       "array([[1, 1, 1, ..., 0, 0, 0],\n",
       "       [1, 1, 1, ..., 0, 0, 0],\n",
       "       [1, 1, 1, ..., 0, 0, 0],\n",
       "       [1, 1, 1, ..., 0, 0, 0],\n",
       "       [1, 1, 1, ..., 1, 1, 1],\n",
       "       [1, 1, 1, ..., 0, 0, 0]], dtype=int32)>}"
      ]
     },
     "execution_count": 139,
     "metadata": {},
     "output_type": "execute_result"
    }
   ],
   "source": [
    "tokenized_texts"
   ]
  },
  {
   "cell_type": "code",
   "execution_count": 156,
   "metadata": {},
   "outputs": [],
   "source": [
    "#tokens = tokenizer(tokenized_texts, return_tensors=\"tf\")\n",
    "\n",
    "# Convert token IDs back to text\n",
    "decoded_text = tokenizer.decode(tokenized_texts['input_ids'][2])\n",
    "#decoded_text"
   ]
  },
  {
   "cell_type": "code",
   "execution_count": 141,
   "metadata": {},
   "outputs": [
    {
     "name": "stderr",
     "output_type": "stream",
     "text": [
      "All PyTorch model weights were used when initializing TFDistilBertForSequenceClassification.\n",
      "\n",
      "All the weights of TFDistilBertForSequenceClassification were initialized from the PyTorch model.\n",
      "If your task is similar to the task the model of the checkpoint was trained on, you can already use TFDistilBertForSequenceClassification for predictions without further training.\n",
      "Device set to use 0\n"
     ]
    }
   ],
   "source": [
    "# Load the sentiment analysis pipeline with a DistilBERT model\n",
    "sentiment_pipeline = pipeline(\"sentiment-analysis\", model=\"distilbert-base-uncased-finetuned-sst-2-english\", framework=\"tf\")"
   ]
  },
  {
   "cell_type": "code",
   "execution_count": 142,
   "metadata": {},
   "outputs": [
    {
     "name": "stdout",
     "output_type": "stream",
     "text": [
      "Sentence: 'I love using DistilBERT! It's so fast and accurate.' => Sentiment: POSITIVE, Confidence: 1.00\n",
      "Sentence: 'This product is terrible. I'm very disappointed.' => Sentiment: NEGATIVE, Confidence: 1.00\n",
      "Sentence: 'This is very good, not!' => Sentiment: POSITIVE, Confidence: 1.00\n",
      "Sentence: 'This is very good. (not!)' => Sentiment: POSITIVE, Confidence: 1.00\n",
      "Sentence: 'Things are going well.' => Sentiment: POSITIVE, Confidence: 1.00\n",
      "Sentence: 'Here in Brazil the sun is shining and the weather is hot.' => Sentiment: POSITIVE, Confidence: 1.00\n",
      "Sentence: 'Here in Sweden the weather is cold and the snow is falling.' => Sentiment: NEGATIVE, Confidence: 0.99\n",
      "Sentence: 'One of the other reviewers has mentioned that after watching just 1 Oz episode you'll be hooked. They are right, as this is exactly what happened with me.<br /><br />The first thing that struck me about Oz was its brutality and unflinching scenes of violence, which set in right from the word GO. Trust me, this is not a show for the faint hearted or timid. This show pulls no punches with regards to drugs, sex or violence. Its is hardcore, in the classic use of the word.<br /><br />It is called OZ as that is the nickname given to the Oswald Maximum Security State Penitentary. It focuses mainly on Emerald City, an experimental section of the prison where all the cells have glass fronts and face inwards, so privacy is not high on the agenda. Em City is home to many..Aryans, Muslims, gangstas, Latinos, Christians, Italians, Irish and more....so scuffles, death stares, dodgy dealings and shady agreements are never far away.<br /><br />I would say the main appeal of the show is due to the fact that it goes where other shows wouldn't dare. Forget pretty pictures painted for mainstream audiences, forget charm, forget romance...OZ doesn't mess around. The first episode I ever saw struck me as so nasty it was surreal, I couldn't say I was ready for it, but as I watched more, I developed a taste for Oz, and got accustomed to the high levels of graphic violence. Not just violence, but injustice (crooked guards who'll be sold out for a nickel, inmates who'll kill on order and get away with it, well mannered, middle class inmates being turned into prison bitches due to their lack of street skills or prison experience) Watching Oz, you may become comfortable with what is uncomfortable viewing....thats if you can get in touch with your darker side.' => Sentiment: NEGATIVE, Confidence: 0.51\n",
      "Sentence: 'A wonderful little production. The filming technique is very unassuming - very old-time-BBC fashion and gives a comforting, and sometimes discomforting, sense of realism to the entire piece. <br /><br />The actors are extremely well chosen- Michael Sheen not only 'has got all the polari' but he has all the voices down pat too! You can truly see the seamless editing guided by the references to Williams' diary entries, not only is it well worth the watching but it is a terrificly written and performed piece. A masterful production about one of the great master's of comedy and his life. <br /><br />The realism really comes home with the little things: the fantasy of the guard which, rather than use the traditional 'dream' techniques remains solid then disappears. It plays on our knowledge and our senses, particularly with the scenes concerning Orton and Halliwell and the sets (particularly of their flat with Halliwell's murals decorating every surface) are terribly well done.' => Sentiment: POSITIVE, Confidence: 1.00\n",
      "Sentence: 'I have to say I was really looking forward on watching this film and finding some new life in it that would separate it from most dull and overly crafted mexican films. I have no idea why but I trusted Sexo, Pudor y Lagrimas to be the one to inject freshness and confidence to our non-existent industry. Maybe it was because the soundtrack(which I listened to before I saw the film) sounded different from others, maybe it was because it dared to include newer faces(apart from Demian Bichir who is always a favorite of mexican film directors) and supposedly dealed within it's script with modern social behaviour, maybe because it's photography I saw in the trailers was bright and realistic instead of theatrical. The film turned out to be a major crowd pleaser, and a major letdown. What Serrano actually deals here with is the very old fashioned 'battle of the sexes' as in 'all men are the same' and 'why is it that all women...;' blah,blah,blah. Nothing new in it, not even that, it uses so much common ground and clichè that it eventually mocks itself without leaving any valuable reflexion on the female/male condition. Full of usual tramps on the audience like safe gags about the clichès I talked about before(those always work, always) and screaming performances(it is a well acted film in it's context)..and by screaming I mean, literally. The at first more compelling characters played by Monica Dionne and Demian Bichir turn out to be according to Serrano the more pathetic ones. I completely disagree with Serrano, they shouldn't have been treated that way only to serve as marionettes for his lesson to come through...he made sure we got HIS message and completely destroyed their roles that were the only solid ground in which this story could have stood. Anyway, it is after all, a very entertaining film at times and you will probably have a good time seeing it (if you accept to be manipulated by it)' => Sentiment: POSITIVE, Confidence: 0.70\n",
      "Sentence: 'Andaz Apna Apna is considered one of the most intelligent comedies ever made in Bollywood, potentially rivaling even Hollywood comedies. Despite being a commercial flop upon release, the film gained immense popularity over time, making significant revenue through home media sales and repeated TV broadcasts. The reviewer shares their personal experience, having watched the film more than 80 times and still loving it. The story follows Amar (Aamir Khan) and Prem (Salman Khan), two lazy, poor men who dream of becoming rich by marrying Raveena, the daughter of a millionaire. Both set off to woo her, engaging in hilarious schemes to outsmart each other. Alongside their antics, the movie introduces Teja, Raveena’s uncle who plots to kidnap her for ransom, and Crime Master Gogo (Shakti Kapoor), a memorable villain known for his comedic dialogues. The film’s standout elements are its witty dialogues, such as Aamir’s iconic 'aaila' and Salman’s 'ooima,' which have become legendary. The reviewer highlights memorable scenes, especially one where Amar and Prem attempt to rescue Raveena with a bag of small change. They strongly recommend this timeless comedy classic to anyone who understands Hindi or Urdu, calling it a must-have DVD for guaranteed entertainment.' => Sentiment: POSITIVE, Confidence: 1.00\n"
     ]
    }
   ],
   "source": [
    "# Test the pipeline with some sample sentences\n",
    "sentences = [\n",
    "    \"I love using DistilBERT! It's so fast and accurate.\",\n",
    "    \"This product is terrible. I'm very disappointed.\",\n",
    "    \"This is very good, not!\",\n",
    "    \"This is very good. (not!)\",\n",
    "    \"Things are going well.\",\n",
    "    \"Here in Brazil the sun is shining and the weather is hot.\",\n",
    "    \"Here in Sweden the weather is cold and the snow is falling.\",\n",
    "    \"One of the other reviewers has mentioned that after watching just 1 Oz episode you'll be hooked. They are right, as this is exactly what happened with me.<br /><br />The first thing that struck me about Oz was its brutality and unflinching scenes of violence, which set in right from the word GO. Trust me, this is not a show for the faint hearted or timid. This show pulls no punches with regards to drugs, sex or violence. Its is hardcore, in the classic use of the word.<br /><br />It is called OZ as that is the nickname given to the Oswald Maximum Security State Penitentary. It focuses mainly on Emerald City, an experimental section of the prison where all the cells have glass fronts and face inwards, so privacy is not high on the agenda. Em City is home to many..Aryans, Muslims, gangstas, Latinos, Christians, Italians, Irish and more....so scuffles, death stares, dodgy dealings and shady agreements are never far away.<br /><br />I would say the main appeal of the show is due to the fact that it goes where other shows wouldn't dare. Forget pretty pictures painted for mainstream audiences, forget charm, forget romance...OZ doesn't mess around. The first episode I ever saw struck me as so nasty it was surreal, I couldn't say I was ready for it, but as I watched more, I developed a taste for Oz, and got accustomed to the high levels of graphic violence. Not just violence, but injustice (crooked guards who'll be sold out for a nickel, inmates who'll kill on order and get away with it, well mannered, middle class inmates being turned into prison bitches due to their lack of street skills or prison experience) Watching Oz, you may become comfortable with what is uncomfortable viewing....thats if you can get in touch with your darker side.\",\n",
    "    \"A wonderful little production. The filming technique is very unassuming - very old-time-BBC fashion and gives a comforting, and sometimes discomforting, sense of realism to the entire piece. <br /><br />The actors are extremely well chosen- Michael Sheen not only 'has got all the polari' but he has all the voices down pat too! You can truly see the seamless editing guided by the references to Williams' diary entries, not only is it well worth the watching but it is a terrificly written and performed piece. A masterful production about one of the great master's of comedy and his life. <br /><br />The realism really comes home with the little things: the fantasy of the guard which, rather than use the traditional 'dream' techniques remains solid then disappears. It plays on our knowledge and our senses, particularly with the scenes concerning Orton and Halliwell and the sets (particularly of their flat with Halliwell's murals decorating every surface) are terribly well done.\",\n",
    "    \"I have to say I was really looking forward on watching this film and finding some new life in it that would separate it from most dull and overly crafted mexican films. I have no idea why but I trusted Sexo, Pudor y Lagrimas to be the one to inject freshness and confidence to our non-existent industry. Maybe it was because the soundtrack(which I listened to before I saw the film) sounded different from others, maybe it was because it dared to include newer faces(apart from Demian Bichir who is always a favorite of mexican film directors) and supposedly dealed within it's script with modern social behaviour, maybe because it's photography I saw in the trailers was bright and realistic instead of theatrical. The film turned out to be a major crowd pleaser, and a major letdown. What Serrano actually deals here with is the very old fashioned 'battle of the sexes' as in 'all men are the same' and 'why is it that all women...;' blah,blah,blah. Nothing new in it, not even that, it uses so much common ground and clichè that it eventually mocks itself without leaving any valuable reflexion on the female/male condition. Full of usual tramps on the audience like safe gags about the clichès I talked about before(those always work, always) and screaming performances(it is a well acted film in it's context)..and by screaming I mean, literally. The at first more compelling characters played by Monica Dionne and Demian Bichir turn out to be according to Serrano the more pathetic ones. I completely disagree with Serrano, they shouldn't have been treated that way only to serve as marionettes for his lesson to come through...he made sure we got HIS message and completely destroyed their roles that were the only solid ground in which this story could have stood. Anyway, it is after all, a very entertaining film at times and you will probably have a good time seeing it (if you accept to be manipulated by it)\",\n",
    "    #\"The movie Andaz Apna Apna in my books is the top 5 intelligent comedy movies ever made in Bollywood perhaps even Hollywood. <br /><br />When the movie released i was a 8 year old and I heard it was a flop but I never understood till now why was it a flop...but let me tell you one thing...this movie would have more money by selling home Cassettes and DVDs and by showing in TV movie channels than any hit movie in theaters. This movie has been shown countless times in Movie channels and I think even now the public love and the TV producers keep repeating the movie again and again. I personally have watched the entire movie more than 80 -100 times and I still love it.....<br /><br />The performance by both Aamir khan as Amar and Salman khan as Prem is mind blowing but i especially liked the performance of Aamir khan as a street smart guy....his dialogs in the movie are Hilarious... the story is simple and heres how it goes.....<br /><br />Amar and Prem are poor , lazy chaps and come from a poor family of tailors and Amars father is a barber. Then they both get a news that a Millionaire 's daughter from London is coming to India to look for a suitable match ...both Amar and Prem think that this is a brilliant opportunity to become super rich.....therefore they both head out to woo Raveena Tandon..(the millionaires daughter)......in their journey they both hate each other and each one of them try to fool the other in order to marry Raveena.....the comedy scenes in between are so hilarious that you would need a glass of water to stop the pain in your stomach by laughing.......and then there is Raveenas Uncle (Millionaire's look alike brother) Teja who wants to take revenge from Raveenas father.....since he is broke and Raveenas dad is a millionaire......his plans include kidnapping Raveena to blackmail Raveenas dad for which he hires 2 butlers.....<br /><br />but later on we get to know that there is a twist in the movie (watch the movie to know).......then there is Shakti Kapoor as crime master Gogo who is also incredibly funny......<br /><br />The thing which stood out for me were the dialogs in the movie which has become a legend of sorts.....Aamir khan uses his  ' aaila  '  brilliantly and Salman goes like  ' OOima  ' ........and for Gogo there is  '  Jab Raat Ko Bacha Soota Nahi Hain to Ma Bolti Hain Ki Sooja Nahi to Gogo Aa Jaega '  ......each and every scene is so funny......<br /><br />I especially liked the one in which Aamir khan and Salman goto get Raveena from Teja and they both go in a Luna having  ' chillar '  money in a bag....that scene is so funny..<br /><br />I recommend anyone who understands Hindi or Urdu to watch this movie ......this is one movie that I would recommend having a DVD and you will never regret......\",\n",
    "    \"Andaz Apna Apna is considered one of the most intelligent comedies ever made in Bollywood, potentially rivaling even Hollywood comedies. Despite being a commercial flop upon release, the film gained immense popularity over time, making significant revenue through home media sales and repeated TV broadcasts. The reviewer shares their personal experience, having watched the film more than 80 times and still loving it. The story follows Amar (Aamir Khan) and Prem (Salman Khan), two lazy, poor men who dream of becoming rich by marrying Raveena, the daughter of a millionaire. Both set off to woo her, engaging in hilarious schemes to outsmart each other. Alongside their antics, the movie introduces Teja, Raveena’s uncle who plots to kidnap her for ransom, and Crime Master Gogo (Shakti Kapoor), a memorable villain known for his comedic dialogues. The film’s standout elements are its witty dialogues, such as Aamir’s iconic 'aaila' and Salman’s 'ooima,' which have become legendary. The reviewer highlights memorable scenes, especially one where Amar and Prem attempt to rescue Raveena with a bag of small change. They strongly recommend this timeless comedy classic to anyone who understands Hindi or Urdu, calling it a must-have DVD for guaranteed entertainment.\",\n",
    "\n",
    "]\n",
    "# Get predictions\n",
    "results = sentiment_pipeline(sentences)\n",
    "# Print the results\n",
    "for sentence, result in zip(sentences, results):\n",
    "    print(f\"Sentence: '{sentence}' => Sentiment: {result['label']}, Confidence: {result['score']:.2f}\")"
   ]
  },
  {
   "cell_type": "markdown",
   "metadata": {},
   "source": [
    "# Trying summarizing texts with downloaded model:"
   ]
  },
  {
   "cell_type": "code",
   "execution_count": 7,
   "metadata": {},
   "outputs": [
    {
     "name": "stderr",
     "output_type": "stream",
     "text": [
      "All PyTorch model weights were used when initializing TFT5ForConditionalGeneration.\n",
      "\n",
      "All the weights of TFT5ForConditionalGeneration were initialized from the PyTorch model.\n",
      "If your task is similar to the task the model of the checkpoint was trained on, you can already use TFT5ForConditionalGeneration for predictions without further training.\n",
      "Device set to use 0\n"
     ]
    }
   ],
   "source": [
    "# Load the summarization pipeline with a DistilBART model\n",
    "# summarization_pipeline = pipeline(\"summarization\", model=\"sshleifer/distilbart-cnn-12-6\", from_tf=True)\n",
    "summarization_pipeline = pipeline(\"summarization\", model=\"Falconsai/text_summarization\")"
   ]
  },
  {
   "cell_type": "code",
   "execution_count": 8,
   "metadata": {},
   "outputs": [],
   "source": [
    "# length på ARTICLE är 318 ord\n",
    "ARTICLE = \"Andaz Apna Apna is considered one of the most intelligent comedies ever made in Bollywood, potentially rivaling even Hollywood comedies. Despite being a commercial flop upon release, the film gained immense popularity over time, making significant revenue through home media sales and repeated TV broadcasts. The reviewer shares their personal experience, having watched the film more than 80 times and still loving it. The story follows Amar (Aamir Khan) and Prem (Salman Khan), two lazy, poor men who dream of becoming rich by marrying Raveena, the daughter of a millionaire. Both set off to woo her, engaging in hilarious schemes to outsmart each other. Alongside their antics, the movie introduces Teja, Raveena’s uncle who plots to kidnap her for ransom, and Crime Master Gogo (Shakti Kapoor), a memorable villain known for his comedic dialogues. The film’s standout elements are its witty dialogues, such as Aamir’s iconic 'aaila' and Salman’s 'ooima,' which have become legendary. The reviewer highlights memorable scenes, especially one where Amar and Prem attempt to rescue Raveena with a bag of small change. They strongly recommend this timeless comedy classic to anyone who understands Hindi or Urdu, calling it a must-have DVD for guaranteed entertainment.\""
   ]
  },
  {
   "cell_type": "code",
   "execution_count": 9,
   "metadata": {},
   "outputs": [
    {
     "name": "stdout",
     "output_type": "stream",
     "text": [
      "[{'summary_text': 'The reviewer shares their personal experience, having watched the film more than 80 times and still loving it . The story follows Amar (Aamir Khan) and Prem (Salman Khan), two lazy, poor men who dream of becoming rich by marrying Raveena, the daughter of a millionaire . Alongside their antics, the movie introduces Teja and Crime Master Gogo (Shakti Kapoor), a memorable villain known for his comedic dialogues . It’s standout elements: despite being a commercial flop upon release . . the reviewer has watched the movie more than 80% . Amar . and the movie . Prem, Amar and Rave Ena . they . both set off to woo her . Both set . in the . ‘salman’ . They . their witty, .'}]\n"
     ]
    }
   ],
   "source": [
    "print(summarization_pipeline(ARTICLE, max_length=250, min_length=200, do_sample=False))"
   ]
  },
  {
   "cell_type": "markdown",
   "metadata": {},
   "source": [
    "# Read in the data and split into train / test\n",
    "- define X, y\n",
    "- train / test plit using ***stratify*** which enables creation of a balances dataset only on a fraction of the original data\n"
   ]
  },
  {
   "cell_type": "code",
   "execution_count": 2,
   "metadata": {},
   "outputs": [
    {
     "name": "stdout",
     "output_type": "stream",
     "text": [
      "250 250\n"
     ]
    }
   ],
   "source": [
    "df = pd.read_csv(r\"data\\IMDB Dataset.csv\")\n",
    "\n",
    "X = df['review']\n",
    "y = df['sentiment']\n",
    "\n",
    "# Creating a balanced sample of X and y, representing 0.01 of the data\n",
    "X_total, X_sample, y_total, y_sample = train_test_split(X, y, test_size=0.01, stratify=y, random_state=42)\n",
    "# Split the sample into training and testing sets\n",
    "X_train, X_test, y_train, y_test = train_test_split(X_sample, y_sample, test_size=0.5, stratify=y_sample, random_state=42)\n",
    "print(len(X_train), len(X_test))"
   ]
  },
  {
   "cell_type": "markdown",
   "metadata": {},
   "source": [
    "# OpenAI API for summarizing text.\n",
    "- To be used when the number of tokens > 512 and the sentiment analysis is not funtioning."
   ]
  },
  {
   "cell_type": "code",
   "execution_count": null,
   "metadata": {},
   "outputs": [],
   "source": [
    "# Set your OpenAI API key\n",
    "# openai.api_key = \"YOUR_API_KEY\"\n",
    "# openai.api_key_path = r\"C:\\Users\\danie\\Documents\\GitHub\\NLP_Project_AI23\\API_KEY_OPENAI_250110.txt\"\n",
    "'''\n",
    "def summarize_text(text):\n",
    "    response = openai.ChatCompletion.create(\n",
    "        model=\"gpt-3.5-turbo\",  # Use \"gpt-4\" if needed\n",
    "        messages=[\n",
    "            {\"role\": \"system\", \"content\": \"You are a helpful assistant that summarizes text.\"},\n",
    "            {\"role\": \"user\", \"content\": f\"Summarize this text: {text}\"},\n",
    "            ],\n",
    "        max_tokens=500,  # Limit the output to 500 tokens\n",
    "        temperature=0.5  # Controls randomness, 0.5 is a balanced value\n",
    "    )\n",
    "    \n",
    "    # Extract the summary from the response\n",
    "    summary = response['choices'][0]['message']['content']\n",
    "    return summary\n",
    "\n",
    "# Example usage\n",
    "#text = \"The movie Andaz Apna Apna in my books is the top 5 intelligent comedy movies ever made in Bollywood perhaps even Hollywood. <br /><br />When the movie released i was a 8 year old and I heard it was a flop but I never understood till now why was it a flop...but let me tell you one thing...this movie would have more money by selling home Cassettes and DVDs and by showing in TV movie channels than any hit movie in theaters. This movie has been shown countless times in Movie channels and I think even now the public love and the TV producers keep repeating the movie again and again. I personally have watched the entire movie more than 80 -100 times and I still love it.....<br /><br />The performance by both Aamir khan as Amar and Salman khan as Prem is mind blowing but i especially liked the performance of Aamir khan as a street smart guy....his dialogs in the movie are Hilarious... the story is simple and heres how it goes.....<br /><br />Amar and Prem are poor , lazy chaps and come from a poor family of tailors and Amars father is a barber. Then they both get a news that a Millionaire 's daughter from London is coming to India to look for a suitable match ...both Amar and Prem think that this is a brilliant opportunity to become super rich.....therefore they both head out to woo Raveena Tandon..(the millionaires daughter)......in their journey they both hate each other and each one of them try to fool the other in order to marry Raveena.....the comedy scenes in between are so hilarious that you would need a glass of water to stop the pain in your stomach by laughing.......and then there is Raveenas Uncle (Millionaire's look alike brother) Teja who wants to take revenge from Raveenas father.....since he is broke and Raveenas dad is a millionaire......his plans include kidnapping Raveena to blackmail Raveenas dad for which he hires 2 butlers.....<br /><br />but later on we get to know that there is a twist in the movie (watch the movie to know).......then there is Shakti Kapoor as crime master Gogo who is also incredibly funny......<br /><br />The thing which stood out for me were the dialogs in the movie which has become a legend of sorts.....Aamir khan uses his  ' aaila  '  brilliantly and Salman goes like  ' OOima  ' ........and for Gogo there is  '  Jab Raat Ko Bacha Soota Nahi Hain to Ma Bolti Hain Ki Sooja Nahi to Gogo Aa Jaega '  ......each and every scene is so funny......<br /><br />I especially liked the one in which Aamir khan and Salman goto get Raveena from Teja and they both go in a Luna having  ' chillar '  money in a bag....that scene is so funny..<br /><br />I recommend anyone who understands Hindi or Urdu to watch this movie ......this is one movie that I would recommend having a DVD and you will never regret......\"\n",
    "#summary = summarize_text(text)\n",
    "#summary =summarize_text(X_test[3:4])\n",
    "#print(\"Summary:\", summary)\n",
    "'''"
   ]
  },
  {
   "cell_type": "markdown",
   "metadata": {},
   "source": [
    "Check the length of the strings and ask OpenAI for a summary where the numbers of tokens exceed 512."
   ]
  },
  {
   "cell_type": "code",
   "execution_count": 25,
   "metadata": {},
   "outputs": [
    {
     "name": "stderr",
     "output_type": "stream",
     "text": [
      "Token indices sequence length is longer than the specified maximum sequence length for this model (834 > 512). Running this sequence through the model will result in indexing errors\n"
     ]
    },
    {
     "name": "stdout",
     "output_type": "stream",
     "text": [
      "API calls: 28\n",
      "\n",
      "0      I just saw this movie the other day when I ren...\n",
      "1      I love the movie. It brought me back to the be...\n",
      "2      Okay, just by reading the title you would thin...\n",
      "3      First off, this really is my favorite film eve...\n",
      "4      The text discusses the author's appreciation f...\n",
      "                             ...                        \n",
      "245    This film was excellent - the emotional power ...\n",
      "246    MAY CONTAIN SPOILERS. This movie was the worst...\n",
      "247    I was unfortunate enough to see this movie at ...\n",
      "248    A reasonable effort is summary for this film. ...\n",
      "249    One word for it. Hilarious. I haven't watched ...\n",
      "Length: 250, dtype: object\n"
     ]
    }
   ],
   "source": [
    "tokenizer = AutoTokenizer.from_pretrained(\"distilbert-base-uncased-finetuned-sst-2-english\")\n",
    "\n",
    "checked_texts, nbr_API_calls = dfunc.create_checked_texts(X_test, tokenizer=tokenizer)\n",
    "print(f\"API calls: {nbr_API_calls}\")\n",
    "print(f\"\\n{checked_texts}\")"
   ]
  },
  {
   "cell_type": "markdown",
   "metadata": {},
   "source": [
    "Perform sentiment analysis with chosen language model:"
   ]
  },
  {
   "cell_type": "code",
   "execution_count": 26,
   "metadata": {},
   "outputs": [
    {
     "name": "stdout",
     "output_type": "stream",
     "text": [
      "WARNING:tensorflow:From c:\\Users\\danie\\Documents\\GitHub\\NLP_Project_AI23\\.venv\\Lib\\site-packages\\tf_keras\\src\\losses.py:2976: The name tf.losses.sparse_softmax_cross_entropy is deprecated. Please use tf.compat.v1.losses.sparse_softmax_cross_entropy instead.\n",
      "\n",
      "WARNING:tensorflow:From c:\\Users\\danie\\Documents\\GitHub\\NLP_Project_AI23\\.venv\\Lib\\site-packages\\tf_keras\\src\\backend.py:873: The name tf.get_default_graph is deprecated. Please use tf.compat.v1.get_default_graph instead.\n",
      "\n"
     ]
    },
    {
     "name": "stderr",
     "output_type": "stream",
     "text": [
      "All PyTorch model weights were used when initializing TFDistilBertForSequenceClassification.\n",
      "\n",
      "All the weights of TFDistilBertForSequenceClassification were initialized from the PyTorch model.\n",
      "If your task is similar to the task the model of the checkpoint was trained on, you can already use TFDistilBertForSequenceClassification for predictions without further training.\n",
      "Device set to use 0\n"
     ]
    }
   ],
   "source": [
    "sentiment_pipeline = pipeline(\"sentiment-analysis\", model=\"distilbert-base-uncased-finetuned-sst-2-english\", framework=\"tf\")\n",
    "\n",
    "sentiment_results = dfunc.create_sentiment_analysis(checked_texts, sentiment_pipeline=sentiment_pipeline)"
   ]
  },
  {
   "cell_type": "code",
   "execution_count": 27,
   "metadata": {},
   "outputs": [
    {
     "data": {
      "text/plain": [
       "43574    positive\n",
       "42039    negative\n",
       "Name: sentiment, dtype: object"
      ]
     },
     "execution_count": 27,
     "metadata": {},
     "output_type": "execute_result"
    }
   ],
   "source": [
    "y_test[1:3]"
   ]
  },
  {
   "cell_type": "code",
   "execution_count": 29,
   "metadata": {},
   "outputs": [
    {
     "data": {
      "text/plain": [
       "43574    I love the movie. It brought me back to the be...\n",
       "42039    Okay, just by reading the title you would thin...\n",
       "Name: review, dtype: object"
      ]
     },
     "execution_count": 29,
     "metadata": {},
     "output_type": "execute_result"
    }
   ],
   "source": [
    "X_test[1:3]"
   ]
  },
  {
   "cell_type": "code",
   "execution_count": 30,
   "metadata": {},
   "outputs": [
    {
     "data": {
      "text/plain": [
       "1    positive\n",
       "2    negative\n",
       "dtype: object"
      ]
     },
     "execution_count": 30,
     "metadata": {},
     "output_type": "execute_result"
    }
   ],
   "source": [
    "sentiment_results[1:3]"
   ]
  },
  {
   "cell_type": "markdown",
   "metadata": {},
   "source": [
    "Plot confusion matrix:"
   ]
  },
  {
   "cell_type": "code",
   "execution_count": null,
   "metadata": {},
   "outputs": [
    {
     "data": {
      "image/png": "[encoded data removed]",
      "text/plain": [
       "<Figure size 700x450 with 2 Axes>"
      ]
     },
     "metadata": {},
     "output_type": "display_data"
    },
    {
     "name": "stdout",
     "output_type": "stream",
     "text": [
      "Accuracy: 0.90\n"
     ]
    }
   ],
   "source": [
    "cm = confusion_matrix(y_test[:min(len(y_test), len(sentiment_results))], sentiment_results)\n",
    "dfunc.plot_confusion_matrix(cm, title=\"DistilBERT Sentiment Analysis\")\n",
    "accuracy = accuracy_score(y_test[:min(len(y_test), len(sentiment_results))], sentiment_results)\n",
    "print(f\"Accuracy: {accuracy:.2f}\")"
   ]
  },
  {
   "cell_type": "markdown",
   "metadata": {},
   "source": [
    "# OpenAI for sentiment analysis:\n",
    "- Instead of asking ChatGPT to summarize texts that are too long to be fed into the DistilBERT sentiment analysis, ask ChatGPT for a sentiment analysis on every movie review."
   ]
  },
  {
   "cell_type": "code",
   "execution_count": 12,
   "metadata": {},
   "outputs": [],
   "source": [
    "'''\n",
    "def openai_sentiment_analysis(text):\n",
    "    response = openai.ChatCompletion.create(\n",
    "        model=\"gpt-3.5-turbo\",  # Use \"gpt-4\" if needed\n",
    "        messages=[\n",
    "            {\"role\": \"system\", \"content\": \"You are a helpful assistant that based on a text creates a sentiment analysis.\"},\n",
    "            {\"role\": \"user\", \"content\": f\"Create a sentiment analysis on this text: {text}. The answer from you should be either 'positive' or 'negative', always lowercase.\"},\n",
    "            ],\n",
    "        max_tokens=2,  # Limit the output to 500 tokens\n",
    "        temperature=0.5  # Controls randomness, 0.5 is a balanced value\n",
    "    )\n",
    "    \n",
    "    # Extract the summary from the response\n",
    "    openai_sentiment_analysis = response['choices'][0]['message']['content']\n",
    "    return openai_sentiment_analysis\n",
    "'''"
   ]
  },
  {
   "cell_type": "code",
   "execution_count": 3,
   "metadata": {},
   "outputs": [
    {
     "name": "stdout",
     "output_type": "stream",
     "text": [
      "I just saw this movie the other day when I rented \n",
      "positive\n",
      "API calls: 1\n",
      "I love the movie. It brought me back to the best t\n",
      "positive\n",
      "API calls: 2\n",
      "Okay, just by reading the title you would think th\n",
      "negative\n",
      "API calls: 3\n",
      "First off, this really is my favorite film ever. I\n",
      "positive\n",
      "API calls: 4\n",
      "Being a completely broke film buff with a house to\n",
      "negative\n",
      "API calls: 5\n",
      "Super Speedway makes a great demo of your new DVD \n",
      "positive\n",
      "API calls: 6\n",
      "This movie is not for everyone. You're either brig\n",
      "positive\n",
      "API calls: 7\n",
      "I used to love the Muppets. The Muppet Movie, The \n",
      "negative\n",
      "API calls: 8\n",
      "Two houses, one street, one phone booth, one car, \n",
      "positive\n",
      "API calls: 9\n",
      "Oppenheimer was a GREAT series (it was the first t\n",
      "positive\n",
      "API calls: 10\n",
      "I've been playing this movie incessantly this mont\n",
      "positive\n",
      "API calls: 11\n",
      "When I was a kid, I loved \"Tiny Toons\". I especial\n",
      "positive\n",
      "API calls: 12\n",
      "\"Mararía\" really disappointed me. I can't consider\n",
      "negative\n",
      "API calls: 13\n",
      "This movie was awful in the worst way: you just di\n",
      "negative\n",
      "API calls: 14\n",
      "\"Cover Girl\" is the best musical Rita Hayworth eve\n",
      "positive\n",
      "API calls: 15\n",
      "Nurse Charlotte Beale(the lovely Rosie Holotik)has\n",
      "negative\n",
      "API calls: 16\n",
      "i watched this movie 10 years ago. and have watche\n",
      "positive\n",
      "API calls: 17\n",
      "More like psychological analysis of movies, but Ps\n",
      "positive\n",
      "API calls: 18\n",
      "Giving credit where it's due, only the technicolor\n",
      "negative\n",
      "API calls: 19\n",
      "I can see what this film was intending to do. Unfo\n",
      "negative\n",
      "API calls: 20\n",
      "And this somebody is me. And not only me, as I can\n",
      "positive\n",
      "API calls: 21\n",
      "That's a problem I have with movies that come on t\n",
      "positive\n",
      "API calls: 22\n",
      "I went through great efforts to get this movie aft\n",
      "negative\n",
      "API calls: 23\n",
      "If Mulder was looking for his real father here he \n",
      "positive\n",
      "API calls: 24\n",
      "Being a transplanted New Yorker, I might be more c\n",
      "positive\n",
      "API calls: 25\n",
      "I'm always surprised about how many times you'll s\n",
      "positive\n",
      "API calls: 26\n",
      "Sherlock Holmes (Basil Rathbone) begins this story\n",
      "positive\n",
      "API calls: 27\n",
      "On monday, earlier this week, sometime in July, I \n",
      "positive\n",
      "API calls: 28\n",
      "This is NOT the masterpiece that is Snow White, Ci\n",
      "positive\n",
      "API calls: 29\n",
      "Burt Reynolds directed this action movie and (surp\n",
      "negative\n",
      "API calls: 30\n",
      "A number of posters have commented on the unsatisf\n",
      "negative\n",
      "API calls: 31\n",
      "Before seeing this movie, I was expecting a fictio\n",
      "negative\n",
      "API calls: 32\n",
      "This is total swill. If you take The Devil's Rejec\n",
      "negative\n",
      "API calls: 33\n",
      "A glacier slide inside a cavernous ice mountain se\n",
      "positive\n",
      "API calls: 34\n",
      "Possibly John Cassavetes best film to date, and de\n",
      "positive\n",
      "API calls: 35\n",
      "Oh dear! The BBC is not about to be knocked off it\n",
      "negative\n",
      "API calls: 36\n",
      "The last couple of weeks in the life of a dead vag\n",
      "negative\n",
      "API calls: 37\n",
      "My observations: vamp outfit at end is ravishing a\n",
      "positive\n",
      "API calls: 38\n",
      "This is a really heart-warming family movie. It ha\n",
      "positive\n",
      "API calls: 39\n",
      "Enjoyed this 1936 film with plenty of veteran clas\n",
      "positive\n",
      "API calls: 40\n",
      "Very, very humdrum movie fare here with Stella Ste\n",
      "negative\n",
      "API calls: 41\n",
      "What an insult to Olivia D'Abo who plays the film'\n",
      "negative\n",
      "API calls: 42\n",
      "\"Love Life\" explores a very culturally relevant sc\n",
      "negative\n",
      "API calls: 43\n",
      "Yes, this is one of the great musical movies I gre\n",
      "positive\n",
      "API calls: 44\n",
      "Why does this piece of film have so many raving re\n",
      "negative\n",
      "API calls: 45\n",
      "Having heard quite positive reviews and having see\n",
      "positive\n",
      "API calls: 46\n",
      "`Manna From Heaven' is a delightfully compelling f\n",
      "positive\n",
      "API calls: 47\n",
      "This film should be seen by as many people as poss\n",
      "positive\n",
      "API calls: 48\n",
      "This is one of the best horror / suspense films th\n",
      "positive\n",
      "API calls: 49\n",
      "This is another film I missed out on Italian TV as\n",
      "negative\n",
      "API calls: 50\n",
      "Mendez and Marichal have provided us with a seriou\n",
      "negative\n",
      "API calls: 51\n",
      "A rousing adventure form director George Stevens (\n",
      "positive\n",
      "API calls: 52\n",
      "What I loved about the on-screen adaptation of The\n",
      "positive\n",
      "API calls: 53\n",
      "First off let me say that this movie is nothing sp\n",
      "negative\n",
      "API calls: 54\n",
      "After having seen the Canadian/Icelandic/British 2\n",
      "negative\n",
      "API calls: 55\n",
      "The movie opens with a flashback to Doddsville Cou\n",
      "negative\n",
      "API calls: 56\n",
      "You talking' to Me? (1987) is a pretty bad movie s\n",
      "negative\n",
      "API calls: 57\n",
      "i would like to comment the series as a great effo\n",
      "positive\n",
      "API calls: 58\n",
      "\"Four Daughters\" begins as just another clone of \"\n",
      "positive\n",
      "API calls: 59\n",
      "Outstanding film of 1943 with Paul Lukas giving an\n",
      "positive\n",
      "API calls: 60\n",
      "This version of ALICE IN WONDERLAND is truly origi\n",
      "positive\n",
      "API calls: 61\n",
      "To my eternal shame, I've never seen a silent movi\n",
      "positive\n",
      "API calls: 62\n",
      "I watched this movie last week sometime and had th\n",
      "negative\n",
      "API calls: 63\n",
      "Slackers is just another teen movie that's not rea\n",
      "negative\n",
      "API calls: 64\n",
      "Directed and written by the famous/infamous Edward\n",
      "negative\n",
      "API calls: 65\n",
      "the photography is good, the costumes are good, bu\n",
      "negative\n",
      "API calls: 66\n",
      "Camp North Star and it's Camp counselor extraordin\n",
      "positive\n",
      "API calls: 67\n",
      "Both Jackie and Candice are terrific in this movie\n",
      "positive\n",
      "API calls: 68\n",
      "I'm a big fan of the old westerns, and do not beli\n",
      "negative\n",
      "API calls: 69\n",
      "This was in short a terrible disappointment. By fa\n",
      "negative\n",
      "API calls: 70\n",
      "I have read the 28 most recent comments by various\n",
      "negative\n",
      "API calls: 71\n",
      "At the end of this episode Holmes asks Watson not \n",
      "negative\n",
      "API calls: 72\n",
      "Knights was just a beginning of a series, a pilot,\n",
      "negative\n",
      "API calls: 73\n",
      "At least the under ten year old set will stay inte\n",
      "positive\n",
      "API calls: 74\n",
      "I caught this film at a test screening. Was very s\n",
      "positive\n",
      "API calls: 75\n",
      "OK, let's get this clear. I'm really not into sci-\n",
      "positive\n",
      "API calls: 76\n",
      "Andrewjlau, I could not agree more. My girlfriend \n",
      "negative\n",
      "API calls: 77\n",
      "The Cell is weak on plot, filled with holes and ha\n",
      "positive\n",
      "API calls: 78\n",
      "I am not going to lie. Despite looking interesting\n",
      "positive\n",
      "API calls: 79\n",
      "OK I'll be honest, when I first saw the trailer fo\n",
      "positive\n",
      "API calls: 80\n",
      "If you haven't already seen this movie of Mary-Kat\n",
      "positive\n",
      "API calls: 81\n",
      "The only print of CHIKAMATUS MONOGATARI I've been \n",
      "negative\n",
      "API calls: 82\n",
      "I am a fan of the previous Best of the Best films.\n",
      "negative\n",
      "API calls: 83\n",
      "Something that really does not go down right with \n",
      "negative\n",
      "API calls: 84\n",
      "That was one of the lines in a trailer about this \n",
      "positive\n",
      "API calls: 85\n",
      "i'll admit. i think Uma Thurman is the most beauti\n",
      "negative\n",
      "API calls: 86\n",
      "I was lucky enough to see this film at a festival \n",
      "positive\n",
      "API calls: 87\n",
      "The Stock Market Crash of 1929 and the Depression \n",
      "positive\n",
      "API calls: 88\n",
      "It doesn't take balls to make-fun of retarded peop\n",
      "negative\n",
      "API calls: 89\n",
      "Gabe Ryan (Frankie Thomas) gets out of reform scho\n",
      "positive\n",
      "API calls: 90\n",
      "Another movie to suffer without an adventure to ru\n",
      "negative\n",
      "API calls: 91\n",
      "I Am Curious is really two films in one - half of \n",
      "negative\n",
      "API calls: 92\n",
      "Although many audio recordings of great musicians \n",
      "positive\n",
      "API calls: 93\n",
      "I picked up this movie with the intention of getti\n",
      "negative\n",
      "API calls: 94\n",
      "The cover on the DVD and disc is freaking awesome,\n",
      "negative\n",
      "API calls: 95\n",
      "Having worked professionally with young girls on t\n",
      "positive\n",
      "API calls: 96\n",
      "Everything about this movie is awful.<br /><br />Y\n",
      "negative\n",
      "API calls: 97\n",
      "I am a big fan of Fred MacMurray and Carole Lombar\n",
      "negative\n",
      "API calls: 98\n",
      "I can't imagine a director whose thirst for blood \n",
      "positive\n",
      "API calls: 99\n",
      "World War I gets a glossy, sepia-tinted makeover i\n",
      "negative\n",
      "API calls: 100\n",
      "The story idea is excellent. Unfortunately, the ex\n",
      "negative\n",
      "API calls: 101\n",
      "I can't believe I am so angry after seeing this th\n",
      "negative\n",
      "API calls: 102\n",
      "We all know that some of the greatest movies of al\n",
      "negative\n",
      "API calls: 103\n",
      "My favorite movie genre is the western, it's reall\n",
      "positive\n",
      "API calls: 104\n",
      "Neatly sandwiched between THE STRANGER, a small fi\n",
      "positive\n",
      "API calls: 105\n",
      "I saw this movie recently. 2 hours later, my head \n",
      "positive\n",
      "API calls: 106\n",
      "Looking for proof that real life is more entertain\n",
      "positive\n",
      "API calls: 107\n",
      "This is surely British humour at its best. It tend\n",
      "positive\n",
      "API calls: 108\n",
      "Cultural Vandalism Is the new Hallmark production \n",
      "positive\n",
      "API calls: 109\n",
      "Valley Girl is the definitive 1980's movie with ca\n",
      "positive\n",
      "API calls: 110\n",
      "As I have said before, I am NOT a fan of Tweety. H\n",
      "negative\n",
      "API calls: 111\n",
      "When two writers make a screenplay of a horror ver\n",
      "negative\n",
      "API calls: 112\n",
      "This movie is very bad. In fact, the only reason w\n",
      "negative\n",
      "API calls: 113\n",
      "Honestly, I can't be bothered to spend my time wri\n",
      "negative\n",
      "API calls: 114\n",
      "This film contain far too much meaningless violenc\n",
      "negative\n",
      "API calls: 115\n",
      "I don't understand people. Why is it that this mov\n",
      "negative\n",
      "API calls: 116\n",
      "The German regional-broadcast-station WDR has show\n",
      "negative\n",
      "API calls: 117\n",
      "One of the better teen comedies to be filmed durin\n",
      "positive\n",
      "API calls: 118\n",
      "This movie is a cyborg in and of itself: half nons\n",
      "The sentiment analysis of the text is overwhelmingly negative.\n",
      "API calls: 119\n",
      "This is a feel-good movie and nothing more. And fo\n",
      "positive\n",
      "API calls: 120\n",
      "As a sci-fi and casual Angelina Jolie fan, I thoug\n",
      "negative\n",
      "API calls: 121\n",
      "This was a shockingly bad movie and I literally ga\n",
      "negative\n",
      "API calls: 122\n",
      "If you feel like wasting 86 minutes on a film that\n",
      "negative\n",
      "API calls: 123\n",
      "Granny is definitely one of the worst horror movie\n",
      "negative\n",
      "API calls: 124\n",
      "Pretentious claptrap, updating Herman Melville (!)\n",
      "negative\n",
      "API calls: 125\n",
      "George C. Scott gives his finest and funniest with\n",
      "positive\n",
      "API calls: 126\n",
      "Despite its pedigree, the most interesting things \n",
      "positive\n",
      "API calls: 127\n",
      "The operative rule in the making of this film seem\n",
      "negative\n",
      "API calls: 128\n",
      "Lost has been one of the most mesmerizing and thri\n",
      "positive\n",
      "API calls: 129\n",
      "I've tried watching it twice, though I haven't bee\n",
      "negative\n",
      "API calls: 130\n",
      "I saw this at an arty cinema that was also showing\n",
      "negative\n",
      "API calls: 131\n",
      "In Landscape after the Battle, Andrzej Wajda in th\n",
      "positive\n",
      "API calls: 132\n",
      "This British documentary was recently shown on Com\n",
      "negative\n",
      "API calls: 133\n",
      "It's one of those dramas that's so bad that it alm\n",
      "negative\n",
      "API calls: 134\n",
      "Not sure why this movie seems to have gotten such \n",
      "negative\n",
      "API calls: 135\n",
      "Caught this 1969 film on cable TCM one night. I re\n",
      "positive\n",
      "API calls: 136\n",
      "I'm not a big musical fan, but this is one of the \n",
      "positive\n",
      "API calls: 137\n",
      "Having seen \"Triumph of the Will,\" I can only say \n",
      "negative\n",
      "API calls: 138\n",
      "First of all, I just wanna say that I'm a very big\n",
      "negative\n",
      "API calls: 139\n",
      "I was totally impressed by Shelley Adrienne's \"Wai\n",
      "positive\n",
      "API calls: 140\n",
      "I like Kevin Bacon and Cathy Moriarty, and I love \n",
      "negative\n",
      "API calls: 141\n",
      "The plot outline of this movie is similar to the o\n",
      "negative\n",
      "API calls: 142\n",
      "This review is based on the dubbed Shock-o-Rama vi\n",
      "negative\n",
      "API calls: 143\n",
      "Another try, another miss. France may be doomed fo\n",
      "negative\n",
      "API calls: 144\n",
      "I saw 'Descent' last night at the Stockholm Film F\n",
      "negative\n",
      "API calls: 145\n",
      "I am a HUGE Tenacious D fan, and I think this is n\n",
      "positive\n",
      "API calls: 146\n",
      "I love the comics. Although I do have problems ful\n",
      "negative\n",
      "API calls: 147\n",
      "all the acting done in the first season has been r\n",
      "positive\n",
      "API calls: 148\n",
      "In 1990 I saw Kathy Ireland in person - I was at U\n",
      "negative\n",
      "API calls: 149\n",
      "on the contrary to the person listed above me i fe\n",
      "positive\n",
      "API calls: 150\n",
      "I remember trying a few minutes of this film, I'm \n",
      "positive\n",
      "API calls: 151\n",
      "A wonderful film ahead of its time,<br /><br />I t\n",
      "positive\n",
      "API calls: 152\n",
      "This movie was so bad I don't know whether to laug\n",
      "negative\n",
      "API calls: 153\n",
      "I rank this the best of the Zorro chapterplays.The\n",
      "positive\n",
      "API calls: 154\n",
      "I don't know why this has gotten any decent review\n",
      "negative\n",
      "API calls: 155\n",
      "This film must have done well in the box office, i\n",
      "negative\n",
      "API calls: 156\n",
      "I don't think this can legally qualify as \"film.\" \n",
      "negative\n",
      "API calls: 157\n",
      "I think this movie actually has a lot of nice thin\n",
      "positive\n",
      "API calls: 158\n",
      "This film is scary because you can find yourself r\n",
      "positive\n",
      "API calls: 159\n",
      "Michael Stearns plays Mike, a sexually frustrated \n",
      "negative\n",
      "API calls: 160\n",
      "I never dreamed when I started watching this DVD t\n",
      "positive\n",
      "API calls: 161\n",
      "No wonder Pamela Springsteen gave up acting to bec\n",
      "negative\n",
      "API calls: 162\n",
      "Not even 'lesser' Hitch, but simply a bad movie. T\n",
      "negative\n",
      "API calls: 163\n",
      "There is no way to describe how really, really, re\n",
      "negative\n",
      "API calls: 164\n",
      "How Disney can you get? Preppy rich girls act like\n",
      "negative\n",
      "API calls: 165\n",
      "I first saw this film when it was transmitted arou\n",
      "positive\n",
      "API calls: 166\n",
      "\"The Deer Hunter's\" success with critics and publi\n",
      "negative\n",
      "API calls: 167\n",
      "Boogie Nights follows a theme that is extremely fa\n",
      "positive\n",
      "API calls: 168\n",
      "I started watching this because i thought it was a\n",
      "negative\n",
      "API calls: 169\n",
      "tell you what that was excellent. Dylan Moran is s\n",
      "positive\n",
      "API calls: 170\n",
      "I made the mistake of watching \"Dark Star\" (1974) \n",
      "negative\n",
      "API calls: 171\n",
      "What is most disturbing about this film is not tha\n",
      "negative\n",
      "API calls: 172\n",
      "I just wondering what is the purpose of making mov\n",
      "negative\n",
      "API calls: 173\n",
      "Octavio Paz, Mexican poet, writer, and diplomat, w\n",
      "positive\n",
      "API calls: 174\n",
      "Thomas Capano was not Anne Marie's boss Tom Carper\n",
      "negative\n",
      "API calls: 175\n",
      "Worry not, Disney fans--this special edition DVD o\n",
      "positive\n",
      "API calls: 176\n",
      "Not as bad as you've heard. There are actually som\n",
      "negative\n",
      "API calls: 177\n",
      "Ivan (Valeri Nikolayev) is a bitter, cynical journ\n",
      "negative\n",
      "API calls: 178\n",
      "Horrible film with bits of the Ramones strewn abou\n",
      "negative\n",
      "API calls: 179\n",
      "Sorry - this movie is just a cheap TV-Production. \n",
      "negative\n",
      "API calls: 180\n",
      "I would have liked to give this movie a zero but t\n",
      "negative\n",
      "API calls: 181\n",
      "Joseph H. Lewis was one of the finest directors of\n",
      "positive\n",
      "API calls: 182\n",
      "I just watched this film, and I have to say it sur\n",
      "positive\n",
      "API calls: 183\n",
      "How they got Al Pacino to play in this movie is be\n",
      "negative\n",
      "API calls: 184\n",
      "I saw this last night at a screening for a marketi\n",
      "positive\n",
      "API calls: 185\n",
      "As a Mystery Science Theatre 3000 fan, I can withs\n",
      "negative\n",
      "API calls: 186\n",
      "'Ned Kelly' is a wonderfully made Australian film \n",
      "positive\n",
      "API calls: 187\n",
      "THE TOY BOX (1971) BOMB<br /><br />Sure, I like lo\n",
      "negative\n",
      "API calls: 188\n",
      "It is only Robert De Niro film which I really hate\n",
      "negative\n",
      "API calls: 189\n",
      "\"Challenge to be Free\" was one of the first films \n",
      "positive\n",
      "API calls: 190\n",
      "This is the latest entry in the long series of fil\n",
      "positive\n",
      "API calls: 191\n",
      "This is more of the same thing that made this cart\n",
      "positive\n",
      "API calls: 192\n",
      "This awful effort just goes to show what happens w\n",
      "negative\n",
      "API calls: 193\n",
      "This film takes what could have been a good idea, \n",
      "negative\n",
      "API calls: 194\n",
      "This almost documentary look at an enterprising bo\n",
      "positive\n",
      "API calls: 195\n",
      "Watching this stinker constitutes cruel and unusal\n",
      "negative\n",
      "API calls: 196\n",
      "I first saw this film over 25 years ago on British\n",
      "negative\n",
      "API calls: 197\n",
      "I did not think this movie was worth anything bad \n",
      "negative\n",
      "API calls: 198\n",
      "When I rented Domino I was expected it to be very \n",
      "negative\n",
      "API calls: 199\n",
      "I am fully aware there is no statistical data that\n",
      "negative\n",
      "API calls: 200\n",
      "Why such a generic title? Santa Claus??? So bland \n",
      "negative\n",
      "API calls: 201\n",
      "Perry Mason: The Case of the Glass Coffin finds Ra\n",
      "negative\n",
      "API calls: 202\n",
      "This was Charlie Chaplin's first all-talking film.\n",
      "negative\n",
      "API calls: 203\n",
      "I saw this movie a few years back on the BBC i sat\n",
      "negative\n",
      "API calls: 204\n",
      "Ossessione, adapted loosely (or if it is as loose \n",
      "positive\n",
      "API calls: 205\n",
      "Well the main reason I tuned in to watch this film\n",
      "positive\n",
      "API calls: 206\n",
      "By 1955, five years after this one was released Ja\n",
      "positive\n",
      "API calls: 207\n",
      "I cringed when I heard the first canned laugh trac\n",
      "negative\n",
      "API calls: 208\n",
      "Besides all of the technical mistakes ....<br /><b\n",
      "negative\n",
      "API calls: 209\n",
      "1. I've seen Branaghs Hamlet: Branagh is too old, \n",
      "negative\n",
      "API calls: 210\n",
      "OK this movie was really \"unique\" shall we say. Ca\n",
      "negative\n",
      "API calls: 211\n",
      "Someone actually gave this movie 2 stars. There's \n",
      "negative\n",
      "API calls: 212\n",
      "A tough sell: British playwright Ronald Harwood ad\n",
      "negative\n",
      "API calls: 213\n",
      "Well...the movie was a fun watch. The main problem\n",
      "negative\n",
      "API calls: 214\n",
      "This is a good film for die-hard Chucky fans. Okay\n",
      "positive\n",
      "API calls: 215\n",
      "Tears of Kali is an original yet flawed horror fil\n",
      "positive\n",
      "API calls: 216\n",
      "James Gandolfini is a good actor so what ever did \n",
      "negative\n",
      "API calls: 217\n",
      "Slaughter High is about a boy named Marty. He was \n",
      "positive\n",
      "API calls: 218\n",
      "\"D.O.A\" is an involving and entertaining little pi\n",
      "positive\n",
      "API calls: 219\n",
      "OK, so this film is well acted. It has good direct\n",
      "negative\n",
      "API calls: 220\n",
      "Mark Pirro's \"Deathrow Gameshow\" of 1987 is a blac\n",
      "negative\n",
      "API calls: 221\n",
      "The monster from Enemy Mine somehow made his way i\n",
      "negative\n",
      "API calls: 222\n",
      "A very good film, focusing on a very important iss\n",
      "positive\n",
      "API calls: 223\n",
      "I’d been interested in watching this ever since it\n",
      "negative\n",
      "API calls: 224\n",
      "Twist endings can be really cool in a movie. It's \n",
      "negative\n",
      "API calls: 225\n",
      "The Finnish version of Robert Altman's \"Short Cuts\n",
      "positive\n",
      "API calls: 226\n",
      "I just watched The Incredible Melting Man for the \n",
      "negative\n",
      "API calls: 227\n",
      "Full marks for Pacino's rendering of the speech ov\n",
      "positive\n",
      "API calls: 228\n",
      "We're talking about a low budget film, and it's un\n",
      "positive\n",
      "API calls: 229\n",
      "this movie I saw some 10 years ago (maybe more), I\n",
      "positive\n",
      "API calls: 230\n",
      "Dracula 3000 or Van Helsing \"Dracula's Revenge\" (C\n",
      "negative\n",
      "API calls: 231\n",
      "I think i was one of the people who found this ano\n",
      "positive\n",
      "API calls: 232\n",
      "This was one of the slowest movies I have ever had\n",
      "negative\n",
      "API calls: 233\n",
      "It may be a remake of the 1937 film by Capra, but \n",
      "positive\n",
      "API calls: 234\n",
      "Vincente Minelli movies are usually worth your tim\n",
      "negative\n",
      "API calls: 235\n",
      "Patricia Hunter: Oh, professor, do you also make a\n",
      "positive\n",
      "API calls: 236\n",
      "Very good drama although it appeared to have a few\n",
      "negative\n",
      "API calls: 237\n",
      "The majority of Stephen King's short stories are l\n",
      "negative\n",
      "API calls: 238\n",
      "*WARNING* Spoilers ahead... The writers of this st\n",
      "positive\n",
      "API calls: 239\n",
      "Will Smith is smooth as usual in the movie Hitch. \n",
      "positive\n",
      "API calls: 240\n",
      "Catscratch is the best thing to come out of Nickel\n",
      "positive\n",
      "API calls: 241\n",
      "I thought this movie was awful. I understand it wa\n",
      "negative\n",
      "API calls: 242\n",
      "There are rumours that a fourth Underworld is goin\n",
      "negative\n",
      "API calls: 243\n",
      "A really good Australian film .Beautifully recreat\n",
      "positive\n",
      "API calls: 244\n",
      "This is a great movie for any fan of Hong Kong act\n",
      "positive\n",
      "API calls: 245\n",
      "This film was excellent - the emotional power of T\n",
      "positive\n",
      "API calls: 246\n",
      "MAY CONTAIN SPOILERS. This movie was the worst mov\n",
      "negative\n",
      "API calls: 247\n",
      "I was unfortunate enough to see this movie at a fr\n",
      "negative\n",
      "API calls: 248\n",
      "A reasonable effort is summary for this film. A go\n",
      "negative\n",
      "API calls: 249\n",
      "One word for it. Hilarious. I haven't watched at m\n",
      "positive\n",
      "API calls: 250\n"
     ]
    }
   ],
   "source": [
    "openai_sentiment_results = dfunc.create_openai_sentiment_analysis(X_test)"
   ]
  },
  {
   "cell_type": "code",
   "execution_count": 4,
   "metadata": {},
   "outputs": [
    {
     "name": "stdout",
     "output_type": "stream",
     "text": [
      "['positive' 'negative'\n",
      " 'the sentiment analysis of the text is overwhelmingly negative.']\n"
     ]
    }
   ],
   "source": [
    "print(openai_sentiment_results[0].unique())"
   ]
  },
  {
   "cell_type": "code",
   "execution_count": 6,
   "metadata": {},
   "outputs": [
    {
     "data": {
      "text/plain": [
       "array(['positive', 'negative'], dtype=object)"
      ]
     },
     "execution_count": 6,
     "metadata": {},
     "output_type": "execute_result"
    }
   ],
   "source": [
    "openai_sentiment_results_series = pd.Series(openai_sentiment_results[0]) # gör sen serie\n",
    "openai_sentiment_results_series = openai_sentiment_results_series.apply(lambda x: x.replace(\"the sentiment analysis of the text is 'negative'.\", \"negative\"))\n",
    "openai_sentiment_results_series = openai_sentiment_results_series.apply(lambda x: x.replace('the sentiment analysis of the text is negative.', \"negative\"))\n",
    "openai_sentiment_results_series = openai_sentiment_results_series.apply(lambda x: x.replace('the sentiment analysis of the text is overwhelmingly negative.', \"negative\"))\n",
    "openai_sentiment_results_series.unique()"
   ]
  },
  {
   "cell_type": "code",
   "execution_count": null,
   "metadata": {},
   "outputs": [],
   "source": [
    "openai_sentiment_results_series.to_csv(r\"data\\openai_sentiment_results_series_250.csv\")"
   ]
  },
  {
   "cell_type": "code",
   "execution_count": 18,
   "metadata": {},
   "outputs": [],
   "source": [
    "openai_sentiment_results_series = pd.read_csv(r\"data\\openai_sentiment_results_series_250.csv\")\n",
    "openai_sentiment_results_series = openai_sentiment_results_series['0']"
   ]
  },
  {
   "cell_type": "code",
   "execution_count": 19,
   "metadata": {},
   "outputs": [
    {
     "data": {
      "image/png": "[encoded data removed]",
      "text/plain": [
       "<Figure size 700x450 with 2 Axes>"
      ]
     },
     "metadata": {},
     "output_type": "display_data"
    },
    {
     "name": "stdout",
     "output_type": "stream",
     "text": [
      "Accuracy: 0.91\n"
     ]
    }
   ],
   "source": [
    "cm = confusion_matrix(y_test[:min(len(y_test), len(openai_sentiment_results_series))], openai_sentiment_results_series)\n",
    "dfunc.plot_confusion_matrix(cm, title=\"OpenAI Sentiment Analysis\")\n",
    "accuracy = accuracy_score(y_test[:min(len(y_test), len(openai_sentiment_results_series))], openai_sentiment_results_series)\n",
    "print(f\"Accuracy: {accuracy:.2f}\")"
   ]
  }
 ],
 "metadata": {
  "kernelspec": {
   "display_name": ".venv",
   "language": "python",
   "name": "python3"
  },
  "language_info": {
   "codemirror_mode": {
    "name": "ipython",
    "version": 3
   },
   "file_extension": ".py",
   "mimetype": "text/x-python",
   "name": "python",
   "nbconvert_exporter": "python",
   "pygments_lexer": "ipython3",
   "version": "3.12.6"
  }
 },
 "nbformat": 4,
 "nbformat_minor": 2
}
